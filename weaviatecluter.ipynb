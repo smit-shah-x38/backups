{
 "cells": [
  {
   "cell_type": "code",
   "execution_count": 4,
   "metadata": {},
   "outputs": [
    {
     "name": "stdout",
     "output_type": "stream",
     "text": [
      "Requirement already satisfied: weaviate-client in /opt/conda/envs/venv/lib/python3.11/site-packages (2.5.0)\n",
      "Requirement already satisfied: requests>=2.23.0 in /opt/conda/envs/venv/lib/python3.11/site-packages (from weaviate-client) (2.31.0)\n",
      "Requirement already satisfied: validators>=0.18.2 in /opt/conda/envs/venv/lib/python3.11/site-packages (from weaviate-client) (0.22.0)\n",
      "Requirement already satisfied: tqdm>=4.59.0 in /opt/conda/envs/venv/lib/python3.11/site-packages (from weaviate-client) (4.66.1)\n",
      "Requirement already satisfied: charset-normalizer<4,>=2 in /opt/conda/envs/venv/lib/python3.11/site-packages (from requests>=2.23.0->weaviate-client) (3.2.0)\n",
      "Requirement already satisfied: idna<4,>=2.5 in /opt/conda/envs/venv/lib/python3.11/site-packages (from requests>=2.23.0->weaviate-client) (3.4)\n",
      "Requirement already satisfied: urllib3<3,>=1.21.1 in /opt/conda/envs/venv/lib/python3.11/site-packages (from requests>=2.23.0->weaviate-client) (1.26.16)\n",
      "Requirement already satisfied: certifi>=2017.4.17 in /opt/conda/envs/venv/lib/python3.11/site-packages (from requests>=2.23.0->weaviate-client) (2023.7.22)\n",
      "\u001b[33mWARNING: Running pip as the 'root' user can result in broken permissions and conflicting behaviour with the system package manager. It is recommended to use a virtual environment instead: https://pip.pypa.io/warnings/venv\u001b[0m\u001b[33m\n",
      "\u001b[0mNote: you may need to restart the kernel to use updated packages.\n"
     ]
    }
   ],
   "source": [
    "import sys\n",
    "%pip install weaviate-client"
   ]
  },
  {
   "cell_type": "code",
   "execution_count": 5,
   "metadata": {},
   "outputs": [
    {
     "name": "stdout",
     "output_type": "stream",
     "text": [
      "\u001b[31mERROR: Could not find a version that satisfies the requirement getpass (from versions: none)\u001b[0m\u001b[31m\n",
      "\u001b[0m\u001b[31mERROR: No matching distribution found for getpass\u001b[0m\u001b[31m\n",
      "\u001b[0mNote: you may need to restart the kernel to use updated packages.\n"
     ]
    }
   ],
   "source": [
    "%pip install getpass "
   ]
  },
  {
   "cell_type": "code",
   "execution_count": 9,
   "metadata": {},
   "outputs": [],
   "source": [
    "\n",
    "\n",
    "from getpass import getpass # hide password\n",
    "import weaviate # to communicate to the Weaviate instance\n",
    "from weaviate.tools import WCS\n",
    "\n"
   ]
  },
  {
   "cell_type": "code",
   "execution_count": 11,
   "metadata": {},
   "outputs": [],
   "source": [
    "my_credentials = weaviate.auth.AuthClientPassword(username=\"johannschmidt045@gmail.com\", password=\"Ja3g3r31n$\")"
   ]
  },
  {
   "cell_type": "code",
   "execution_count": 12,
   "metadata": {},
   "outputs": [],
   "source": [
    "\n",
    "\n",
    "my_wcs = WCS(my_credentials)\n",
    "\n"
   ]
  },
  {
   "cell_type": "code",
   "execution_count": 13,
   "metadata": {},
   "outputs": [],
   "source": [
    "weaviate_url = \"https://flabbergoop-1ucb4q7e.weaviate.network\""
   ]
  },
  {
   "cell_type": "code",
   "execution_count": 14,
   "metadata": {},
   "outputs": [],
   "source": [
    "\n",
    "\n",
    "client = weaviate.Client(weaviate_url, auth_client_secret=my_credentials)\n",
    "\n"
   ]
  },
  {
   "cell_type": "code",
   "execution_count": 15,
   "metadata": {},
   "outputs": [
    {
     "name": "stdout",
     "output_type": "stream",
     "text": [
      "Requirement already satisfied: newspaper3k in /opt/conda/envs/venv/lib/python3.11/site-packages (0.2.8)\n",
      "Requirement already satisfied: beautifulsoup4>=4.4.1 in /opt/conda/envs/venv/lib/python3.11/site-packages (from newspaper3k) (4.12.2)\n",
      "Requirement already satisfied: Pillow>=3.3.0 in /opt/conda/envs/venv/lib/python3.11/site-packages (from newspaper3k) (10.0.0)\n",
      "Requirement already satisfied: PyYAML>=3.11 in /opt/conda/envs/venv/lib/python3.11/site-packages (from newspaper3k) (6.0.1)\n",
      "Requirement already satisfied: cssselect>=0.9.2 in /opt/conda/envs/venv/lib/python3.11/site-packages (from newspaper3k) (1.2.0)\n",
      "Requirement already satisfied: lxml>=3.6.0 in /opt/conda/envs/venv/lib/python3.11/site-packages (from newspaper3k) (4.9.3)\n",
      "Requirement already satisfied: nltk>=3.2.1 in /opt/conda/envs/venv/lib/python3.11/site-packages (from newspaper3k) (3.8.1)\n",
      "Requirement already satisfied: requests>=2.10.0 in /opt/conda/envs/venv/lib/python3.11/site-packages (from newspaper3k) (2.31.0)\n",
      "Requirement already satisfied: feedparser>=5.2.1 in /opt/conda/envs/venv/lib/python3.11/site-packages (from newspaper3k) (6.0.10)\n",
      "Requirement already satisfied: tldextract>=2.0.1 in /opt/conda/envs/venv/lib/python3.11/site-packages (from newspaper3k) (3.5.0)\n",
      "Requirement already satisfied: feedfinder2>=0.0.4 in /opt/conda/envs/venv/lib/python3.11/site-packages (from newspaper3k) (0.0.4)\n",
      "Requirement already satisfied: jieba3k>=0.35.1 in /opt/conda/envs/venv/lib/python3.11/site-packages (from newspaper3k) (0.35.1)\n",
      "Requirement already satisfied: python-dateutil>=2.5.3 in /opt/conda/envs/venv/lib/python3.11/site-packages (from newspaper3k) (2.8.2)\n",
      "Requirement already satisfied: tinysegmenter==0.3 in /opt/conda/envs/venv/lib/python3.11/site-packages (from newspaper3k) (0.3)\n",
      "Requirement already satisfied: soupsieve>1.2 in /opt/conda/envs/venv/lib/python3.11/site-packages (from beautifulsoup4>=4.4.1->newspaper3k) (2.5)\n",
      "Requirement already satisfied: six in /opt/conda/envs/venv/lib/python3.11/site-packages (from feedfinder2>=0.0.4->newspaper3k) (1.16.0)\n",
      "Requirement already satisfied: sgmllib3k in /opt/conda/envs/venv/lib/python3.11/site-packages (from feedparser>=5.2.1->newspaper3k) (1.0.0)\n",
      "Requirement already satisfied: click in /opt/conda/envs/venv/lib/python3.11/site-packages (from nltk>=3.2.1->newspaper3k) (8.1.7)\n",
      "Requirement already satisfied: joblib in /opt/conda/envs/venv/lib/python3.11/site-packages (from nltk>=3.2.1->newspaper3k) (1.3.2)\n",
      "Requirement already satisfied: regex>=2021.8.3 in /opt/conda/envs/venv/lib/python3.11/site-packages (from nltk>=3.2.1->newspaper3k) (2023.8.8)\n",
      "Requirement already satisfied: tqdm in /opt/conda/envs/venv/lib/python3.11/site-packages (from nltk>=3.2.1->newspaper3k) (4.66.1)\n",
      "Requirement already satisfied: charset-normalizer<4,>=2 in /opt/conda/envs/venv/lib/python3.11/site-packages (from requests>=2.10.0->newspaper3k) (3.2.0)\n",
      "Requirement already satisfied: idna<4,>=2.5 in /opt/conda/envs/venv/lib/python3.11/site-packages (from requests>=2.10.0->newspaper3k) (3.4)\n",
      "Requirement already satisfied: urllib3<3,>=1.21.1 in /opt/conda/envs/venv/lib/python3.11/site-packages (from requests>=2.10.0->newspaper3k) (1.26.16)\n",
      "Requirement already satisfied: certifi>=2017.4.17 in /opt/conda/envs/venv/lib/python3.11/site-packages (from requests>=2.10.0->newspaper3k) (2023.7.22)\n",
      "Requirement already satisfied: requests-file>=1.4 in /opt/conda/envs/venv/lib/python3.11/site-packages (from tldextract>=2.0.1->newspaper3k) (1.5.1)\n",
      "Requirement already satisfied: filelock>=3.0.8 in /opt/conda/envs/venv/lib/python3.11/site-packages (from tldextract>=2.0.1->newspaper3k) (3.12.3)\n",
      "\u001b[33mWARNING: Running pip as the 'root' user can result in broken permissions and conflicting behaviour with the system package manager. It is recommended to use a virtual environment instead: https://pip.pypa.io/warnings/venv\u001b[0m\u001b[33m\n",
      "\u001b[0mNote: you may need to restart the kernel to use updated packages.\n"
     ]
    }
   ],
   "source": [
    "%pip install newspaper3k"
   ]
  },
  {
   "cell_type": "code",
   "execution_count": 16,
   "metadata": {},
   "outputs": [
    {
     "name": "stderr",
     "output_type": "stream",
     "text": [
      "[nltk_data] Downloading package punkt to /root/nltk_data...\n",
      "[nltk_data]   Package punkt is already up-to-date!\n"
     ]
    },
    {
     "data": {
      "text/plain": [
       "True"
      ]
     },
     "execution_count": 16,
     "metadata": {},
     "output_type": "execute_result"
    }
   ],
   "source": [
    "import nltk # it is a dependency of newspaper3k\n",
    "nltk.download('punkt')"
   ]
  },
  {
   "cell_type": "code",
   "execution_count": 17,
   "metadata": {},
   "outputs": [],
   "source": [
    "import newspaper\n",
    "import uuid\n",
    "import json\n",
    "from tqdm import tqdm\n",
    "\n",
    "def get_articles_from_newspaper(\n",
    "        news_url: str, \n",
    "        max_articles: int=100\n",
    "    ) -> None:\n",
    "    \"\"\"\n",
    "    Download and save newspaper articles as weaviate schemas.\n",
    "    Parameters\n",
    "    ----------\n",
    "    newspaper_url : str\n",
    "        Newspaper title.\n",
    "    \"\"\"\n",
    "    \n",
    "    objects = []\n",
    "    \n",
    "    # Build the actual newspaper    \n",
    "    news_builder = newspaper.build(news_url, memoize_articles=False)\n",
    "    \n",
    "    if max_articles > news_builder.size():\n",
    "        max_articles = news_builder.size()\n",
    "    pbar = tqdm(total=max_articles)\n",
    "    pbar.set_description(f\"{news_url}\")\n",
    "    i = 0\n",
    "    while len(objects) < max_articles and i < news_builder.size():\n",
    "        article = news_builder.articles[i]\n",
    "        try:\n",
    "            article.download()\n",
    "            article.parse()\n",
    "            article.nlp()\n",
    "\n",
    "            if (article.title != '' and \\\n",
    "                article.title is not None and \\\n",
    "                article.summary != '' and \\\n",
    "                article.summary is not None and\\\n",
    "                article.authors):\n",
    "\n",
    "                # create an UUID for the article using its URL\n",
    "                article_id = uuid.uuid3(uuid.NAMESPACE_DNS, article.url)\n",
    "\n",
    "                # create the object\n",
    "                objects.append({\n",
    "                    'id': str(article_id),\n",
    "                    'title': article.title,\n",
    "                    'summary': article.summary,\n",
    "                    'authors': article.authors\n",
    "                })\n",
    "                \n",
    "                pbar.update(1)\n",
    "\n",
    "        except:\n",
    "            # something went wrong with getting the article, ignore it\n",
    "            pass\n",
    "        i += 1\n",
    "    pbar.close()\n",
    "    return objects"
   ]
  },
  {
   "cell_type": "code",
   "execution_count": 18,
   "metadata": {},
   "outputs": [
    {
     "name": "stderr",
     "output_type": "stream",
     "text": [
      "https://www.theguardian.com/international: 100%|██████████| 100/100 [00:34<00:00,  2.87it/s]\n",
      "http://cnn.com: 100%|██████████| 100/100 [00:45<00:00,  2.20it/s]\n"
     ]
    }
   ],
   "source": [
    "\n",
    "\n",
    "data = []\n",
    "data += get_articles_from_newspaper('https://www.theguardian.com/international')\n",
    "data += get_articles_from_newspaper('http://cnn.com')\n",
    "\n"
   ]
  },
  {
   "cell_type": "code",
   "execution_count": 19,
   "metadata": {},
   "outputs": [],
   "source": [
    "article_class_schema = {\n",
    "    # name of the class\n",
    "    \"class\": \"Article\",\n",
    "    # a description of what this class represents\n",
    "    \"description\": \"An Article class to store the article summary and its authors\",\n",
    "    # class properties\n",
    "    \"properties\": [\n",
    "        {\n",
    "            \"name\": \"title\",\n",
    "            \"dataType\": [\"string\"],\n",
    "            \"description\": \"The title of the article\", \n",
    "        },\n",
    "        {\n",
    "            \"name\": \"summary\",\n",
    "            \"dataType\": [\"text\"],\n",
    "            \"description\": \"The summary of the article\",\n",
    "        },\n",
    "        {\n",
    "            \"name\": \"hasAuthors\",\n",
    "            \"dataType\": [\"Author\"],\n",
    "            \"description\": \"The authors this article has\",\n",
    "        }\n",
    "    ]\n",
    "}"
   ]
  },
  {
   "cell_type": "code",
   "execution_count": 20,
   "metadata": {},
   "outputs": [],
   "source": [
    "author_class_schema = {\n",
    "    \"class\": \"Author\",\n",
    "    \"description\": \"An Author class to store the author information\",\n",
    "    \"properties\": [\n",
    "        {\n",
    "            \"name\": \"name\",\n",
    "            \"dataType\": [\"string\"],\n",
    "            \"description\": \"The name of the author\", \n",
    "        },\n",
    "        {\n",
    "            \"name\": \"wroteArticles\",\n",
    "            \"dataType\": [\"Article\"],\n",
    "            \"description\": \"The articles of the author\", \n",
    "        }\n",
    "    ]\n",
    "}"
   ]
  },
  {
   "cell_type": "code",
   "execution_count": 21,
   "metadata": {},
   "outputs": [
    {
     "ename": "UnexpectedStatusCodeException",
     "evalue": "Add properties to classes! Unexpected status code: 422, with response body: {'error': [{'message': \"property 'hasAuthors': invalid dataType: reference property to nonexistent class\"}]}",
     "output_type": "error",
     "traceback": [
      "\u001b[0;31m---------------------------------------------------------------------------\u001b[0m",
      "\u001b[0;31mUnexpectedStatusCodeException\u001b[0m             Traceback (most recent call last)",
      "\u001b[1;32m/var/wd_smit/internal_repos/backups/weaviatecluter.ipynb Cell 14\u001b[0m line \u001b[0;36m1\n\u001b[0;32m----> <a href='vscode-notebook-cell://ssh-remote%2B15.207.14.207/var/wd_smit/internal_repos/backups/weaviatecluter.ipynb#X16sdnNjb2RlLXJlbW90ZQ%3D%3D?line=0'>1</a>\u001b[0m client\u001b[39m.\u001b[39;49mschema\u001b[39m.\u001b[39;49mcreate_class(article_class_schema)\n",
      "File \u001b[0;32m/opt/conda/envs/venv/lib/python3.11/site-packages/weaviate/schema/crud_schema.py:143\u001b[0m, in \u001b[0;36mSchema.create_class\u001b[0;34m(self, schema_class)\u001b[0m\n\u001b[1;32m    141\u001b[0m check_class(loaded_schema_class)\n\u001b[1;32m    142\u001b[0m \u001b[39mself\u001b[39m\u001b[39m.\u001b[39m_create_class_with_premitives(loaded_schema_class)\n\u001b[0;32m--> 143\u001b[0m \u001b[39mself\u001b[39;49m\u001b[39m.\u001b[39;49m_create_complex_properties_from_class(loaded_schema_class)\n",
      "File \u001b[0;32m/opt/conda/envs/venv/lib/python3.11/site-packages/weaviate/schema/crud_schema.py:356\u001b[0m, in \u001b[0;36mSchema._create_complex_properties_from_class\u001b[0;34m(self, schema_class)\u001b[0m\n\u001b[1;32m    354\u001b[0m     \u001b[39mraise\u001b[39;00m \u001b[39mtype\u001b[39m(conn_err)(message)\u001b[39m.\u001b[39mwith_traceback(sys\u001b[39m.\u001b[39mexc_info()[\u001b[39m2\u001b[39m])\n\u001b[1;32m    355\u001b[0m \u001b[39mif\u001b[39;00m response\u001b[39m.\u001b[39mstatus_code \u001b[39m!=\u001b[39m \u001b[39m200\u001b[39m:\n\u001b[0;32m--> 356\u001b[0m     \u001b[39mraise\u001b[39;00m UnexpectedStatusCodeException(\u001b[39m\"\u001b[39m\u001b[39mAdd properties to classes\u001b[39m\u001b[39m\"\u001b[39m, response)\n",
      "\u001b[0;31mUnexpectedStatusCodeException\u001b[0m: Add properties to classes! Unexpected status code: 422, with response body: {'error': [{'message': \"property 'hasAuthors': invalid dataType: reference property to nonexistent class\"}]}"
     ]
    }
   ],
   "source": [
    "client.schema.create_class(article_class_schema)"
   ]
  },
  {
   "cell_type": "code",
   "execution_count": null,
   "metadata": {},
   "outputs": [],
   "source": [
    "# helper function\n",
    "def prettify(json_dict): \n",
    "    print(json.dumps(json_dict, indent=2))\n",
    "\n",
    "\n",
    "\n",
    "prettify(client.schema.get())"
   ]
  },
  {
   "cell_type": "code",
   "execution_count": null,
   "metadata": {},
   "outputs": [],
   "source": [
    "\n",
    "\n",
    "client.schema.create_class(author_class_schema)\n",
    "prettify(client.schema.get())\n",
    "\n"
   ]
  },
  {
   "cell_type": "code",
   "execution_count": null,
   "metadata": {},
   "outputs": [],
   "source": [
    "client.schema.property.create('Article', article_class_schema['properties'][2])"
   ]
  },
  {
   "cell_type": "code",
   "execution_count": null,
   "metadata": {},
   "outputs": [],
   "source": [
    "\n",
    "\n",
    "prettify(client.schema.get())\n",
    "\n"
   ]
  },
  {
   "cell_type": "code",
   "execution_count": null,
   "metadata": {},
   "outputs": [],
   "source": [
    "\n",
    "\n",
    "schema = client.schema.get() # save schema\n",
    "client.schema.delete_all() # delete all classes\n",
    "prettify(client.schema.get())\n",
    "\n"
   ]
  },
  {
   "cell_type": "code",
   "execution_count": null,
   "metadata": {},
   "outputs": [],
   "source": [
    "\n",
    "\n",
    "client.schema.create(schema)\n",
    "prettify(client.schema.get())\n",
    "\n"
   ]
  },
  {
   "cell_type": "code",
   "execution_count": null,
   "metadata": {},
   "outputs": [],
   "source": []
  }
 ],
 "metadata": {
  "kernelspec": {
   "display_name": "venv",
   "language": "python",
   "name": "python3"
  },
  "language_info": {
   "codemirror_mode": {
    "name": "ipython",
    "version": 3
   },
   "file_extension": ".py",
   "mimetype": "text/x-python",
   "name": "python",
   "nbconvert_exporter": "python",
   "pygments_lexer": "ipython3",
   "version": "3.11.5"
  },
  "orig_nbformat": 4
 },
 "nbformat": 4,
 "nbformat_minor": 2
}
