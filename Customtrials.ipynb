{
 "cells": [
  {
   "cell_type": "code",
   "execution_count": 1,
   "metadata": {},
   "outputs": [
    {
     "name": "stderr",
     "output_type": "stream",
     "text": [
      "2023-06-27 11:57:18.629169: I tensorflow/core/util/port.cc:110] oneDNN custom operations are on. You may see slightly different numerical results due to floating-point round-off errors from different computation orders. To turn them off, set the environment variable `TF_ENABLE_ONEDNN_OPTS=0`.\n",
      "2023-06-27 11:57:18.680341: I tensorflow/core/platform/cpu_feature_guard.cc:182] This TensorFlow binary is optimized to use available CPU instructions in performance-critical operations.\n",
      "To enable the following instructions: AVX2 AVX512F AVX512_VNNI FMA, in other operations, rebuild TensorFlow with the appropriate compiler flags.\n",
      "2023-06-27 11:57:19.454418: W tensorflow/compiler/tf2tensorrt/utils/py_utils.cc:38] TF-TRT Warning: Could not find TensorRT\n"
     ]
    },
    {
     "name": "stdout",
     "output_type": "stream",
     "text": [
      "2.12.0\n"
     ]
    }
   ],
   "source": [
    "# TensorFlow and tf.keras\n",
    "import tensorflow as tf\n",
    "from tensorflow import keras\n",
    "from tensorflow.keras.layers import Conv2D, MaxPooling2D, Dropout, Flatten, Dense\n",
    "\n",
    "# Commonly used modules\n",
    "import numpy as np\n",
    "import os\n",
    "import sys\n",
    "\n",
    "# Images, plots, display, and visualization\n",
    "import matplotlib.pyplot as plt\n",
    "import pandas as pd\n",
    "\n",
    "import seaborn as sns\n",
    "import cv2\n",
    "import IPython\n",
    "from six.moves import urllib\n",
    "\n",
    "print(tf.__version__)"
   ]
  },
  {
   "cell_type": "code",
   "execution_count": 2,
   "metadata": {},
   "outputs": [],
   "source": [
    "# # Code for loading Data\n",
    "# dataset = keras.preprocessing.image_dataset_from_directory(\n",
    "#     directory=\"/var/trainingData/\",\n",
    "#     labels=\"inferred\",\n",
    "#     label_mode=\"int\",\n",
    "#     batch_size=32,\n",
    "#     image_size=(180, 180),\n",
    "#     shuffle=True,\n",
    "#     seed=123,\n",
    "# )"
   ]
  },
  {
   "cell_type": "code",
   "execution_count": 3,
   "metadata": {},
   "outputs": [
    {
     "name": "stdout",
     "output_type": "stream",
     "text": [
      "Found 1177313 files belonging to 2002 classes.\n",
      "Using 3531 files for validation.\n"
     ]
    },
    {
     "name": "stderr",
     "output_type": "stream",
     "text": [
      "2023-06-27 11:58:00.697505: I tensorflow/compiler/xla/stream_executor/cuda/cuda_gpu_executor.cc:996] successful NUMA node read from SysFS had negative value (-1), but there must be at least one NUMA node, so returning NUMA node zero. See more at https://github.com/torvalds/linux/blob/v6.0/Documentation/ABI/testing/sysfs-bus-pci#L344-L355\n",
      "2023-06-27 11:58:00.701230: I tensorflow/compiler/xla/stream_executor/cuda/cuda_gpu_executor.cc:996] successful NUMA node read from SysFS had negative value (-1), but there must be at least one NUMA node, so returning NUMA node zero. See more at https://github.com/torvalds/linux/blob/v6.0/Documentation/ABI/testing/sysfs-bus-pci#L344-L355\n",
      "2023-06-27 11:58:00.704675: I tensorflow/compiler/xla/stream_executor/cuda/cuda_gpu_executor.cc:996] successful NUMA node read from SysFS had negative value (-1), but there must be at least one NUMA node, so returning NUMA node zero. See more at https://github.com/torvalds/linux/blob/v6.0/Documentation/ABI/testing/sysfs-bus-pci#L344-L355\n",
      "2023-06-27 11:58:00.708144: I tensorflow/compiler/xla/stream_executor/cuda/cuda_gpu_executor.cc:996] successful NUMA node read from SysFS had negative value (-1), but there must be at least one NUMA node, so returning NUMA node zero. See more at https://github.com/torvalds/linux/blob/v6.0/Documentation/ABI/testing/sysfs-bus-pci#L344-L355\n",
      "2023-06-27 11:58:00.746513: I tensorflow/compiler/xla/stream_executor/cuda/cuda_gpu_executor.cc:996] successful NUMA node read from SysFS had negative value (-1), but there must be at least one NUMA node, so returning NUMA node zero. See more at https://github.com/torvalds/linux/blob/v6.0/Documentation/ABI/testing/sysfs-bus-pci#L344-L355\n",
      "2023-06-27 11:58:00.749694: I tensorflow/compiler/xla/stream_executor/cuda/cuda_gpu_executor.cc:996] successful NUMA node read from SysFS had negative value (-1), but there must be at least one NUMA node, so returning NUMA node zero. See more at https://github.com/torvalds/linux/blob/v6.0/Documentation/ABI/testing/sysfs-bus-pci#L344-L355\n",
      "2023-06-27 11:58:00.752824: I tensorflow/compiler/xla/stream_executor/cuda/cuda_gpu_executor.cc:996] successful NUMA node read from SysFS had negative value (-1), but there must be at least one NUMA node, so returning NUMA node zero. See more at https://github.com/torvalds/linux/blob/v6.0/Documentation/ABI/testing/sysfs-bus-pci#L344-L355\n",
      "2023-06-27 11:58:00.755852: I tensorflow/compiler/xla/stream_executor/cuda/cuda_gpu_executor.cc:996] successful NUMA node read from SysFS had negative value (-1), but there must be at least one NUMA node, so returning NUMA node zero. See more at https://github.com/torvalds/linux/blob/v6.0/Documentation/ABI/testing/sysfs-bus-pci#L344-L355\n",
      "2023-06-27 11:58:00.758914: I tensorflow/compiler/xla/stream_executor/cuda/cuda_gpu_executor.cc:996] successful NUMA node read from SysFS had negative value (-1), but there must be at least one NUMA node, so returning NUMA node zero. See more at https://github.com/torvalds/linux/blob/v6.0/Documentation/ABI/testing/sysfs-bus-pci#L344-L355\n",
      "2023-06-27 11:58:00.761932: I tensorflow/compiler/xla/stream_executor/cuda/cuda_gpu_executor.cc:996] successful NUMA node read from SysFS had negative value (-1), but there must be at least one NUMA node, so returning NUMA node zero. See more at https://github.com/torvalds/linux/blob/v6.0/Documentation/ABI/testing/sysfs-bus-pci#L344-L355\n",
      "2023-06-27 11:58:00.764967: I tensorflow/compiler/xla/stream_executor/cuda/cuda_gpu_executor.cc:996] successful NUMA node read from SysFS had negative value (-1), but there must be at least one NUMA node, so returning NUMA node zero. See more at https://github.com/torvalds/linux/blob/v6.0/Documentation/ABI/testing/sysfs-bus-pci#L344-L355\n",
      "2023-06-27 11:58:00.767962: I tensorflow/compiler/xla/stream_executor/cuda/cuda_gpu_executor.cc:996] successful NUMA node read from SysFS had negative value (-1), but there must be at least one NUMA node, so returning NUMA node zero. See more at https://github.com/torvalds/linux/blob/v6.0/Documentation/ABI/testing/sysfs-bus-pci#L344-L355\n",
      "2023-06-27 11:58:01.396883: I tensorflow/compiler/xla/stream_executor/cuda/cuda_gpu_executor.cc:996] successful NUMA node read from SysFS had negative value (-1), but there must be at least one NUMA node, so returning NUMA node zero. See more at https://github.com/torvalds/linux/blob/v6.0/Documentation/ABI/testing/sysfs-bus-pci#L344-L355\n",
      "2023-06-27 11:58:01.398123: I tensorflow/compiler/xla/stream_executor/cuda/cuda_gpu_executor.cc:996] successful NUMA node read from SysFS had negative value (-1), but there must be at least one NUMA node, so returning NUMA node zero. See more at https://github.com/torvalds/linux/blob/v6.0/Documentation/ABI/testing/sysfs-bus-pci#L344-L355\n",
      "2023-06-27 11:58:01.399310: I tensorflow/compiler/xla/stream_executor/cuda/cuda_gpu_executor.cc:996] successful NUMA node read from SysFS had negative value (-1), but there must be at least one NUMA node, so returning NUMA node zero. See more at https://github.com/torvalds/linux/blob/v6.0/Documentation/ABI/testing/sysfs-bus-pci#L344-L355\n",
      "2023-06-27 11:58:01.400464: I tensorflow/compiler/xla/stream_executor/cuda/cuda_gpu_executor.cc:996] successful NUMA node read from SysFS had negative value (-1), but there must be at least one NUMA node, so returning NUMA node zero. See more at https://github.com/torvalds/linux/blob/v6.0/Documentation/ABI/testing/sysfs-bus-pci#L344-L355\n",
      "2023-06-27 11:58:01.401567: I tensorflow/compiler/xla/stream_executor/cuda/cuda_gpu_executor.cc:996] successful NUMA node read from SysFS had negative value (-1), but there must be at least one NUMA node, so returning NUMA node zero. See more at https://github.com/torvalds/linux/blob/v6.0/Documentation/ABI/testing/sysfs-bus-pci#L344-L355\n",
      "2023-06-27 11:58:01.402578: I tensorflow/compiler/xla/stream_executor/cuda/cuda_gpu_executor.cc:996] successful NUMA node read from SysFS had negative value (-1), but there must be at least one NUMA node, so returning NUMA node zero. See more at https://github.com/torvalds/linux/blob/v6.0/Documentation/ABI/testing/sysfs-bus-pci#L344-L355\n",
      "2023-06-27 11:58:01.403612: I tensorflow/compiler/xla/stream_executor/cuda/cuda_gpu_executor.cc:996] successful NUMA node read from SysFS had negative value (-1), but there must be at least one NUMA node, so returning NUMA node zero. See more at https://github.com/torvalds/linux/blob/v6.0/Documentation/ABI/testing/sysfs-bus-pci#L344-L355\n",
      "2023-06-27 11:58:01.404628: I tensorflow/compiler/xla/stream_executor/cuda/cuda_gpu_executor.cc:996] successful NUMA node read from SysFS had negative value (-1), but there must be at least one NUMA node, so returning NUMA node zero. See more at https://github.com/torvalds/linux/blob/v6.0/Documentation/ABI/testing/sysfs-bus-pci#L344-L355\n",
      "2023-06-27 11:58:01.405650: I tensorflow/compiler/xla/stream_executor/cuda/cuda_gpu_executor.cc:996] successful NUMA node read from SysFS had negative value (-1), but there must be at least one NUMA node, so returning NUMA node zero. See more at https://github.com/torvalds/linux/blob/v6.0/Documentation/ABI/testing/sysfs-bus-pci#L344-L355\n",
      "2023-06-27 11:58:01.406667: I tensorflow/compiler/xla/stream_executor/cuda/cuda_gpu_executor.cc:996] successful NUMA node read from SysFS had negative value (-1), but there must be at least one NUMA node, so returning NUMA node zero. See more at https://github.com/torvalds/linux/blob/v6.0/Documentation/ABI/testing/sysfs-bus-pci#L344-L355\n",
      "2023-06-27 11:58:01.407694: I tensorflow/compiler/xla/stream_executor/cuda/cuda_gpu_executor.cc:996] successful NUMA node read from SysFS had negative value (-1), but there must be at least one NUMA node, so returning NUMA node zero. See more at https://github.com/torvalds/linux/blob/v6.0/Documentation/ABI/testing/sysfs-bus-pci#L344-L355\n",
      "2023-06-27 11:58:01.408711: I tensorflow/compiler/xla/stream_executor/cuda/cuda_gpu_executor.cc:996] successful NUMA node read from SysFS had negative value (-1), but there must be at least one NUMA node, so returning NUMA node zero. See more at https://github.com/torvalds/linux/blob/v6.0/Documentation/ABI/testing/sysfs-bus-pci#L344-L355\n",
      "2023-06-27 11:58:03.703866: I tensorflow/compiler/xla/stream_executor/cuda/cuda_gpu_executor.cc:996] successful NUMA node read from SysFS had negative value (-1), but there must be at least one NUMA node, so returning NUMA node zero. See more at https://github.com/torvalds/linux/blob/v6.0/Documentation/ABI/testing/sysfs-bus-pci#L344-L355\n",
      "2023-06-27 11:58:03.705141: I tensorflow/compiler/xla/stream_executor/cuda/cuda_gpu_executor.cc:996] successful NUMA node read from SysFS had negative value (-1), but there must be at least one NUMA node, so returning NUMA node zero. See more at https://github.com/torvalds/linux/blob/v6.0/Documentation/ABI/testing/sysfs-bus-pci#L344-L355\n",
      "2023-06-27 11:58:03.706303: I tensorflow/compiler/xla/stream_executor/cuda/cuda_gpu_executor.cc:996] successful NUMA node read from SysFS had negative value (-1), but there must be at least one NUMA node, so returning NUMA node zero. See more at https://github.com/torvalds/linux/blob/v6.0/Documentation/ABI/testing/sysfs-bus-pci#L344-L355\n",
      "2023-06-27 11:58:03.707465: I tensorflow/compiler/xla/stream_executor/cuda/cuda_gpu_executor.cc:996] successful NUMA node read from SysFS had negative value (-1), but there must be at least one NUMA node, so returning NUMA node zero. See more at https://github.com/torvalds/linux/blob/v6.0/Documentation/ABI/testing/sysfs-bus-pci#L344-L355\n",
      "2023-06-27 11:58:03.708626: I tensorflow/compiler/xla/stream_executor/cuda/cuda_gpu_executor.cc:996] successful NUMA node read from SysFS had negative value (-1), but there must be at least one NUMA node, so returning NUMA node zero. See more at https://github.com/torvalds/linux/blob/v6.0/Documentation/ABI/testing/sysfs-bus-pci#L344-L355\n",
      "2023-06-27 11:58:03.709677: I tensorflow/compiler/xla/stream_executor/cuda/cuda_gpu_executor.cc:996] successful NUMA node read from SysFS had negative value (-1), but there must be at least one NUMA node, so returning NUMA node zero. See more at https://github.com/torvalds/linux/blob/v6.0/Documentation/ABI/testing/sysfs-bus-pci#L344-L355\n",
      "2023-06-27 11:58:03.710687: I tensorflow/compiler/xla/stream_executor/cuda/cuda_gpu_executor.cc:996] successful NUMA node read from SysFS had negative value (-1), but there must be at least one NUMA node, so returning NUMA node zero. See more at https://github.com/torvalds/linux/blob/v6.0/Documentation/ABI/testing/sysfs-bus-pci#L344-L355\n",
      "2023-06-27 11:58:03.711684: I tensorflow/compiler/xla/stream_executor/cuda/cuda_gpu_executor.cc:996] successful NUMA node read from SysFS had negative value (-1), but there must be at least one NUMA node, so returning NUMA node zero. See more at https://github.com/torvalds/linux/blob/v6.0/Documentation/ABI/testing/sysfs-bus-pci#L344-L355\n",
      "2023-06-27 11:58:03.712718: I tensorflow/compiler/xla/stream_executor/cuda/cuda_gpu_executor.cc:996] successful NUMA node read from SysFS had negative value (-1), but there must be at least one NUMA node, so returning NUMA node zero. See more at https://github.com/torvalds/linux/blob/v6.0/Documentation/ABI/testing/sysfs-bus-pci#L344-L355\n",
      "2023-06-27 11:58:03.713738: I tensorflow/core/common_runtime/gpu/gpu_device.cc:1635] Created device /job:localhost/replica:0/task:0/device:GPU:0 with 13593 MB memory:  -> device: 0, name: Tesla T4, pci bus id: 0000:00:1b.0, compute capability: 7.5\n",
      "2023-06-27 11:58:03.714141: I tensorflow/compiler/xla/stream_executor/cuda/cuda_gpu_executor.cc:996] successful NUMA node read from SysFS had negative value (-1), but there must be at least one NUMA node, so returning NUMA node zero. See more at https://github.com/torvalds/linux/blob/v6.0/Documentation/ABI/testing/sysfs-bus-pci#L344-L355\n",
      "2023-06-27 11:58:03.715143: I tensorflow/core/common_runtime/gpu/gpu_device.cc:1635] Created device /job:localhost/replica:0/task:0/device:GPU:1 with 13593 MB memory:  -> device: 1, name: Tesla T4, pci bus id: 0000:00:1c.0, compute capability: 7.5\n",
      "2023-06-27 11:58:03.715477: I tensorflow/compiler/xla/stream_executor/cuda/cuda_gpu_executor.cc:996] successful NUMA node read from SysFS had negative value (-1), but there must be at least one NUMA node, so returning NUMA node zero. See more at https://github.com/torvalds/linux/blob/v6.0/Documentation/ABI/testing/sysfs-bus-pci#L344-L355\n",
      "2023-06-27 11:58:03.716467: I tensorflow/core/common_runtime/gpu/gpu_device.cc:1635] Created device /job:localhost/replica:0/task:0/device:GPU:2 with 13593 MB memory:  -> device: 2, name: Tesla T4, pci bus id: 0000:00:1d.0, compute capability: 7.5\n",
      "2023-06-27 11:58:03.716718: I tensorflow/compiler/xla/stream_executor/cuda/cuda_gpu_executor.cc:996] successful NUMA node read from SysFS had negative value (-1), but there must be at least one NUMA node, so returning NUMA node zero. See more at https://github.com/torvalds/linux/blob/v6.0/Documentation/ABI/testing/sysfs-bus-pci#L344-L355\n",
      "2023-06-27 11:58:03.717728: I tensorflow/core/common_runtime/gpu/gpu_device.cc:1635] Created device /job:localhost/replica:0/task:0/device:GPU:3 with 13593 MB memory:  -> device: 3, name: Tesla T4, pci bus id: 0000:00:1e.0, compute capability: 7.5\n"
     ]
    },
    {
     "name": "stdout",
     "output_type": "stream",
     "text": [
      "Found 1177313 files belonging to 2002 classes.\n",
      "Using 353 files for validation.\n"
     ]
    }
   ],
   "source": [
    "# Assume your directory structure is:\n",
    "# main_directory/\n",
    "# ...class_a/\n",
    "# ......a_image_1.jpg\n",
    "# ......a_image_2.jpg\n",
    "# ...class_b/\n",
    "# ......b_image_1.jpg\n",
    "# ......b_image_2.jpg\n",
    "\n",
    "# Create a training dataset from the main directory with 70% of data\n",
    "train_ds = tf.keras.utils.image_dataset_from_directory(\n",
    "  directory=\"/var/trainingData/\",\n",
    "  labels=\"inferred\",\n",
    "  label_mode=\"int\",\n",
    "  image_size=(180, 180),\n",
    "  batch_size=32,\n",
    "  shuffle=True,\n",
    "  seed=123,\n",
    "  validation_split=0.003,\n",
    "  subset=\"validation\",\n",
    ")\n",
    "\n",
    "# Create a validation dataset from the main directory with 30% of data\n",
    "val_ds = tf.keras.utils.image_dataset_from_directory(\n",
    "  directory=\"/var/trainingData/\",\n",
    "  labels=\"inferred\",\n",
    "  label_mode=\"int\",\n",
    "  image_size=(180, 180),\n",
    "  batch_size=32,\n",
    "  shuffle=True,\n",
    "  seed=123,\n",
    "  validation_split=0.0003,\n",
    "  subset=\"validation\",\n",
    ")"
   ]
  },
  {
   "cell_type": "code",
   "execution_count": 4,
   "metadata": {},
   "outputs": [],
   "source": [
    "# # Get the class names from the train_ds\n",
    "# class_names = train_ds.class_names\n",
    "\n",
    "# # Print the class names\n",
    "# print(class_names)\n",
    "\n",
    "# # Get the number of labels\n",
    "# num_labels = len(class_names)\n",
    "\n",
    "# # Print the number of labels\n",
    "# print(num_labels)\n"
   ]
  },
  {
   "cell_type": "code",
   "execution_count": 5,
   "metadata": {},
   "outputs": [],
   "source": [
    "# # Define a filter function that checks if the image has a non-zero shape\n",
    "# def filter_zero_images(image, label):\n",
    "#   # Get the shape of the image\n",
    "#   image_shape = tf.shape(image)\n",
    "#   # Check if the shape is non-zero\n",
    "#   non_zero = tf.math.reduce_any(image_shape > 0)\n",
    "#   # Return True or False\n",
    "#   return non_zero\n",
    "\n",
    "# # Apply the filter function to your batch dataset\n",
    "# train_ds = train_ds.filter(filter_zero_images)"
   ]
  },
  {
   "cell_type": "code",
   "execution_count": null,
   "metadata": {},
   "outputs": [],
   "source": [
    "\n"
   ]
  },
  {
   "cell_type": "code",
   "execution_count": 6,
   "metadata": {},
   "outputs": [],
   "source": [
    "# # Get the number of elements in the dataset as a tensor\n",
    "# num_elements = tf.data.experimental.cardinality(train_ds)\n",
    "\n",
    "# # Convert the tensor to a Python integer\n",
    "# num_elements = tf.get_static_value(num_elements)\n",
    "\n",
    "# # Print the number of elements\n",
    "# print(num_elements)\n"
   ]
  },
  {
   "cell_type": "code",
   "execution_count": 7,
   "metadata": {},
   "outputs": [],
   "source": [
    "# # Get the batch size\n",
    "# batch_size = 32\n",
    "\n",
    "# # Get the number of images by multiplying the number of elements by the batch size\n",
    "# num_images = num_elements * batch_size\n",
    "\n",
    "# # Print the number of images\n",
    "# print(num_images)\n"
   ]
  },
  {
   "cell_type": "code",
   "execution_count": 8,
   "metadata": {},
   "outputs": [],
   "source": [
    "# import torchvision.transforms as transforms\n",
    "\n",
    "# # Define a transform to convert PIL images to tensors\n",
    "# transform = transforms.ToTensor()\n",
    "\n",
    "# # Iterate through each sample in the train_dataset\n",
    "# for sample in train_dataset:\n",
    "#     # Get the image tensor from the sample\n",
    "#     image_tensor = sample[0]\n",
    "\n",
    "#     # Check if the image tensor is empty\n",
    "#     if image_tensor.numel() == 0:\n",
    "#         print(\"Empty image found!\")\n",
    "\n",
    "#     # If you want to convert the image tensor to a PIL image for further processing:\n",
    "#     # Convert the image tensor to a PIL image\n",
    "#     image_pil = transforms.ToPILImage()(image_tensor)\n",
    "\n",
    "#     # Check if the PIL image dimensions are zero\n",
    "#     width, height = image_pil.size\n",
    "#     if width == 0 or height == 0:\n",
    "#         print(\"Empty image found!\")"
   ]
  },
  {
   "cell_type": "code",
   "execution_count": 9,
   "metadata": {},
   "outputs": [],
   "source": [
    "# Define a custom layer that wraps the resize_with_pad function\n",
    "class ResizeWithPadLayer(tf.keras.layers.Layer):\n",
    "  def __init__(self, target_height, target_width):\n",
    "    super(ResizeWithPadLayer, self).__init__()\n",
    "    self.target_height = target_height\n",
    "    self.target_width = target_width\n",
    "\n",
    "  def call(self, inputs):\n",
    "    return tf.image.resize_with_pad(inputs, self.target_height, self.target_width)\n",
    "\n",
    "# Create an instance of the custom layer\n",
    "resize_with_pad_layer = ResizeWithPadLayer(180, 180)\n"
   ]
  },
  {
   "cell_type": "code",
   "execution_count": 10,
   "metadata": {},
   "outputs": [
    {
     "name": "stdout",
     "output_type": "stream",
     "text": [
      "Model: \"sequential\"\n",
      "_________________________________________________________________\n",
      " Layer (type)                Output Shape              Param #   \n",
      "=================================================================\n",
      " rescaling (Rescaling)       (None, 180, 180, 3)       0         \n",
      "                                                                 \n",
      " conv2d (Conv2D)             (None, 180, 180, 16)      448       \n",
      "                                                                 \n",
      " max_pooling2d (MaxPooling2D  (None, 90, 90, 16)       0         \n",
      " )                                                               \n",
      "                                                                 \n",
      " conv2d_1 (Conv2D)           (None, 90, 90, 32)        4640      \n",
      "                                                                 \n",
      " max_pooling2d_1 (MaxPooling  (None, 45, 45, 32)       0         \n",
      " 2D)                                                             \n",
      "                                                                 \n",
      " dropout (Dropout)           (None, 45, 45, 32)        0         \n",
      "                                                                 \n",
      " flatten (Flatten)           (None, 64800)             0         \n",
      "                                                                 \n",
      " dense (Dense)               (None, 128)               8294528   \n",
      "                                                                 \n",
      " dropout_1 (Dropout)         (None, 128)               0         \n",
      "                                                                 \n",
      " dense_1 (Dense)             (None, 2002)              258258    \n",
      "                                                                 \n",
      "=================================================================\n",
      "Total params: 8,557,874\n",
      "Trainable params: 8,557,874\n",
      "Non-trainable params: 0\n",
      "_________________________________________________________________\n"
     ]
    }
   ],
   "source": [
    "# Import the necessary modules\n",
    "import tensorflow as tf\n",
    "from tensorflow import keras\n",
    "from tensorflow.keras import layers\n",
    "\n",
    "# Define the model architecture\n",
    "model = keras.Sequential([\n",
    "  # Rescale the pixel values to the range [0, 1]\n",
    "  layers.Rescaling(1./255, input_shape=(180, 180, 3)),\n",
    "  # Apply a convolutional layer with 16 filters and a 3x3 kernel\n",
    "  layers.Conv2D(16, 3, padding='same', activation='relu'),\n",
    "  # Apply a max pooling layer with a 2x2 window\n",
    "  layers.MaxPooling2D(),\n",
    "  # Apply another convolutional layer with 32 filters and a 3x3 kernel\n",
    "  layers.Conv2D(32, 3, padding='same', activation='relu'),\n",
    "  # Apply another max pooling layer with a 2x2 window\n",
    "  layers.MaxPooling2D(),\n",
    "  # Apply a dropout layer with a rate of 0.2 to reduce overfitting\n",
    "  layers.Dropout(0.2),\n",
    "  # Flatten the output of the previous layer\n",
    "  layers.Flatten(),\n",
    "  # Apply a dense layer with 128 units and a ReLU activation\n",
    "  layers.Dense(128, activation='relu'),\n",
    "  # Apply another dropout layer with a rate of 0.2\n",
    "  layers.Dropout(0.2),\n",
    "  # Apply an output layer with the number of classes and a softmax activation\n",
    "  layers.Dense(2002, activation='softmax')\n",
    "])\n",
    "\n",
    "# Compile the model with an optimizer, a loss function, and a metric\n",
    "model.compile(optimizer='adam',\n",
    "              loss=tf.keras.losses.SparseCategoricalCrossentropy(from_logits=True),\n",
    "              metrics=['accuracy'])\n",
    "\n",
    "# Print the model summary\n",
    "model.summary()\n"
   ]
  },
  {
   "cell_type": "code",
   "execution_count": 11,
   "metadata": {},
   "outputs": [
    {
     "name": "stdout",
     "output_type": "stream",
     "text": [
      "Epoch 1/10\n"
     ]
    },
    {
     "name": "stderr",
     "output_type": "stream",
     "text": [
      "2023-06-27 11:58:42.991029: I tensorflow/core/common_runtime/executor.cc:1197] [/device:CPU:0] (DEBUG INFO) Executor start aborting (this does not indicate an error and you can ignore this message): INVALID_ARGUMENT: You must feed a value for placeholder tensor 'Placeholder/_4' with dtype int32 and shape [3531]\n",
      "\t [[{{node Placeholder/_4}}]]\n",
      "2023-06-27 11:58:42.991325: I tensorflow/core/common_runtime/executor.cc:1197] [/device:CPU:0] (DEBUG INFO) Executor start aborting (this does not indicate an error and you can ignore this message): INVALID_ARGUMENT: You must feed a value for placeholder tensor 'Placeholder/_4' with dtype int32 and shape [3531]\n",
      "\t [[{{node Placeholder/_4}}]]\n",
      "/usr/local/lib/python3.8/dist-packages/keras/backend.py:5612: UserWarning: \"`sparse_categorical_crossentropy` received `from_logits=True`, but the `output` argument was produced by a Softmax activation and thus does not represent logits. Was this intended?\n",
      "  output, from_logits = _get_logits(\n",
      "2023-06-27 11:58:43.534599: E tensorflow/core/grappler/optimizers/meta_optimizer.cc:954] layout failed: INVALID_ARGUMENT: Size of values 0 does not match size of permutation 4 @ fanin shape insequential/dropout/dropout/SelectV2-2-TransposeNHWCToNCHW-LayoutOptimizer\n",
      "2023-06-27 11:58:44.528500: I tensorflow/compiler/xla/stream_executor/cuda/cuda_dnn.cc:424] Loaded cuDNN version 8600\n",
      "2023-06-27 11:58:45.349236: I tensorflow/compiler/xla/service/service.cc:169] XLA service 0x7f53d4e2b910 initialized for platform CUDA (this does not guarantee that XLA will be used). Devices:\n",
      "2023-06-27 11:58:45.349262: I tensorflow/compiler/xla/service/service.cc:177]   StreamExecutor device (0): Tesla T4, Compute Capability 7.5\n",
      "2023-06-27 11:58:45.349270: I tensorflow/compiler/xla/service/service.cc:177]   StreamExecutor device (1): Tesla T4, Compute Capability 7.5\n",
      "2023-06-27 11:58:45.349276: I tensorflow/compiler/xla/service/service.cc:177]   StreamExecutor device (2): Tesla T4, Compute Capability 7.5\n",
      "2023-06-27 11:58:45.349281: I tensorflow/compiler/xla/service/service.cc:177]   StreamExecutor device (3): Tesla T4, Compute Capability 7.5\n",
      "2023-06-27 11:58:45.353643: I tensorflow/compiler/mlir/tensorflow/utils/dump_mlir_util.cc:269] disabling MLIR crash reproducer, set env var `MLIR_CRASH_REPRODUCER_DIRECTORY` to enable.\n",
      "2023-06-27 11:58:45.487740: I ./tensorflow/compiler/jit/device_compiler.h:180] Compiled cluster using XLA!  This line is logged at most once for the lifetime of the process.\n"
     ]
    },
    {
     "name": "stdout",
     "output_type": "stream",
     "text": [
      "111/111 [==============================] - ETA: 0s - loss: 7.5991 - accuracy: 5.6641e-04"
     ]
    },
    {
     "name": "stderr",
     "output_type": "stream",
     "text": [
      "2023-06-27 11:58:49.081330: I tensorflow/core/common_runtime/executor.cc:1197] [/device:CPU:0] (DEBUG INFO) Executor start aborting (this does not indicate an error and you can ignore this message): INVALID_ARGUMENT: You must feed a value for placeholder tensor 'Placeholder/_4' with dtype int32 and shape [353]\n",
      "\t [[{{node Placeholder/_4}}]]\n",
      "2023-06-27 11:58:49.081626: I tensorflow/core/common_runtime/executor.cc:1197] [/device:CPU:0] (DEBUG INFO) Executor start aborting (this does not indicate an error and you can ignore this message): INVALID_ARGUMENT: You must feed a value for placeholder tensor 'Placeholder/_0' with dtype string and shape [353]\n",
      "\t [[{{node Placeholder/_0}}]]\n"
     ]
    },
    {
     "name": "stdout",
     "output_type": "stream",
     "text": [
      "111/111 [==============================] - 6s 24ms/step - loss: 7.5991 - accuracy: 5.6641e-04 - val_loss: 7.4687 - val_accuracy: 0.0028\n",
      "Epoch 2/10\n",
      "111/111 [==============================] - 2s 21ms/step - loss: 7.2485 - accuracy: 5.6641e-04 - val_loss: 7.0351 - val_accuracy: 0.0057\n",
      "Epoch 3/10\n",
      "111/111 [==============================] - 2s 20ms/step - loss: 7.1210 - accuracy: 0.0014 - val_loss: 6.7395 - val_accuracy: 0.0142\n",
      "Epoch 4/10\n",
      "111/111 [==============================] - 2s 20ms/step - loss: 7.0189 - accuracy: 0.0042 - val_loss: 6.3629 - val_accuracy: 0.0142\n",
      "Epoch 5/10\n",
      "111/111 [==============================] - 2s 20ms/step - loss: 6.8590 - accuracy: 0.0062 - val_loss: 5.8838 - val_accuracy: 0.0312\n",
      "Epoch 6/10\n",
      "111/111 [==============================] - 2s 20ms/step - loss: 6.5805 - accuracy: 0.0127 - val_loss: 5.2861 - val_accuracy: 0.0850\n",
      "Epoch 7/10\n",
      "111/111 [==============================] - 2s 20ms/step - loss: 6.2666 - accuracy: 0.0255 - val_loss: 5.2969 - val_accuracy: 0.1048\n",
      "Epoch 8/10\n",
      "111/111 [==============================] - 2s 21ms/step - loss: 5.8283 - accuracy: 0.0538 - val_loss: 4.7158 - val_accuracy: 0.1530\n",
      "Epoch 9/10\n",
      "111/111 [==============================] - 2s 20ms/step - loss: 5.2879 - accuracy: 0.0923 - val_loss: 4.2222 - val_accuracy: 0.2011\n",
      "Epoch 10/10\n",
      "111/111 [==============================] - 2s 21ms/step - loss: 4.7925 - accuracy: 0.1283 - val_loss: 3.7920 - val_accuracy: 0.2861\n",
      "12/12 [==============================] - 0s 7ms/step - loss: 3.7920 - accuracy: 0.2861\n",
      "Loss:  3.7919516563415527\n",
      "Accuracy:  0.2861189842224121\n"
     ]
    }
   ],
   "source": [
    "# Train the model for 10 epochs\n",
    "model.fit(train_ds, validation_data=val_ds, epochs=10)\n",
    "\n",
    "# Evaluate the model on the test data\n",
    "loss, accuracy = model.evaluate(val_ds)\n",
    "\n",
    "# Print the loss and accuracy\n",
    "print(\"Loss: \", loss)\n",
    "print(\"Accuracy: \", accuracy)\n"
   ]
  },
  {
   "cell_type": "code",
   "execution_count": null,
   "metadata": {},
   "outputs": [],
   "source": []
  }
 ],
 "metadata": {
  "kernelspec": {
   "display_name": "Python 3",
   "language": "python",
   "name": "python3"
  },
  "language_info": {
   "codemirror_mode": {
    "name": "ipython",
    "version": 3
   },
   "file_extension": ".py",
   "mimetype": "text/x-python",
   "name": "python",
   "nbconvert_exporter": "python",
   "pygments_lexer": "ipython3",
   "version": "3.8.10"
  },
  "orig_nbformat": 4
 },
 "nbformat": 4,
 "nbformat_minor": 2
}
