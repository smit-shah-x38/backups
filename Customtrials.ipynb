{
 "cells": [
  {
   "cell_type": "code",
   "execution_count": 1,
   "metadata": {},
   "outputs": [
    {
     "name": "stderr",
     "output_type": "stream",
     "text": [
      "2023-06-27 13:54:02.186138: I tensorflow/core/util/port.cc:110] oneDNN custom operations are on. You may see slightly different numerical results due to floating-point round-off errors from different computation orders. To turn them off, set the environment variable `TF_ENABLE_ONEDNN_OPTS=0`.\n",
      "2023-06-27 13:54:02.237524: I tensorflow/core/platform/cpu_feature_guard.cc:182] This TensorFlow binary is optimized to use available CPU instructions in performance-critical operations.\n",
      "To enable the following instructions: AVX2 AVX512F AVX512_VNNI FMA, in other operations, rebuild TensorFlow with the appropriate compiler flags.\n",
      "2023-06-27 13:54:03.012127: W tensorflow/compiler/tf2tensorrt/utils/py_utils.cc:38] TF-TRT Warning: Could not find TensorRT\n"
     ]
    },
    {
     "name": "stdout",
     "output_type": "stream",
     "text": [
      "2.12.0\n"
     ]
    }
   ],
   "source": [
    "# TensorFlow and tf.keras\n",
    "import tensorflow as tf\n",
    "from tensorflow import keras\n",
    "from tensorflow.keras.layers import Conv2D, MaxPooling2D, Dropout, Flatten, Dense\n",
    "\n",
    "# Commonly used modules\n",
    "import numpy as np\n",
    "import os\n",
    "import sys\n",
    "\n",
    "# Images, plots, display, and visualization\n",
    "import matplotlib.pyplot as plt\n",
    "import pandas as pd\n",
    "\n",
    "import seaborn as sns\n",
    "import cv2\n",
    "import IPython\n",
    "from six.moves import urllib\n",
    "\n",
    "print(tf.__version__)"
   ]
  },
  {
   "cell_type": "code",
   "execution_count": 2,
   "metadata": {},
   "outputs": [],
   "source": [
    "# # Code for loading Data\n",
    "# dataset = keras.preprocessing.image_dataset_from_directory(\n",
    "#     directory=\"/var/trainingData/\",\n",
    "#     labels=\"inferred\",\n",
    "#     label_mode=\"int\",\n",
    "#     batch_size=32,\n",
    "#     image_size=(180, 180),\n",
    "#     shuffle=True,\n",
    "#     seed=123,\n",
    "# )"
   ]
  },
  {
   "cell_type": "code",
   "execution_count": 3,
   "metadata": {},
   "outputs": [
    {
     "name": "stdout",
     "output_type": "stream",
     "text": [
      "Found 1177313 files belonging to 2002 classes.\n",
      "Using 3531 files for validation.\n"
     ]
    },
    {
     "name": "stderr",
     "output_type": "stream",
     "text": [
      "2023-06-27 13:54:43.521900: I tensorflow/compiler/xla/stream_executor/cuda/cuda_gpu_executor.cc:996] successful NUMA node read from SysFS had negative value (-1), but there must be at least one NUMA node, so returning NUMA node zero. See more at https://github.com/torvalds/linux/blob/v6.0/Documentation/ABI/testing/sysfs-bus-pci#L344-L355\n",
      "2023-06-27 13:54:43.525344: I tensorflow/compiler/xla/stream_executor/cuda/cuda_gpu_executor.cc:996] successful NUMA node read from SysFS had negative value (-1), but there must be at least one NUMA node, so returning NUMA node zero. See more at https://github.com/torvalds/linux/blob/v6.0/Documentation/ABI/testing/sysfs-bus-pci#L344-L355\n",
      "2023-06-27 13:54:43.528700: I tensorflow/compiler/xla/stream_executor/cuda/cuda_gpu_executor.cc:996] successful NUMA node read from SysFS had negative value (-1), but there must be at least one NUMA node, so returning NUMA node zero. See more at https://github.com/torvalds/linux/blob/v6.0/Documentation/ABI/testing/sysfs-bus-pci#L344-L355\n",
      "2023-06-27 13:54:43.532114: I tensorflow/compiler/xla/stream_executor/cuda/cuda_gpu_executor.cc:996] successful NUMA node read from SysFS had negative value (-1), but there must be at least one NUMA node, so returning NUMA node zero. See more at https://github.com/torvalds/linux/blob/v6.0/Documentation/ABI/testing/sysfs-bus-pci#L344-L355\n",
      "2023-06-27 13:54:43.570752: I tensorflow/compiler/xla/stream_executor/cuda/cuda_gpu_executor.cc:996] successful NUMA node read from SysFS had negative value (-1), but there must be at least one NUMA node, so returning NUMA node zero. See more at https://github.com/torvalds/linux/blob/v6.0/Documentation/ABI/testing/sysfs-bus-pci#L344-L355\n",
      "2023-06-27 13:54:43.573856: I tensorflow/compiler/xla/stream_executor/cuda/cuda_gpu_executor.cc:996] successful NUMA node read from SysFS had negative value (-1), but there must be at least one NUMA node, so returning NUMA node zero. See more at https://github.com/torvalds/linux/blob/v6.0/Documentation/ABI/testing/sysfs-bus-pci#L344-L355\n",
      "2023-06-27 13:54:43.577546: I tensorflow/compiler/xla/stream_executor/cuda/cuda_gpu_executor.cc:996] successful NUMA node read from SysFS had negative value (-1), but there must be at least one NUMA node, so returning NUMA node zero. See more at https://github.com/torvalds/linux/blob/v6.0/Documentation/ABI/testing/sysfs-bus-pci#L344-L355\n",
      "2023-06-27 13:54:43.580653: I tensorflow/compiler/xla/stream_executor/cuda/cuda_gpu_executor.cc:996] successful NUMA node read from SysFS had negative value (-1), but there must be at least one NUMA node, so returning NUMA node zero. See more at https://github.com/torvalds/linux/blob/v6.0/Documentation/ABI/testing/sysfs-bus-pci#L344-L355\n",
      "2023-06-27 13:54:43.583648: I tensorflow/compiler/xla/stream_executor/cuda/cuda_gpu_executor.cc:996] successful NUMA node read from SysFS had negative value (-1), but there must be at least one NUMA node, so returning NUMA node zero. See more at https://github.com/torvalds/linux/blob/v6.0/Documentation/ABI/testing/sysfs-bus-pci#L344-L355\n",
      "2023-06-27 13:54:43.586755: I tensorflow/compiler/xla/stream_executor/cuda/cuda_gpu_executor.cc:996] successful NUMA node read from SysFS had negative value (-1), but there must be at least one NUMA node, so returning NUMA node zero. See more at https://github.com/torvalds/linux/blob/v6.0/Documentation/ABI/testing/sysfs-bus-pci#L344-L355\n",
      "2023-06-27 13:54:43.589793: I tensorflow/compiler/xla/stream_executor/cuda/cuda_gpu_executor.cc:996] successful NUMA node read from SysFS had negative value (-1), but there must be at least one NUMA node, so returning NUMA node zero. See more at https://github.com/torvalds/linux/blob/v6.0/Documentation/ABI/testing/sysfs-bus-pci#L344-L355\n",
      "2023-06-27 13:54:43.592884: I tensorflow/compiler/xla/stream_executor/cuda/cuda_gpu_executor.cc:996] successful NUMA node read from SysFS had negative value (-1), but there must be at least one NUMA node, so returning NUMA node zero. See more at https://github.com/torvalds/linux/blob/v6.0/Documentation/ABI/testing/sysfs-bus-pci#L344-L355\n",
      "2023-06-27 13:54:44.235708: I tensorflow/compiler/xla/stream_executor/cuda/cuda_gpu_executor.cc:996] successful NUMA node read from SysFS had negative value (-1), but there must be at least one NUMA node, so returning NUMA node zero. See more at https://github.com/torvalds/linux/blob/v6.0/Documentation/ABI/testing/sysfs-bus-pci#L344-L355\n",
      "2023-06-27 13:54:44.236936: I tensorflow/compiler/xla/stream_executor/cuda/cuda_gpu_executor.cc:996] successful NUMA node read from SysFS had negative value (-1), but there must be at least one NUMA node, so returning NUMA node zero. See more at https://github.com/torvalds/linux/blob/v6.0/Documentation/ABI/testing/sysfs-bus-pci#L344-L355\n",
      "2023-06-27 13:54:44.238110: I tensorflow/compiler/xla/stream_executor/cuda/cuda_gpu_executor.cc:996] successful NUMA node read from SysFS had negative value (-1), but there must be at least one NUMA node, so returning NUMA node zero. See more at https://github.com/torvalds/linux/blob/v6.0/Documentation/ABI/testing/sysfs-bus-pci#L344-L355\n",
      "2023-06-27 13:54:44.239218: I tensorflow/compiler/xla/stream_executor/cuda/cuda_gpu_executor.cc:996] successful NUMA node read from SysFS had negative value (-1), but there must be at least one NUMA node, so returning NUMA node zero. See more at https://github.com/torvalds/linux/blob/v6.0/Documentation/ABI/testing/sysfs-bus-pci#L344-L355\n",
      "2023-06-27 13:54:44.240348: I tensorflow/compiler/xla/stream_executor/cuda/cuda_gpu_executor.cc:996] successful NUMA node read from SysFS had negative value (-1), but there must be at least one NUMA node, so returning NUMA node zero. See more at https://github.com/torvalds/linux/blob/v6.0/Documentation/ABI/testing/sysfs-bus-pci#L344-L355\n",
      "2023-06-27 13:54:44.241363: I tensorflow/compiler/xla/stream_executor/cuda/cuda_gpu_executor.cc:996] successful NUMA node read from SysFS had negative value (-1), but there must be at least one NUMA node, so returning NUMA node zero. See more at https://github.com/torvalds/linux/blob/v6.0/Documentation/ABI/testing/sysfs-bus-pci#L344-L355\n",
      "2023-06-27 13:54:44.242373: I tensorflow/compiler/xla/stream_executor/cuda/cuda_gpu_executor.cc:996] successful NUMA node read from SysFS had negative value (-1), but there must be at least one NUMA node, so returning NUMA node zero. See more at https://github.com/torvalds/linux/blob/v6.0/Documentation/ABI/testing/sysfs-bus-pci#L344-L355\n",
      "2023-06-27 13:54:44.243389: I tensorflow/compiler/xla/stream_executor/cuda/cuda_gpu_executor.cc:996] successful NUMA node read from SysFS had negative value (-1), but there must be at least one NUMA node, so returning NUMA node zero. See more at https://github.com/torvalds/linux/blob/v6.0/Documentation/ABI/testing/sysfs-bus-pci#L344-L355\n",
      "2023-06-27 13:54:44.244401: I tensorflow/compiler/xla/stream_executor/cuda/cuda_gpu_executor.cc:996] successful NUMA node read from SysFS had negative value (-1), but there must be at least one NUMA node, so returning NUMA node zero. See more at https://github.com/torvalds/linux/blob/v6.0/Documentation/ABI/testing/sysfs-bus-pci#L344-L355\n",
      "2023-06-27 13:54:44.245410: I tensorflow/compiler/xla/stream_executor/cuda/cuda_gpu_executor.cc:996] successful NUMA node read from SysFS had negative value (-1), but there must be at least one NUMA node, so returning NUMA node zero. See more at https://github.com/torvalds/linux/blob/v6.0/Documentation/ABI/testing/sysfs-bus-pci#L344-L355\n",
      "2023-06-27 13:54:44.246429: I tensorflow/compiler/xla/stream_executor/cuda/cuda_gpu_executor.cc:996] successful NUMA node read from SysFS had negative value (-1), but there must be at least one NUMA node, so returning NUMA node zero. See more at https://github.com/torvalds/linux/blob/v6.0/Documentation/ABI/testing/sysfs-bus-pci#L344-L355\n",
      "2023-06-27 13:54:44.247428: I tensorflow/compiler/xla/stream_executor/cuda/cuda_gpu_executor.cc:996] successful NUMA node read from SysFS had negative value (-1), but there must be at least one NUMA node, so returning NUMA node zero. See more at https://github.com/torvalds/linux/blob/v6.0/Documentation/ABI/testing/sysfs-bus-pci#L344-L355\n",
      "2023-06-27 13:54:46.577311: I tensorflow/compiler/xla/stream_executor/cuda/cuda_gpu_executor.cc:996] successful NUMA node read from SysFS had negative value (-1), but there must be at least one NUMA node, so returning NUMA node zero. See more at https://github.com/torvalds/linux/blob/v6.0/Documentation/ABI/testing/sysfs-bus-pci#L344-L355\n",
      "2023-06-27 13:54:46.578591: I tensorflow/compiler/xla/stream_executor/cuda/cuda_gpu_executor.cc:996] successful NUMA node read from SysFS had negative value (-1), but there must be at least one NUMA node, so returning NUMA node zero. See more at https://github.com/torvalds/linux/blob/v6.0/Documentation/ABI/testing/sysfs-bus-pci#L344-L355\n",
      "2023-06-27 13:54:46.579806: I tensorflow/compiler/xla/stream_executor/cuda/cuda_gpu_executor.cc:996] successful NUMA node read from SysFS had negative value (-1), but there must be at least one NUMA node, so returning NUMA node zero. See more at https://github.com/torvalds/linux/blob/v6.0/Documentation/ABI/testing/sysfs-bus-pci#L344-L355\n",
      "2023-06-27 13:54:46.580966: I tensorflow/compiler/xla/stream_executor/cuda/cuda_gpu_executor.cc:996] successful NUMA node read from SysFS had negative value (-1), but there must be at least one NUMA node, so returning NUMA node zero. See more at https://github.com/torvalds/linux/blob/v6.0/Documentation/ABI/testing/sysfs-bus-pci#L344-L355\n",
      "2023-06-27 13:54:46.582164: I tensorflow/compiler/xla/stream_executor/cuda/cuda_gpu_executor.cc:996] successful NUMA node read from SysFS had negative value (-1), but there must be at least one NUMA node, so returning NUMA node zero. See more at https://github.com/torvalds/linux/blob/v6.0/Documentation/ABI/testing/sysfs-bus-pci#L344-L355\n",
      "2023-06-27 13:54:46.583193: I tensorflow/compiler/xla/stream_executor/cuda/cuda_gpu_executor.cc:996] successful NUMA node read from SysFS had negative value (-1), but there must be at least one NUMA node, so returning NUMA node zero. See more at https://github.com/torvalds/linux/blob/v6.0/Documentation/ABI/testing/sysfs-bus-pci#L344-L355\n",
      "2023-06-27 13:54:46.584214: I tensorflow/compiler/xla/stream_executor/cuda/cuda_gpu_executor.cc:996] successful NUMA node read from SysFS had negative value (-1), but there must be at least one NUMA node, so returning NUMA node zero. See more at https://github.com/torvalds/linux/blob/v6.0/Documentation/ABI/testing/sysfs-bus-pci#L344-L355\n",
      "2023-06-27 13:54:46.585220: I tensorflow/compiler/xla/stream_executor/cuda/cuda_gpu_executor.cc:996] successful NUMA node read from SysFS had negative value (-1), but there must be at least one NUMA node, so returning NUMA node zero. See more at https://github.com/torvalds/linux/blob/v6.0/Documentation/ABI/testing/sysfs-bus-pci#L344-L355\n",
      "2023-06-27 13:54:46.586252: I tensorflow/compiler/xla/stream_executor/cuda/cuda_gpu_executor.cc:996] successful NUMA node read from SysFS had negative value (-1), but there must be at least one NUMA node, so returning NUMA node zero. See more at https://github.com/torvalds/linux/blob/v6.0/Documentation/ABI/testing/sysfs-bus-pci#L344-L355\n",
      "2023-06-27 13:54:46.587286: I tensorflow/core/common_runtime/gpu/gpu_device.cc:1635] Created device /job:localhost/replica:0/task:0/device:GPU:0 with 13593 MB memory:  -> device: 0, name: Tesla T4, pci bus id: 0000:00:1b.0, compute capability: 7.5\n",
      "2023-06-27 13:54:46.587712: I tensorflow/compiler/xla/stream_executor/cuda/cuda_gpu_executor.cc:996] successful NUMA node read from SysFS had negative value (-1), but there must be at least one NUMA node, so returning NUMA node zero. See more at https://github.com/torvalds/linux/blob/v6.0/Documentation/ABI/testing/sysfs-bus-pci#L344-L355\n",
      "2023-06-27 13:54:46.588708: I tensorflow/core/common_runtime/gpu/gpu_device.cc:1635] Created device /job:localhost/replica:0/task:0/device:GPU:1 with 13593 MB memory:  -> device: 1, name: Tesla T4, pci bus id: 0000:00:1c.0, compute capability: 7.5\n",
      "2023-06-27 13:54:46.589044: I tensorflow/compiler/xla/stream_executor/cuda/cuda_gpu_executor.cc:996] successful NUMA node read from SysFS had negative value (-1), but there must be at least one NUMA node, so returning NUMA node zero. See more at https://github.com/torvalds/linux/blob/v6.0/Documentation/ABI/testing/sysfs-bus-pci#L344-L355\n",
      "2023-06-27 13:54:46.590042: I tensorflow/core/common_runtime/gpu/gpu_device.cc:1635] Created device /job:localhost/replica:0/task:0/device:GPU:2 with 13593 MB memory:  -> device: 2, name: Tesla T4, pci bus id: 0000:00:1d.0, compute capability: 7.5\n",
      "2023-06-27 13:54:46.590302: I tensorflow/compiler/xla/stream_executor/cuda/cuda_gpu_executor.cc:996] successful NUMA node read from SysFS had negative value (-1), but there must be at least one NUMA node, so returning NUMA node zero. See more at https://github.com/torvalds/linux/blob/v6.0/Documentation/ABI/testing/sysfs-bus-pci#L344-L355\n",
      "2023-06-27 13:54:46.591306: I tensorflow/core/common_runtime/gpu/gpu_device.cc:1635] Created device /job:localhost/replica:0/task:0/device:GPU:3 with 13593 MB memory:  -> device: 3, name: Tesla T4, pci bus id: 0000:00:1e.0, compute capability: 7.5\n"
     ]
    },
    {
     "name": "stdout",
     "output_type": "stream",
     "text": [
      "Found 1177313 files belonging to 2002 classes.\n",
      "Using 353 files for validation.\n"
     ]
    }
   ],
   "source": [
    "# Assume your directory structure is:\n",
    "# main_directory/\n",
    "# ...class_a/\n",
    "# ......a_image_1.jpg\n",
    "# ......a_image_2.jpg\n",
    "# ...class_b/\n",
    "# ......b_image_1.jpg\n",
    "# ......b_image_2.jpg\n",
    "\n",
    "# Create a training dataset from the main directory with 70% of data\n",
    "train_ds = tf.keras.utils.image_dataset_from_directory(\n",
    "  directory=\"/var/trainingData/\",\n",
    "  labels=\"inferred\",\n",
    "  label_mode=\"int\",\n",
    "  image_size=(180, 180),\n",
    "  batch_size=32,\n",
    "  shuffle=True,\n",
    "  seed=123,\n",
    "  validation_split=0.003,\n",
    "  subset=\"validation\",\n",
    ")\n",
    "\n",
    "# Create a validation dataset from the main directory with 30% of data\n",
    "val_ds = tf.keras.utils.image_dataset_from_directory(\n",
    "  directory=\"/var/trainingData/\",\n",
    "  labels=\"inferred\",\n",
    "  label_mode=\"int\",\n",
    "  image_size=(180, 180),\n",
    "  batch_size=32,\n",
    "  shuffle=True,\n",
    "  seed=123,\n",
    "  validation_split=0.0003,\n",
    "  subset=\"validation\",\n",
    ")"
   ]
  },
  {
   "cell_type": "code",
   "execution_count": 4,
   "metadata": {},
   "outputs": [],
   "source": [
    "# for image in train_ds:\n",
    "#     print(image)"
   ]
  },
  {
   "cell_type": "code",
   "execution_count": 5,
   "metadata": {},
   "outputs": [
    {
     "data": {
      "text/plain": [
       "<_MapDataset element_spec=(TensorSpec(shape=(None, 180, 180, 3), dtype=tf.float64, name=None), TensorSpec(shape=(None,), dtype=tf.int32, name=None))>"
      ]
     },
     "execution_count": 5,
     "metadata": {},
     "output_type": "execute_result"
    }
   ],
   "source": [
    "train_ds.map(lambda x, y: (tf.cast(x, tf.float64), y))"
   ]
  },
  {
   "cell_type": "code",
   "execution_count": 6,
   "metadata": {},
   "outputs": [],
   "source": [
    "# import os\n",
    "# import glob\n",
    "\n",
    "# # Define the path to the directory\n",
    "# directory_path = '/var/trainingData/'\n",
    "\n",
    "# # Get a list of all subdirectories\n",
    "# subdirectories = [x[0] for x in os.walk(directory_path)]"
   ]
  },
  {
   "cell_type": "code",
   "execution_count": 7,
   "metadata": {},
   "outputs": [],
   "source": [
    "# # Initialize lists to store image file paths and labels\n",
    "# image_paths = []\n",
    "# labels = []\n",
    "\n",
    "# # Loop over each subdirectory\n",
    "# for i, subdir in enumerate(subdirectories[1:]):  # we skip the first element as it is the root directory\n",
    "#     # Find all JPEG or JPG files in the current subdirectory\n",
    "#     files = glob.glob(subdir + '/*.jpg') + glob.glob(subdir + '/*.jpeg')\n",
    "    \n",
    "#     # Add files and labels to the lists\n",
    "#     image_paths += files\n",
    "#     labels += [i] * len(files)"
   ]
  },
  {
   "cell_type": "code",
   "execution_count": 8,
   "metadata": {},
   "outputs": [],
   "source": [
    "# import tensorflow as tf\n",
    "\n",
    "# # Create a dataset of image file paths and labels\n",
    "# dataset = tf.data.Dataset.from_tensor_slices((image_paths, labels))\n"
   ]
  },
  {
   "cell_type": "code",
   "execution_count": 9,
   "metadata": {},
   "outputs": [],
   "source": [
    "# def load_and_preprocess_image(path, label):\n",
    "#     # Load the image\n",
    "#     image = tf.io.read_file(path)\n",
    "#     image = tf.image.decode_jpeg(image, channels=3)\n",
    "    \n",
    "#     # Resize the image\n",
    "#     image = tf.image.resize(image, [224, 224])\n",
    "    \n",
    "#     # Normalize pixel values\n",
    "#     image /= 255.0\n",
    "    \n",
    "#     return image, label\n"
   ]
  },
  {
   "cell_type": "code",
   "execution_count": 10,
   "metadata": {},
   "outputs": [],
   "source": [
    "# Apply the function to all elements in the dataset\n",
    "# dataset = dataset.map(load_and_preprocess_image)\n"
   ]
  },
  {
   "cell_type": "code",
   "execution_count": 11,
   "metadata": {},
   "outputs": [],
   "source": [
    "# # Batch, shuffle, and prefetch\n",
    "# dataset = dataset.batch(32)\n",
    "# dataset = dataset.shuffle(buffer_size=10000)\n",
    "# dataset = dataset.prefetch(tf.data.experimental.AUTOTUNE)\n"
   ]
  },
  {
   "cell_type": "code",
   "execution_count": 12,
   "metadata": {},
   "outputs": [],
   "source": [
    "# import sys"
   ]
  },
  {
   "cell_type": "code",
   "execution_count": 13,
   "metadata": {},
   "outputs": [],
   "source": [
    "# print(sys.getsizeof(train_ds))"
   ]
  },
  {
   "cell_type": "code",
   "execution_count": 14,
   "metadata": {},
   "outputs": [],
   "source": [
    "# print(list(train_ds.as_numpy_iterator()))\n",
    "# print(type(train_ds))"
   ]
  },
  {
   "cell_type": "code",
   "execution_count": 15,
   "metadata": {},
   "outputs": [],
   "source": [
    "# import pandas as pd\n",
    "\n",
    "# train_df = pd.DataFrame(train_ds)"
   ]
  },
  {
   "cell_type": "code",
   "execution_count": 16,
   "metadata": {},
   "outputs": [],
   "source": [
    "# print(len(train_df))"
   ]
  },
  {
   "cell_type": "code",
   "execution_count": 17,
   "metadata": {},
   "outputs": [],
   "source": [
    "# print(train_df.info())"
   ]
  },
  {
   "cell_type": "code",
   "execution_count": 18,
   "metadata": {},
   "outputs": [],
   "source": [
    "# print(len(train_ds))"
   ]
  },
  {
   "cell_type": "code",
   "execution_count": 19,
   "metadata": {},
   "outputs": [
    {
     "name": "stdout",
     "output_type": "stream",
     "text": [
      "['10224538031', '10257748031', '10257749031', '10257750031', '10257751031', '10279695031', '10279696031', '10279697031', '10279698031', '10279699031', '10372577031', '10372578031', '10372579031', '10372581031', '10372582031', '10384218031', '10384223031', '10384226031', '10384249031', '10384421031', '10384422031', '10471672031', '10471673031', '10485223031', '10485224031', '10485225031', '10485226031', '10485227031', '10485228031', '10485229031', '10543752031', '10543775031', '10543793031', '10543796031', '10850757031', '10850759031', '10850760031', '10850761031', '10850762031', '10850763031', '10850766031', '10850769031', '10850770031', '10850773031', '10850776031', '10850777031', '10877335031', '10877336031', '10972853031', '11124458031', '11124459031', '11364588031', '11364590031', '11364599031', '11364606031', '11364607031', '11364617031', '11364619031', '11364620031', '11364623031', '11364665031', '11364684031', '11366946031', '11366947031', '11366949031', '11599544031', '11622248031', '11870706031', '11960414031', '12443961031', '12492010031', '12492011031', '12639957031', '12639958031', '12668322031', '12780049031', '13051514031', '13051515031', '13712610031', '13712611031', '1374278031', '1374280031', '1374281031', '1374282031', '1374283031', '1374285031', '1374287031', '1374288031', '1374290031', '1374293031', '1374294031', '1374295031', '1374296031', '1374297031', '1374299031', '1374300031', '1374301031', '1374302031', '1374304031', '1374306031', '1374308031', '1374309031', '1374315031', '1374320031', '1374322031', '1374334031', '1374338031', '1374341031', '1374342031', '1374344031', '1374346031', '1374347031', '1374348031', '1374349031', '1374350031', '1374351031', '1374352031', '1374355031', '1374359031', '1374360031', '1374362031', '1374363031', '1374365031', '1374366031', '1374367031', '1374368031', '1374369031', '1374370031', '1374372031', '1374373031', '1374374031', '1374375031', '1374376031', '1374377031', '1374378031', '1374380031', '1374381031', '1374383031', '1374384031', '1374386031', '1374387031', '1374391031', '1374392031', '1374395031', '1374396031', '1374397031', '1374398031', '1374399031', '1374400031', '1374401031', '1374409031', '1374410031', '1374411031', '1374412031', '1374420031', '1374426031', '1374429031', '1374430031', '1374432031', '1374433031', '1374436031', '1374439031', '1374440031', '1374452031', '1374453031', '1374454031', '1374455031', '1374456031', '1374457031', '1374459031', '1374461031', '1374463031', '1374464031', '1374469031', '1374474031', '1374476031', '1374479031', '1374481031', '1374482031', '1374484031', '1374485031', '1374486031', '1374487031', '1374490031', '1374493031', '1374495031', '1374497031', '1374498031', '1374499031', '1374500031', '1374501031', '1374503031', '1374504031', '1374509031', '1374510031', '1374511031', '1374512031', '1374513031', '1374514031', '1374518031', '1374519031', '1374520031', '1374541031', '1374543031', '1374545031', '1374546031', '1374549031', '1374550031', '1374551031', '1374552031', '1374553031', '1374554031', '1374557031', '1374558031', '1374560031', '1374565031', '1374568031', '1374569031', '1374570031', '1374576031', '1374580031', '1374581031', '1374582031', '1374583031', '1374591031', '1374592031', '1374596031', '1374597031', '1374599031', '1374600031', '1374602031', '1374603031', '1374605031', '1374608031', '1374609031', '1374610031', '1374612031', '1374613031', '1374614031', '1374615031', '1374616031', '1374617031', '1374618031', '1374621031', '1374630031', '1374631031', '1374634031', '1374635031', '1374636031', '1374638031', '1374639031', '1374640031', '1374641031', '1374643031', '1374645031', '1374646031', '1374647031', '1374648031', '1374649031', '1374656031', '1374657031', '1374658031', '1374660031', '1374661031', '1374664031', '1375249031', '1375263031', '1375265031', '1375274031', '1375280031', '1375282031', '1375283031', '1375285031', '1375286031', '1375287031', '1375292031', '1375294031', '1375296031', '1375297031', '1375298031', '1375310031', '1375311031', '1375312031', '1375313031', '1375315031', '1375317031', '1375319031', '1375322031', '1375323031', '1375325031', '1375326031', '1375329031', '1375330031', '1375332031', '1375334031', '1375343031', '1375345031', '1375346031', '1375348031', '1375351031', '1375361031', '1375363031', '1375371031', '1375372031', '1375379031', '1375384031', '1375385031', '1375386031', '1375390031', '1375391031', '1375394031', '1375395031', '1375396031', '1375397031', '1375405031', '1375406031', '1375411031', '1375414031', '1375415031', '1375417031', '1375418031', '1375419031', '1375421031', '1375422031', '1375424031', '1375428031', '1375429031', '1375430031', '1375431031', '1375435031', '1375436031', '1375437031', '1375438031', '1375439031', '1375440031', '1375442031', '1375447031', '1375449031', '1375450031', '1375458031', '1375460031', '1375461031', '1375463031', '1375464031', '1375465031', '1375466031', '1375467031', '1375468031', '1375490031', '1375492031', '1376524031', '1378133031', '1378134031', '1378135031', '1378136031', '1378139031', '1378140031', '1378143031', '1378144031', '1378145031', '1378146031', '1378147031', '1378148031', '1378149031', '1378150031', '1378152031', '1378153031', '1378154031', '1378155031', '1378157031', '1378159031', '1378161031', '1378162031', '1378164031', '1378165031', '1378166031', '1378167031', '1378168031', '1378170031', '1378171031', '1378172031', '1378174031', '1378179031', '1378183031', '1378184031', '1378186031', '1378189031', '1378194031', '1378195031', '1378196031', '1378200031', '1378201031', '1378206031', '1378207031', '1378208031', '1378209031', '1378211031', '1378212031', '1378214031', '1378216031', '1378217031', '1378225031', '1378234031', '1378236031', '1378237031', '1378238031', '1378239031', '1378240031', '1378241031', '1378245031', '1378246031', '1378247031', '1378248031', '1378252031', '1378253031', '1378258031', '1378263031', '1378264031', '1378265031', '1378267031', '1378268031', '1378270031', '1378271031', '1378275031', '1378276031', '1378277031', '1378280031', '1378281031', '1378282031', '1378283031', '1378284031', '1378287031', '1378288031', '1378289031', '1378291031', '1378293031', '1378295031', '1378296031', '1378298031', '1378299031', '1378302031', '1378313031', '1378314031', '1378315031', '1378316031', '1378318031', '1378320031', '1378321031', '1378323031', '1378324031', '1378325031', '1378329031', '1378337031', '1378339031', '1378340031', '1378343031', '1378344031', '1378345031', '1378348031', '1378351031', '1378362031', '1378363031', '1378366031', '1378371031', '1378373031', '1378374031', '1378375031', '1378376031', '1378377031', '1378378031', '1378379031', '1378380031', '1378383031', '1378386031', '1378389031', '1378391031', '1378402031', '1378407031', '1378408031', '1378409031', '1378412031', '1378413031', '1378415031', '1378416031', '1378418031', '1378419031', '1378420031', '1378421031', '1378422031', '1378424031', '1378425031', '1378427031', '1378428031', '1378429031', '1378430031', '1378433031', '1378435031', '1378436031', '1378437031', '1378438031', '1378439031', '1378440031', '1378442031', '1378443031', '1378444031', '1378446031', '1378448031', '1378449031', '1378452031', '1378453031', '1378455031', '1378456031', '1378457031', '1378459031', '1378460031', '1378461031', '1378462031', '1378465031', '1378466031', '1378467031', '1378471031', '1378472031', '1378474031', '1378475031', '1378476031', '1378477031', '1378479031', '1378481031', '1378484031', '1378485031', '1378486031', '1378487031', '1378489031', '1378493031', '1378496031', '1378498031', '1378502031', '1378507031', '1378510031', '1378511031', '1378513031', '1378514031', '1378515031', '1378516031', '1378518031', '1378519031', '1378520031', '1378521031', '1378523031', '1378524031', '1378525031', '1378527031', '1378528031', '1378529031', '1378531031', '1378532031', '1378533031', '1378534031', '1378535031', '1378539031', '1378542031', '1378543031', '1378544031', '1378545031', '1378547031', '1378548031', '1378552031', '1378553031', '1378555031', '1378556031', '1378557031', '1378558031', '1378559031', '1378560031', '1378561031', '1378567031', '1378570031', '1378571031', '1378572031', '1378573031', '1378574031', '1378575031', '1379975031', '1379976031', '1379977031', '1379979031', '1379980031', '1379982031', '1379983031', '1379984031', '1380046031', '1380047031', '1380048031', '1380050031', '1380052031', '1380053031', '1380054031', '1380055031', '1380060031', '1380062031', '1380064031', '1380065031', '1380066031', '1380068031', '1380072031', '1380073031', '1380074031', '1380075031', '1380076031', '1380077031', '1380078031', '1380080031', '1380081031', '1380082031', '1380260031', '1380261031', '1380262031', '1380269031', '1380337031', '1380357031', '1380358031', '1380363031', '1380365031', '1380369031', '1380406031', '1380545031', '1380556031', '1380557031', '1380568031', '1380570031', '1380571031', '1380572031', '1380576031', '1380577031', '1380578031', '1380580031', '1380581031', '1380592031', '1380596031', '1380601031', '1380603031', '1380605031', '1380606031', '1380609031', '1380610031', '1388890031', '1388893031', '1388965031', '1388966031', '1388968031', '1388976031', '1388984031', '1389024031', '1389085031', '1389174031', '1389196031', '1389231031', '1389259031', '1389373031', '1389416031', '14095357031', '14107214031', '14146389031', '14155257031', '14316087031', '14316088031', '14316089031', '14316090031', '14387569031', '14387570031', '14387571031', '1500086031', '1953107031', '1953108031', '1953118031', '1953127031', '1953128031', '1953130031', '1953132031', '1953136031', '1953139031', '1953142031', '1953151031', '1953152031', '1953158031', '1953159031', '1953162031', '1953163031', '1953165031', '1953167031', '1953168031', '1953169031', '1953170031', '1953173031', '1953174031', '1953175031', '1953176031', '1953178031', '1953179031', '1953183031', '1953189031', '1953193031', '1953201031', '1953202031', '1953203031', '1953204031', '1953206031', '1953209031', '1953212031', '1953213031', '1953219031', '1953220031', '1953222031', '1953224031', '1953225031', '1953229031', '1953230031', '1953231031', '1953232031', '1953235031', '1953237031', '1953238031', '1953240031', '1953241031', '1953242031', '1953246031', '1953256031', '1953262031', '1953264031', '1953265031', '1953266031', '1953268031', '1953271031', '1953273031', '1953293031', '1953300031', '1953301031', '1953303031', '1953309031', '1953311031', '1953312031', '1953314031', '1953317031', '1953318031', '1953320031', '1953339031', '1953344031', '1953351031', '1953352031', '1953357031', '1953372031', '1953373031', '1953382031', '1953388031', '1953392031', '1953401031', '1953413031', '1953415031', '1953417031', '1953422031', '1953430031', '1953431031', '1953432031', '1953437031', '1953439031', '1953442031', '1953450031', '1953452031', '1953453031', '1953455031', '1953458031', '1953459031', '1953461031', '1953462031', '1953478031', '1953479031', '1953482031', '1953489031', '1953491031', '1953493031', '1953502031', '1953503031', '1953505031', '1953506031', '1953508031', '1953518031', '1967860031', '1967861031', '1967862031', '1967863031', '1967864031', '1967867031', '1967869031', '1967870031', '1967878031', '1967879031', '1967882031', '1967884031', '1967886031', '1967887031', '1967890031', '1967892031', '1967893031', '1967894031', '1967895031', '1967896031', '1967899031', '1967900031', '1967902031', '1967903031', '1967909031', '1967910031', '1967913031', '1967916031', '1967918031', '1967919031', '1967923031', '1967924031', '1967925031', '1967926031', '1967927031', '1967929031', '1967930031', '1967932031', '1967933031', '1967934031', '1967935031', '1967944031', '1967946031', '1967947031', '1967948031', '1967950031', '1967953031', '1967958031', '1967963031', '1967964031', '1967966031', '1967968031', '1967969031', '1967971031', '1967972031', '1967973031', '1967974031', '1967976031', '1967977031', '1967979031', '1967981031', '1967982031', '1967983031', '1967984031', '1967985031', '1967987031', '1967988031', '1967989031', '1967992031', '1967993031', '1967999031', '1968001031', '1968002031', '1968004031', '1968007031', '1968009031', '1968011031', '1968012031', '1968013031', '1968014031', '1968015031', '1968017031', '1968018031', '1968020031', '1968021031', '1968023031', '1968027031', '1968033031', '1968035031', '1968036031', '1968037031', '1968038031', '1968039031', '1968055031', '1968058031', '1968059031', '1968060031', '1968067031', '1968068031', '1968070031', '1968071031', '1968073031', '1968074031', '1968076031', '1968078031', '1968080031', '1968085031', '1968086031', '1968090031', '1968091031', '1968094031', '1968096031', '1968097031', '1968098031', '1968104031', '1968105031', '1968108031', '1968111031', '1968115031', '1968118031', '1968119031', '1968122031', '1968123031', '1968127031', '1968128031', '1968131031', '1968132031', '1968133031', '1968134031', '1968135031', '1968250031', '1968251031', '1968252031', '1968254031', '1968255031', '1968256031', '1968257031', '1968392031', '1968393031', '1968398031', '1968399031', '1968400031', '1968401031', '1968402031', '1968403031', '1968404031', '1968424031', '1968425031', '1968426031', '1968431031', '1968433031', '1968434031', '1968436031', '1968437031', '1968438031', '1968439031', '1968440031', '1968441031', '1968442031', '1968443031', '1968444031', '1968445031', '1968446031', '1968447031', '1968448031', '1968450031', '1968451031', '1968452031', '1968453031', '1968456031', '1968459031', '1968460031', '1968463031', '1968464031', '1968465031', '1968468031', '1968469031', '1968470031', '1968471031', '1968475031', '1968476031', '1968477031', '1968478031', '1968479031', '1968480031', '1968483031', '1968487031', '1968488031', '1968489031', '1968491031', '1968492031', '1968495031', '1968496031', '1968497031', '1968499031', '1968500031', '1968501031', '1968503031', '1968504031', '1968506031', '1968507031', '1968508031', '1968510031', '1968511031', '1968518031', '1968519031', '1968520031', '1968521031', '1968524031', '1968525031', '1968528031', '1968529031', '1968532031', '1968535031', '1968536031', '1968537031', '1968538031', '1968539031', '1968541031', '1968543031', '1968545031', '1969678031', '1969679031', '1969680031', '1969681031', '1983324031', '1983328031', '1983330031', '1983331031', '1983332031', '1983334031', '1983335031', '1983336031', '1983337031', '1983347031', '1983350031', '1983351031', '1983352031', '1983354031', '1983355031', '1983356031', '1983357031', '1983398031', '1983448031', '1983450031', '1983451031', '1983452031', '1983453031', '1983455031', '1983457031', '1983505031', '1983507031', '1983508031', '1983510031', '1983511031', '1983512031', '1983513031', '1983515031', '1983516031', '1983517031', '1983523031', '1983525031', '1983532031', '1983538031', '1983546031', '1983547031', '1983550031', '1983557031', '1983560031', '1983567031', '1983568031', '1983569031', '1983570031', '1983571031', '1983572031', '1983573031', '1983574031', '1983575031', '1983576031', '1983577031', '1983582031', '1983600031', '1983606031', '1983607031', '1983610031', '1983617031', '1983620031', '1983627031', '1983628031', '1983629031', '1983630031', '1983631031', '1983633031', '1983634031', '1983635031', '1983638031', '1983639031', '1983640031', '1983726031', '1983727031', '1983728031', '1984990031', '1984992031', '1984995031', '1984997031', '2083413031', '2083428031', '2088589031', '2152524031', '2152525031', '2152527031', '2152528031', '2152529031', '2152530031', '2152532031', '2152533031', '2152534031', '2152535031', '2152537031', '2152539031', '2152540031', '2152543031', '2152545031', '2152547031', '2152548031', '2152549031', '2152550031', '2152551031', '2152552031', '2152555031', '2152557031', '2152558031', '2152559031', '2152560031', '2152561031', '2152562031', '2152564031', '2152566031', '2152567031', '2152568031', '2152569031', '2152570031', '2559723031', '2563504031', '2563505031', '2563506031', '2908910031', '2917433031', '2917436031', '2917438031', '2917440031', '2917442031', '2917444031', '2917446031', '2917448031', '2917450031', '2917451031', '2917452031', '2917453031', '2917459031', '2917460031', '2917461031', '2917462031', '2917464031', '2917467031', '2917468031', '2917471031', '2917473031', '2917474031', '2917475031', '2917476031', '2917480031', '2917481031', '2917496031', '2917497031', '2917503031', '2917507031', '3150030031', '3150032031', '3150033031', '3150034031', '3150035031', '3163481031', '3403631031', '3403632031', '3403648031', '3403660031', '3403669031', '3403740031', '3403742031', '3403743031', '3403744031', '3403745031', '3403746031', '3403748031', '3403750031', '3403764031', '3403765031', '3403767031', '3403783031', '3403785031', '3403786031', '3403803031', '3403811031', '3403815031', '3403817031', '3403819031', '3403822031', '3403828031', '3403848031', '3403849031', '3403852031', '3403858031', '3403860031', '3403861031', '3403862031', '3403864031', '3403866031', '3403867031', '3403874031', '3403899031', '3403900031', '3403908031', '3403918031', '3403919031', '3403928031', '3403931031', '3403953031', '3403960031', '3403968031', '3403971031', '3403975031', '3403977031', '3403978031', '3403979031', '3403981031', '3403984031', '3403985031', '3403988031', '3403990031', '3403998031', '3404002031', '3404003031', '3404016031', '3404017031', '3404020031', '3404024031', '3404040031', '3404043031', '3404126031', '3404128031', '3404138031', '3404139031', '3404170031', '3404172031', '3404173031', '3404177031', '3404178031', '3404179031', '3404180031', '3404181031', '3404189031', '3404191031', '3404192031', '3404197031', '3404198031', '3404201031', '3404206031', '3404219031', '3404222031', '3404228031', '3404233031', '3404238031', '3404294031', '3404370031', '3404371031', '3404372031', '3404382031', '3404384031', '3404392031', '3404395031', '3404400031', '3404401031', '3404405031', '3404408031', '3404409031', '3404411031', '3404414031', '3404415031', '3404429031', '3404434031', '3404447031', '3404449031', '3404451031', '3404453031', '3404457031', '3404461031', '3404462031', '3404463031', '3404464031', '3404472031', '3404507031', '3404509031', '3404512031', '3404513031', '3404515031', '3404516031', '3404517031', '3404519031', '3404523031', '3404524031', '3404525031', '3404528031', '3404529031', '3404530031', '3404533031', '3404535031', '3404540031', '3404547031', '3404548031', '3404551031', '3404555031', '3404556031', '3404558031', '3404561031', '3404562031', '3404563031', '3404564031', '3404568031', '3404569031', '3404570031', '3404571031', '3404575031', '3404580031', '3404584031', '3404585031', '3404588031', '3404594031', '3404596031', '3404597031', '3404598031', '3404599031', '3404604031', '3404608031', '3404609031', '3404636031', '3404637031', '3404659031', '3404660031', '3404661031', '3404663031', '3404665031', '3404666031', '3404668031', '3404669031', '3404670031', '3404671031', '3404675031', '3404677031', '3404678031', '3404679031', '3404680031', '3404681031', '3404682031', '3404686031', '3404687031', '3404689031', '3404690031', '3404702031', '3404703031', '3404707031', '3404708031', '3404713031', '3404717031', '3404718031', '3404721031', '3404723031', '3404724031', '3404728031', '3404732031', '3404735031', '3404742031', '3404744031', '3404748031', '3404872031', '3404873031', '3404898031', '3404900031', '3404910031', '3404919031', '3404963031', '3404964031', '3404967031', '3404969031', '3404973031', '3404999031', '3405027031', '3405029031', '3405030031', '3405031031', '3405032031', '3405034031', '3405111031', '3405112031', '3405203031', '3405209031', '3405210031', '3405260031', '3405305031', '3405306031', '3405319031', '3405320031', '3405351031', '3405361031', '3405408031', '3405411031', '3405415031', '3405416031', '3413954031', '3413963031', '3413966031', '3413967031', '3413975031', '3413977031', '3413985031', '3413998031', '3413999031', '3414051031', '3414282031', '3414304031', '3414311031', '3414748031', '3414749031', '3414750031', '3414770031', '3414773031', '3415070031', '3415104031', '3415106031', '3474656031', '3507139031', '3507140031', '3591562031', '3591677031', '3591683031', '3591686031', '3591703031', '3638798031', '3638811031', '3638822031', '3638826031', '3638827031', '3638829031', '3638832031', '3638843031', '3638861031', '3638866031', '3638905031', '3638906031', '3638919031', '3638920031', '3638940031', '3638943031', '3638953031', '3638960031', '3638968031', '3638969031', '3638971031', '3638984031', '3638994031', '3638996031', '3639008031', '3639009031', '3639013031', '3639015031', '3639017031', '3639018031', '3639021031', '3639024031', '3639026031', '3639027031', '3639028031', '3639030031', '3639034031', '3639035031', '3639037031', '3639039031', '3639058031', '3639059031', '3639061031', '3639062031', '3639068031', '3639070031', '3639080031', '3639085031', '3639087031', '3639088031', '3639090031', '3639091031', '3639092031', '3639094031', '3639101031', '3639102031', '3639104031', '3639108031', '3639110031', '3639112031', '3639114031', '3639115031', '3639138031', '3639139031', '3639147031', '3639162031', '3639163031', '3639175031', '3639191031', '3639193031', '3639196031', '3639221031', '3639225031', '3639231031', '3639232031', '3639303031', '3639308031', '3639309031', '3639311031', '3639313031', '3639314031', '3639337031', '3639338031', '3723373031', '3723374031', '3723377031', '3723378031', '3723380031', '3723382031', '3723383031', '3723385031', '3723386031', '3723388031', '3723389031', '3723390031', '3723391031', '3723394031', '3731690031', '3731695031', '4068644031', '4068645031', '4175441031', '4264025031', '4264026031', '4264027031', '4264031031', '4264032031', '4264034031', '4264035031', '4264036031', '4264037031', '4264038031', '4264039031', '4264040031', '4264041031', '4264042031', '4264043031', '4264044031', '4264045031', '4264047031', '4264048031', '4269662031', '4297305031', '4297309031', '4297322031', '4330646031', '4330648031', '4330651031', '4365488031', '4365489031', '4365491031', '4365493031', '4365494031', '4365495031', '4369221031', '4369222031', '4369223031', '4369224031', '4375446031', '4375455031', '4375456031', '4375457031', '4379868031', '4654326031', '4654331031', '4654335031', '4654337031', '4654338031', '4654341031', '4654342031', '4654347031', '4654349031', '4654352031', '4654353031', '4654358031', '4654375031', '4654376031', '4654377031', '4654378031', '4654379031', '4654380031', '4654386031', '4654389031', '4654390031', '4654391031', '4654392031', '4654397031', '4654398031', '4654399031', '4654404031', '4654407031', '4654412031', '4654415031', '4654416031', '4654420031', '4654424031', '4654468031', '4654471031', '4654487031', '4654491031', '4654499031', '4654500031', '4654502031', '4654506031', '4654507031', '4654509031', '4654551031', '4654553031', '4654554031', '4654556031', '4654561031', '4654565031', '4654573031', '4654593031', '4654614031', '4654617031', '4654623031', '4654624031', '4654627031', '4654628031', '4654629031', '4654631031', '4654684031', '4654685031', '4654693031', '4654697031', '4654698031', '4654700031', '4654705031', '4654708031', '4654763031', '4654764031', '4654765031', '4654766031', '4654768031', '4654770031', '4654771031', '4730577031', '4730587031', '4771349031', '4771351031', '4771356031', '4771357031', '4771358031', '4771360031', '4771361031', '4771365031', '4771366031', '4771369031', '4771370031', '4771372031', '4771375031', '4771377031', '4771381031', '4771382031', '4771383031', '4771393031', '4771394031', '4771395031', '4771398031', '4771402031', '4771442031', '4771444031', '4771445031', '4771449031', '4771451031', '4771454031', '4771455031', '4771457031', '4771458031', '4771459031', '4771465031', '4771466031', '4771467031', '4771468031', '4771469031', '4771470031', '4771476031', '4771478031', '4771479031', '4771481031', '4771501031', '4771502031', '4771538031', '4771540031', '4771541031', '4771542031', '4771544031', '4771545031', '4771546031', '4771548031', '4771551031', '4771553031', '4771554031', '4771555031', '4771556031', '4771557031', '4771559031', '4771560031', '4771561031', '4771563031', '4771564031', '4771566031', '4771567031', '4771572031', '4771573031', '4771575031', '4771578031', '4771579031', '4771582031', '4771583031', '4771584031', '4771587031', '4771602031', '4771605031', '4771607031', '4771608031', '4771610031', '4771611031', '4771612031', '4771615031', '4771617031', '4771621031', '4771627031', '4771634031', '4771641031', '4771642031', '4771643031', '4771644031', '4771646031', '4771647031', '4771648031', '4771661031', '4771664031', '4771665031', '4771737031', '4771738031', '4771747031', '4771748031', '4771749031', '4771769031', '4771771031', '4861893031', '5210016031', '5210018031', '5229857031', '5229858031', '5229860031', '5229861031', '5229862031', '5250450031', '5250454031', '5257483031', '5257484031', '5257487031', '5257497031', '5257498031', '5257500031', '5257501031', '5257502031', '5257513031', '5257514031', '5257517031', '5257520031', '5257522031', '5257532031', '5257535031', '5257536031', '5257544031', '5257545031', '5257546031', '5257548031', '5257552031', '5257554031', '5257556031', '5257560031', '5257561031', '5257564031', '5257567031', '5257569031', '5257570031', '5257576031', '5257578031', '5257598031', '5257600031', '5257610031', '5257612031', '5257646031', '5257647031', '5257648031', '5257649031', '5257654031', '5257655031', '5257656031', '5257658031', '5257660031', '5257666031', '5257667031', '5257668031', '5257669031', '5257670031', '5257689031', '5257690031', '5257691031', '5257700031', '5257719031', '5257721031', '5257723031', '5257737031', '5257747031', '5257749031', '5257750031', '5257755031', '5257758031', '5257760031', '5257764031', '5257765031', '5257766031', '5257796031', '5257797031', '5257817031', '5257825031', '5257828031', '5257829031', '5257831031', '5257840031', '5257846031', '5257851031', '5257853031', '5257872031', '5257900031', '5257905031', '5257910031', '5257981031', '5258006031', '5258007031', '5258009031', '5258019031', '5258023031', '5258040031', '5258042031', '5258043031', '5258044031', '5258046031', '5258050031', '5258090031', '5258091031', '5258095031', '5258096031', '5258202031', '5258204031', '5258205031', '5258287031', '5258288031', '5258293031', '5258296031', '5258297031', '5258298031', '5258300031', '5258301031', '5258302031', '5258303031', '5258305031', '5258309031', '5258311031', '5258312031', '5258313031', '5258334031', '5258370031', '5258371031', '5258372031', '5258389031', '5258390031', '5258391031', '5258392031', '5258393031', '5258539031', '5274530031', '5361935031', '5403405031', '5403407031', '5403409031', '5403417031', '5403422031', '5403423031', '5431803031', '5431804031', '5518819031', '5689360031', '5689367031', '5689368031', '5689394031', '5689398031', '5689402031', '5689410031', '5689426031', '5689441031', '5689467031', '5689468031', '5745206031', '5745207031', '5745209031', '5745215031', '5745218031', '5745223031', '5745224031', '5780244031', '5780250031', '5780259031', '5780271031', '5780286031', '5816261031', '5836981031', '5836982031', '5836983031', '5865994031', '5865998031', '5866000031', '5866003031', '6264312031', '6804062031', '6804063031', '7074066031', '7074068031', '7074070031', '7124364031', '7124365031', '7124367031', '7124368031', '7124369031', '7124370031', '7124371031', '7124372031', '7124380031', '7124382031', '7124383031', '7124385031', '7124386031', '7124387031', '7124388031', '7124394031', '7124395031', '7124396031', '7124397031', '7124402031', '7124404031', '7124405031', '7124406031', '7472424031', '8360549031', '8360552031', '8472838031', '8641216031', '8641217031', '8641218031', '8641220031', '8641221031', '8641222031', '8641223031', '9290354031', '9530405031', '9530406031', '9530407031', '9530408031', '9530410031', '9530411031', '9530413031', '9530414031', '9530415031', '9530416031', '9530417031', '9530418031', '9530420031', '9530422031', '9530423031', '9530424031', '9530426031', '9530427031', '9530428031', '9530430031', '9782990031', '9834785031', '9835523031', '9836106031', '9851599031', '9851600031', '9851607031', '9851608031', 'categories']\n",
      "2002\n"
     ]
    }
   ],
   "source": [
    "# Get the class names from the train_ds\n",
    "class_names = train_ds.class_names\n",
    "\n",
    "# Print the class names\n",
    "print(class_names)\n",
    "\n",
    "# Get the number of labels\n",
    "num_labels = len(class_names)\n",
    "\n",
    "# Print the number of labels\n",
    "print(num_labels)\n"
   ]
  },
  {
   "cell_type": "code",
   "execution_count": 20,
   "metadata": {},
   "outputs": [],
   "source": [
    "# # Define a filter function that checks if the image has a non-zero shape\n",
    "# def filter_zero_images(image, label):\n",
    "#   # Get the shape of the image\n",
    "#   image_shape = tf.shape(image)\n",
    "#   # Check if the shape is non-zero\n",
    "#   non_zero = tf.math.reduce_any(image_shape > 0)\n",
    "#   # Return True or False\n",
    "#   return non_zero\n",
    "\n",
    "# # Apply the filter function to your batch dataset\n",
    "# train_ds = train_ds.filter(filter_zero_images)"
   ]
  },
  {
   "cell_type": "code",
   "execution_count": null,
   "metadata": {},
   "outputs": [],
   "source": [
    "\n"
   ]
  },
  {
   "cell_type": "code",
   "execution_count": 21,
   "metadata": {},
   "outputs": [],
   "source": [
    "# # Get the number of elements in the dataset as a tensor\n",
    "# num_elements = tf.data.experimental.cardinality(train_ds)\n",
    "\n",
    "# # Convert the tensor to a Python integer\n",
    "# num_elements = tf.get_static_value(num_elements)\n",
    "\n",
    "# # Print the number of elements\n",
    "# print(num_elements)\n"
   ]
  },
  {
   "cell_type": "code",
   "execution_count": 22,
   "metadata": {},
   "outputs": [],
   "source": [
    "# # Get the batch size\n",
    "# batch_size = 32\n",
    "\n",
    "# # Get the number of images by multiplying the number of elements by the batch size\n",
    "# num_images = num_elements * batch_size\n",
    "\n",
    "# # Print the number of images\n",
    "# print(num_images)\n"
   ]
  },
  {
   "cell_type": "code",
   "execution_count": 23,
   "metadata": {},
   "outputs": [],
   "source": [
    "# import torchvision.transforms as transforms\n",
    "\n",
    "# # Define a transform to convert PIL images to tensors\n",
    "# transform = transforms.ToTensor()\n",
    "\n",
    "# # Iterate through each sample in the train_dataset\n",
    "# for sample in train_dataset:\n",
    "#     # Get the image tensor from the sample\n",
    "#     image_tensor = sample[0]\n",
    "\n",
    "#     # Check if the image tensor is empty\n",
    "#     if image_tensor.numel() == 0:\n",
    "#         print(\"Empty image found!\")\n",
    "\n",
    "#     # If you want to convert the image tensor to a PIL image for further processing:\n",
    "#     # Convert the image tensor to a PIL image\n",
    "#     image_pil = transforms.ToPILImage()(image_tensor)\n",
    "\n",
    "#     # Check if the PIL image dimensions are zero\n",
    "#     width, height = image_pil.size\n",
    "#     if width == 0 or height == 0:\n",
    "#         print(\"Empty image found!\")"
   ]
  },
  {
   "cell_type": "code",
   "execution_count": 24,
   "metadata": {},
   "outputs": [],
   "source": [
    "# Define a filter function that checks if the image has a non-zero shape or pixel values\n",
    "def filter_empty_images(image, label):\n",
    "  # Get the shape of the image\n",
    "  image_shape = tf.shape(image)\n",
    "  # Check if the shape is non-zero\n",
    "  non_zero_shape = tf.math.reduce_any(image_shape > 0)\n",
    "  # Get the sum of the pixel values of the image\n",
    "  image_sum = tf.math.reduce_sum(image)\n",
    "  # Check if the sum is non-zero\n",
    "  non_zero_sum = tf.math.not_equal(image_sum, 0)\n",
    "  # Return True or False\n",
    "  return tf.math.logical_and(non_zero_shape, non_zero_sum)\n",
    "\n",
    "# Apply the filter function to your dataset\n",
    "train_ds = train_ds.filter(filter_empty_images)\n"
   ]
  },
  {
   "cell_type": "code",
   "execution_count": 25,
   "metadata": {},
   "outputs": [],
   "source": [
    "# # Define a custom layer that wraps the resize_with_pad function\n",
    "# class ResizeWithPadLayer(tf.keras.layers.Layer):\n",
    "#   def __init__(self, target_height, target_width):\n",
    "#     super(ResizeWithPadLayer, self).__init__()\n",
    "#     self.target_height = target_height\n",
    "#     self.target_width = target_width\n",
    "\n",
    "#   def call(self, inputs):\n",
    "#     return tf.image.resize_with_pad(inputs, self.target_height, self.target_width)\n",
    "\n",
    "# # Create an instance of the custom layer\n",
    "# resize_with_pad_layer = ResizeWithPadLayer(180, 180)\n"
   ]
  },
  {
   "cell_type": "code",
   "execution_count": 26,
   "metadata": {},
   "outputs": [
    {
     "name": "stdout",
     "output_type": "stream",
     "text": [
      "Model: \"sequential\"\n",
      "_________________________________________________________________\n",
      " Layer (type)                Output Shape              Param #   \n",
      "=================================================================\n",
      " rescaling (Rescaling)       (None, 180, 180, 3)       0         \n",
      "                                                                 \n",
      " conv2d (Conv2D)             (None, 180, 180, 16)      448       \n",
      "                                                                 \n",
      " max_pooling2d (MaxPooling2D  (None, 90, 90, 16)       0         \n",
      " )                                                               \n",
      "                                                                 \n",
      " conv2d_1 (Conv2D)           (None, 90, 90, 32)        4640      \n",
      "                                                                 \n",
      " max_pooling2d_1 (MaxPooling  (None, 45, 45, 32)       0         \n",
      " 2D)                                                             \n",
      "                                                                 \n",
      " dropout (Dropout)           (None, 45, 45, 32)        0         \n",
      "                                                                 \n",
      " flatten (Flatten)           (None, 64800)             0         \n",
      "                                                                 \n",
      " dense (Dense)               (None, 128)               8294528   \n",
      "                                                                 \n",
      " dropout_1 (Dropout)         (None, 128)               0         \n",
      "                                                                 \n",
      " dense_1 (Dense)             (None, 2002)              258258    \n",
      "                                                                 \n",
      "=================================================================\n",
      "Total params: 8,557,874\n",
      "Trainable params: 8,557,874\n",
      "Non-trainable params: 0\n",
      "_________________________________________________________________\n"
     ]
    }
   ],
   "source": [
    "# Import the necessary modules\n",
    "import tensorflow as tf\n",
    "from tensorflow import keras\n",
    "from tensorflow.keras import layers\n",
    "\n",
    "# Define the model architecture\n",
    "model = keras.Sequential([\n",
    "  # Rescale the pixel values to the range [0, 1]\n",
    "  layers.Rescaling(1./255, input_shape=(180, 180, 3)),\n",
    "  # Apply a convolutional layer with 16 filters and a 3x3 kernel\n",
    "  layers.Conv2D(16, 3, padding='same', activation='relu'),\n",
    "  # Apply a max pooling layer with a 2x2 window\n",
    "  layers.MaxPooling2D(),\n",
    "  # Apply another convolutional layer with 32 filters and a 3x3 kernel\n",
    "  layers.Conv2D(32, 3, padding='same', activation='relu'),\n",
    "  # Apply another max pooling layer with a 2x2 window\n",
    "  layers.MaxPooling2D(),\n",
    "  # Apply a dropout layer with a rate of 0.2 to reduce overfitting\n",
    "  layers.Dropout(0.2),\n",
    "  # Flatten the output of the previous layer\n",
    "  layers.Flatten(),\n",
    "  # Apply a dense layer with 128 units and a ReLU activation\n",
    "  layers.Dense(128, activation='relu'),\n",
    "  # Apply another dropout layer with a rate of 0.2\n",
    "  layers.Dropout(0.2),\n",
    "  # Apply an output layer with the number of classes and a softmax activation\n",
    "  layers.Dense(2002)\n",
    "])\n",
    "\n",
    "# Compile the model with an optimizer, a loss function, and a metric\n",
    "model.compile(optimizer='adam',\n",
    "              loss=tf.keras.losses.SparseCategoricalCrossentropy(from_logits=True),\n",
    "              metrics=['accuracy'])\n",
    "\n",
    "# Print the model summary\n",
    "model.summary()\n"
   ]
  },
  {
   "cell_type": "code",
   "execution_count": 28,
   "metadata": {},
   "outputs": [
    {
     "name": "stdout",
     "output_type": "stream",
     "text": [
      "Epoch 1/30\n",
      "      1/Unknown - 0s 54ms/step - loss: 0.2914 - accuracy: 0.8750"
     ]
    },
    {
     "name": "stdout",
     "output_type": "stream",
     "text": [
      "111/111 [==============================] - 2s 20ms/step - loss: 0.6509 - accuracy: 0.8454\n",
      "Epoch 2/30\n",
      "111/111 [==============================] - 2s 20ms/step - loss: 0.6566 - accuracy: 0.8451\n",
      "Epoch 3/30\n",
      "111/111 [==============================] - 2s 20ms/step - loss: 0.6165 - accuracy: 0.8468\n",
      "Epoch 4/30\n",
      "111/111 [==============================] - 2s 20ms/step - loss: 0.5227 - accuracy: 0.8694\n",
      "Epoch 5/30\n",
      "111/111 [==============================] - 2s 20ms/step - loss: 0.5032 - accuracy: 0.8779\n",
      "Epoch 6/30\n",
      "111/111 [==============================] - 2s 20ms/step - loss: 0.4840 - accuracy: 0.8768\n",
      "Epoch 7/30\n",
      "111/111 [==============================] - 2s 20ms/step - loss: 0.4656 - accuracy: 0.8915\n",
      "Epoch 8/30\n",
      "111/111 [==============================] - 2s 20ms/step - loss: 0.4140 - accuracy: 0.9043\n",
      "Epoch 9/30\n",
      "111/111 [==============================] - 2s 20ms/step - loss: 0.4130 - accuracy: 0.9023\n",
      "Epoch 10/30\n",
      "111/111 [==============================] - 2s 20ms/step - loss: 0.3803 - accuracy: 0.8995\n",
      "Epoch 11/30\n",
      "111/111 [==============================] - 2s 20ms/step - loss: 0.3472 - accuracy: 0.9125\n",
      "Epoch 12/30\n",
      "111/111 [==============================] - 2s 20ms/step - loss: 0.3341 - accuracy: 0.9128\n",
      "Epoch 13/30\n",
      "111/111 [==============================] - 2s 20ms/step - loss: 0.3547 - accuracy: 0.9099\n",
      "Epoch 14/30\n",
      "111/111 [==============================] - 2s 20ms/step - loss: 0.3122 - accuracy: 0.9233\n",
      "Epoch 15/30\n",
      "111/111 [==============================] - 2s 20ms/step - loss: 0.3239 - accuracy: 0.9153\n",
      "Epoch 16/30\n",
      "111/111 [==============================] - 2s 20ms/step - loss: 0.3045 - accuracy: 0.9233\n",
      "Epoch 17/30\n",
      "111/111 [==============================] - 2s 20ms/step - loss: 0.2704 - accuracy: 0.9315\n",
      "Epoch 18/30\n",
      "111/111 [==============================] - 2s 20ms/step - loss: 0.2707 - accuracy: 0.9295\n",
      "Epoch 19/30\n",
      "111/111 [==============================] - 2s 20ms/step - loss: 0.3052 - accuracy: 0.9255\n",
      "Epoch 20/30\n",
      "111/111 [==============================] - 2s 20ms/step - loss: 0.2710 - accuracy: 0.9312\n",
      "Epoch 21/30\n",
      "111/111 [==============================] - 2s 20ms/step - loss: 0.2736 - accuracy: 0.9315\n",
      "Epoch 22/30\n",
      "111/111 [==============================] - 2s 20ms/step - loss: 0.2738 - accuracy: 0.9300\n",
      "Epoch 23/30\n",
      "111/111 [==============================] - 2s 20ms/step - loss: 0.2112 - accuracy: 0.9451\n",
      "Epoch 24/30\n",
      "111/111 [==============================] - 2s 20ms/step - loss: 0.2366 - accuracy: 0.9385\n",
      "Epoch 25/30\n",
      "111/111 [==============================] - 2s 20ms/step - loss: 0.2132 - accuracy: 0.9419\n",
      "Epoch 26/30\n",
      "111/111 [==============================] - 2s 20ms/step - loss: 0.2274 - accuracy: 0.9400\n",
      "Epoch 27/30\n",
      "111/111 [==============================] - 2s 20ms/step - loss: 0.2210 - accuracy: 0.9402\n",
      "Epoch 28/30\n",
      "111/111 [==============================] - 2s 20ms/step - loss: 0.2203 - accuracy: 0.9448\n",
      "Epoch 29/30\n",
      "111/111 [==============================] - 2s 20ms/step - loss: 0.2113 - accuracy: 0.9479\n",
      "Epoch 30/30\n",
      "111/111 [==============================] - 2s 20ms/step - loss: 0.1995 - accuracy: 0.9485\n"
     ]
    },
    {
     "data": {
      "text/plain": [
       "<keras.callbacks.History at 0x7f6ea4614af0>"
      ]
     },
     "execution_count": 28,
     "metadata": {},
     "output_type": "execute_result"
    }
   ],
   "source": [
    "# Train the model for 10 epochs\n",
    "model.fit(train_ds, epochs=30)\n",
    "\n",
    "# # Evaluate the model on the test data\n",
    "# loss, accuracy = model.evaluate(val_ds)\n",
    "\n",
    "# # Print the loss and accuracy\n",
    "# print(\"Loss: \", loss)\n",
    "# print(\"Accuracy: \", accuracy)\n"
   ]
  },
  {
   "cell_type": "code",
   "execution_count": 29,
   "metadata": {},
   "outputs": [],
   "source": [
    "model.save('my_model.h5')\n"
   ]
  },
  {
   "cell_type": "code",
   "execution_count": null,
   "metadata": {},
   "outputs": [],
   "source": []
  }
 ],
 "metadata": {
  "kernelspec": {
   "display_name": "Python 3",
   "language": "python",
   "name": "python3"
  },
  "language_info": {
   "codemirror_mode": {
    "name": "ipython",
    "version": 3
   },
   "file_extension": ".py",
   "mimetype": "text/x-python",
   "name": "python",
   "nbconvert_exporter": "python",
   "pygments_lexer": "ipython3",
   "version": "3.8.10"
  },
  "orig_nbformat": 4
 },
 "nbformat": 4,
 "nbformat_minor": 2
}
