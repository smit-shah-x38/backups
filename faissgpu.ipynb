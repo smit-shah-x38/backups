{
 "cells": [
  {
   "cell_type": "code",
   "execution_count": null,
   "metadata": {},
   "outputs": [],
   "source": [
    "import numpy as np\n",
    "import faiss\n",
    "\n",
    "# Assuming X is your data and is shaped (N, D)\n",
    "# Where N is the number of samples and D is the dimension of each sample\n",
    "X = np.random.rand(100, 5).astype('float32')\n",
    "\n",
    "# Build the index\n",
    "res = faiss.StandardGpuResources()  # use a single GPU\n",
    "index = faiss.IndexFlatL2(X.shape[1])  # build the index\n",
    "gpu_index = faiss.index_cpu_to_gpu(res, 0, index)\n",
    "gpu_index.add(X)  # add vectors to the index\n",
    "\n",
    "# Let's say we want to find the k nearest neighbors to the vector x\n",
    "x = np.random.rand(1, 5).astype('float32')\n",
    "\n",
    "# Use the index.search method to find the k nearest neighbors\n",
    "k = 4  # we want to see 4 nearest neighbors\n",
    "D, I = gpu_index.search(x, k)\n",
    "\n",
    "print(f\"The indices of the nearest neighbors are {I}\")\n",
    "print(f\"The distances to the nearest neighbors are {D}\")\n"
   ]
  },
  {
   "cell_type": "code",
   "execution_count": null,
   "metadata": {},
   "outputs": [],
   "source": []
  },
  {
   "cell_type": "code",
   "execution_count": 1,
   "metadata": {},
   "outputs": [
    {
     "name": "stdout",
     "output_type": "stream",
     "text": [
      "asttokens @ file:///home/conda/feedstock_root/build_artifacts/asttokens_1694046349000/work\n",
      "backcall @ file:///home/conda/feedstock_root/build_artifacts/backcall_1592338393461/work\n",
      "backports.functools-lru-cache @ file:///home/conda/feedstock_root/build_artifacts/backports.functools_lru_cache_1687772187254/work\n",
      "comm @ file:///home/conda/feedstock_root/build_artifacts/comm_1691044910542/work\n",
      "debugpy @ file:///home/conda/feedstock_root/build_artifacts/debugpy_1695534290440/work\n",
      "decorator @ file:///home/conda/feedstock_root/build_artifacts/decorator_1641555617451/work\n",
      "exceptiongroup @ file:///home/conda/feedstock_root/build_artifacts/exceptiongroup_1692026125334/work\n",
      "executing @ file:///home/conda/feedstock_root/build_artifacts/executing_1667317341051/work\n",
      "importlib-metadata @ file:///home/conda/feedstock_root/build_artifacts/importlib-metadata_1688754491823/work\n",
      "ipykernel @ file:///home/conda/feedstock_root/build_artifacts/ipykernel_1693880262622/work\n",
      "ipython @ file:///home/conda/feedstock_root/build_artifacts/ipython_1693579759651/work\n",
      "jedi @ file:///home/conda/feedstock_root/build_artifacts/jedi_1690896916983/work\n",
      "jupyter_client @ file:///home/conda/feedstock_root/build_artifacts/jupyter_client_1693317508789/work\n",
      "jupyter_core @ file:///home/conda/feedstock_root/build_artifacts/jupyter_core_1686775603054/work\n",
      "matplotlib-inline @ file:///home/conda/feedstock_root/build_artifacts/matplotlib-inline_1660814786464/work\n",
      "nest-asyncio @ file:///home/conda/feedstock_root/build_artifacts/nest-asyncio_1664684991461/work\n",
      "numpy==1.26.0\n",
      "packaging @ file:///home/conda/feedstock_root/build_artifacts/packaging_1681337016113/work\n",
      "parso @ file:///home/conda/feedstock_root/build_artifacts/parso_1638334955874/work\n",
      "pexpect @ file:///home/conda/feedstock_root/build_artifacts/pexpect_1667297516076/work\n",
      "pickleshare @ file:///home/conda/feedstock_root/build_artifacts/pickleshare_1602536217715/work\n",
      "platformdirs @ file:///home/conda/feedstock_root/build_artifacts/platformdirs_1690813113769/work\n",
      "prompt-toolkit @ file:///home/conda/feedstock_root/build_artifacts/prompt-toolkit_1688565951714/work\n",
      "psutil @ file:///home/conda/feedstock_root/build_artifacts/psutil_1695367159033/work\n",
      "ptyprocess @ file:///home/conda/feedstock_root/build_artifacts/ptyprocess_1609419310487/work/dist/ptyprocess-0.7.0-py2.py3-none-any.whl\n",
      "pure-eval @ file:///home/conda/feedstock_root/build_artifacts/pure_eval_1642875951954/work\n",
      "Pygments @ file:///home/conda/feedstock_root/build_artifacts/pygments_1691408637400/work\n",
      "python-dateutil @ file:///home/conda/feedstock_root/build_artifacts/python-dateutil_1626286286081/work\n",
      "pyzmq @ file:///home/conda/feedstock_root/build_artifacts/pyzmq_1695384312770/work\n",
      "six @ file:///home/conda/feedstock_root/build_artifacts/six_1620240208055/work\n",
      "stack-data @ file:///home/conda/feedstock_root/build_artifacts/stack_data_1669632077133/work\n",
      "tornado @ file:///home/conda/feedstock_root/build_artifacts/tornado_1695373450800/work\n",
      "traitlets @ file:///home/conda/feedstock_root/build_artifacts/traitlets_1694710374095/work\n",
      "typing_extensions @ file:///home/conda/feedstock_root/build_artifacts/typing_extensions_1695040754690/work\n",
      "wcwidth @ file:///home/conda/feedstock_root/build_artifacts/wcwidth_1673864653149/work\n",
      "zipp @ file:///home/conda/feedstock_root/build_artifacts/zipp_1695255097490/work\n",
      "Note: you may need to restart the kernel to use updated packages.\n"
     ]
    }
   ],
   "source": [
    "%pip freeze"
   ]
  },
  {
   "cell_type": "code",
   "execution_count": null,
   "metadata": {},
   "outputs": [],
   "source": [
    "%pip install faiss-gpu"
   ]
  },
  {
   "cell_type": "code",
   "execution_count": null,
   "metadata": {},
   "outputs": [],
   "source": []
  }
 ],
 "metadata": {
  "kernelspec": {
   "display_name": "vectorenv",
   "language": "python",
   "name": "python3"
  },
  "language_info": {
   "codemirror_mode": {
    "name": "ipython",
    "version": 3
   },
   "file_extension": ".py",
   "mimetype": "text/x-python",
   "name": "python",
   "nbconvert_exporter": "python",
   "pygments_lexer": "ipython3",
   "version": "3.11.5"
  },
  "orig_nbformat": 4
 },
 "nbformat": 4,
 "nbformat_minor": 2
}
