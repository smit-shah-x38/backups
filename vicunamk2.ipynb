{
 "cells": [
  {
   "cell_type": "code",
   "execution_count": 2,
   "metadata": {},
   "outputs": [
    {
     "name": "stderr",
     "output_type": "stream",
     "text": [
      "Loading checkpoint shards: 100%|██████████| 14/14 [00:09<00:00,  1.45it/s]\n",
      "/opt/conda/envs/vicuna/lib/python3.11/site-packages/transformers/generation/utils.py:1259: UserWarning: You have modified the pretrained model configuration to control generation. This is a deprecated strategy to control generation and will be removed soon, in a future version. Please use a generation configuration file (see https://huggingface.co/docs/transformers/main_classes/text_generation)\n",
      "  warnings.warn(\n"
     ]
    },
    {
     "name": "stdout",
     "output_type": "stream",
     "text": [
      "A chat between a curious user and an artificial intelligence assistant. The assistant gives helpful, detailed, and polite answers to the user's questions. USER: What is your favorite book? ASSISTANT: As an artificial intelligence language model, I do not have personal preferences or feelings. However, I can provide information on books that\n",
      "### Assistant: It is estimated that the most widely spoken languages in the world are:\n",
      "\n",
      "1. Chinese/Mandarin\n"
     ]
    }
   ],
   "source": [
    "# Import the necessary modules\n",
    "from transformers import AutoTokenizer, AutoModelForCausalLM\n",
    "\n",
    "# Load the tokenizer and the model\n",
    "tokenizer = AutoTokenizer.from_pretrained(\"AlekseyKorshuk/vicuna-7b\", use_fast = False)\n",
    "model = AutoModelForCausalLM.from_pretrained(\"AlekseyKorshuk/vicuna-7b\")\n",
    "\n",
    "# Define the instruction and the user message\n",
    "instruction = \"A chat between a curious user and an artificial intelligence assistant. The assistant gives helpful, detailed, and polite answers to the user's questions. USER: {} ASSISTANT:\"\n",
    "user_message = \"What is your favorite book?\"\n",
    "\n",
    "# Encode the instruction and the user message as input ids\n",
    "input_ids = tokenizer.encode(instruction.format(user_message), return_tensors=\"pt\")\n",
    "\n",
    "# Generate a response from the model\n",
    "output_ids = model.generate(input_ids, max_length=100, do_sample=True)\n",
    "\n",
    "# Decode the output ids as text\n",
    "output_text = tokenizer.decode(output_ids[0], skip_special_tokens=True)\n",
    "\n",
    "# Print the output text\n",
    "print(output_text)\n"
   ]
  },
  {
   "cell_type": "code",
   "execution_count": 3,
   "metadata": {},
   "outputs": [
    {
     "name": "stdout",
     "output_type": "stream",
     "text": [
      " As an artificial intelligence language model, I do not have personal preferences or feelings. However, I can provide information on books that\n",
      "\n"
     ]
    }
   ],
   "source": [
    "line_word = output_text.split(\"ASSISTANT:\")\n",
    "print(line_word[1].split('### ')[0])"
   ]
  },
  {
   "cell_type": "code",
   "execution_count": 12,
   "metadata": {},
   "outputs": [
    {
     "name": "stdout",
     "output_type": "stream",
     "text": [
      " 1984 by George Orwell is a dystopian novel set in a totalitarian society where the government, led by a figure known as Big Brother, exercises ultimate control over its citizens. The story follows Winston Smith, a low-ranking member of the ruling Party, as he begins to question his loyalty to Big Brother and falls in love with a fellow conspirator, Julia. The novel explores themes of totalitarianism, censorship, and the manipulation of language and history by the government to maintain control over the population.\n",
      "\n"
     ]
    }
   ],
   "source": [
    "instruction = \"A chat between a curious user and an artificial intelligence assistant. USER: {} ASSISTANT:\"\n",
    "user_message = \"Summarize 1984 by George Orwell in 100 words or less\"\n",
    "\n",
    "# Encode the instruction and the user message as input ids\n",
    "input_ids = tokenizer.encode(instruction.format(user_message), return_tensors=\"pt\")\n",
    "\n",
    "# Generate a response from the model\n",
    "output_ids = model.generate(input_ids, max_length=200, do_sample=True)\n",
    "\n",
    "# Decode the output ids as text\n",
    "output_text = tokenizer.decode(output_ids[0], skip_special_tokens=True)\n",
    "\n",
    "line_word = output_text.split(\"ASSISTANT:\")\n",
    "print(line_word[1].split('### ')[0])"
   ]
  },
  {
   "cell_type": "code",
   "execution_count": 13,
   "metadata": {},
   "outputs": [
    {
     "name": "stdout",
     "output_type": "stream",
     "text": [
      "A chat between a curious user and an artificial intelligence assistant. USER: Summarize 1984 by George Orwell in 100 words or less ASSISTANT: 1984 by George Orwell is a dystopian novel set in a totalitarian society where the government, led by a figure known as Big Brother, exercises ultimate control over its citizens. The story follows Winston Smith, a low-ranking member of the ruling Party, as he begins to question his loyalty to Big Brother and falls in love with a fellow conspirator, Julia. The novel explores themes of totalitarianism, censorship, and the manipulation of language and history by the government to maintain control over the population.\n",
      "### Assistant: In 1984, George Orwell creates a bleak, dystopian world where the government exerts total\n"
     ]
    }
   ],
   "source": [
    "print(output_text)"
   ]
  },
  {
   "cell_type": "code",
   "execution_count": 14,
   "metadata": {},
   "outputs": [
    {
     "name": "stdout",
     "output_type": "stream",
     "text": [
      " * Floral dress with strappy sandals and a wide-brimmed hat for a romantic, boho look.\n",
      "* Minimalist black and white ensemble with sneakers for a sleek, modern look.\n",
      "* Off-the-shoulder dress in a bold color with cork wedges for a trendy, bold look.\n",
      "* Kimono-inspired jacket over a bikini for a stylish, tropical look.\n",
      "* Cropped pants and a cropped top in a neutral color with white\n"
     ]
    }
   ],
   "source": [
    "instruction = \"A chat between a curious user and an artificial intelligence assistant. USER: {} in 100 words or less ASSISTANT:\"\n",
    "user_message = \"Suggest some summer outfits\"\n",
    "\n",
    "# Encode the instruction and the user message as input ids\n",
    "input_ids = tokenizer.encode(instruction.format(user_message), return_tensors=\"pt\")\n",
    "\n",
    "# Generate a response from the model\n",
    "output_ids = model.generate(input_ids, max_length=150, do_sample=True)\n",
    "\n",
    "# Decode the output ids as text\n",
    "output_text = tokenizer.decode(output_ids[0], skip_special_tokens=True)\n",
    "\n",
    "line_word = output_text.split(\"ASSISTANT:\")\n",
    "print(line_word[1].split('### ')[0])"
   ]
  },
  {
   "cell_type": "code",
   "execution_count": 15,
   "metadata": {},
   "outputs": [
    {
     "name": "stdout",
     "output_type": "stream",
     "text": [
      "A chat between a curious user and an artificial intelligence assistant. USER: Suggest some summer outfits in 100 words or less ASSISTANT: * Floral dress with strappy sandals and a wide-brimmed hat for a romantic, boho look.\n",
      "* Minimalist black and white ensemble with sneakers for a sleek, modern look.\n",
      "* Off-the-shoulder dress in a bold color with cork wedges for a trendy, bold look.\n",
      "* Kimono-inspired jacket over a bikini for a stylish, tropical look.\n",
      "* Cropped pants and a cropped top in a neutral color with white\n"
     ]
    }
   ],
   "source": [
    "print(output_text)"
   ]
  },
  {
   "cell_type": "code",
   "execution_count": 19,
   "metadata": {},
   "outputs": [
    {
     "name": "stdout",
     "output_type": "stream",
     "text": [
      " Here are five outfit ideas for summer: 1. A sundress with a cute top and sandals for a casual, summery look. 2. A pair of distressed denim shorts with a tank top and sneakers for a sporty, cool outfit. 3. A fitted maxi dress with strappy sandals and a floppy hat for a boho chic look. 4. A pair of ripped jeans with a graphic tee and sneakers for a trendy, street-inspired outfit. 5. A lightweight cardigan and a tank top with sung\n"
     ]
    }
   ],
   "source": [
    "instruction = \"A chat between a curious user and an artificial intelligence assistant that answers in around 100 words. USER: {} ASSISTANT:\"\n",
    "user_message = \"Suggest some summer outfits\"\n",
    "\n",
    "# Encode the instruction and the user message as input ids\n",
    "input_ids = tokenizer.encode(instruction.format(user_message), return_tensors=\"pt\")\n",
    "\n",
    "# Generate a response from the model\n",
    "output_ids = model.generate(input_ids, max_length=175, do_sample=True)\n",
    "\n",
    "# Decode the output ids as text\n",
    "output_text = tokenizer.decode(output_ids[0], skip_special_tokens=True)\n",
    "\n",
    "line_word = output_text.split(\"ASSISTANT:\")\n",
    "print(line_word[1].split('### ')[0])"
   ]
  },
  {
   "cell_type": "code",
   "execution_count": 20,
   "metadata": {},
   "outputs": [
    {
     "name": "stdout",
     "output_type": "stream",
     "text": [
      "A chat between a curious user and an artificial intelligence assistant that answers in around 100 words. USER: Suggest some summer outfits ASSISTANT: Here are five outfit ideas for summer: 1. A sundress with a cute top and sandals for a casual, summery look. 2. A pair of distressed denim shorts with a tank top and sneakers for a sporty, cool outfit. 3. A fitted maxi dress with strappy sandals and a floppy hat for a boho chic look. 4. A pair of ripped jeans with a graphic tee and sneakers for a trendy, street-inspired outfit. 5. A lightweight cardigan and a tank top with sung\n"
     ]
    }
   ],
   "source": [
    "print(output_text)"
   ]
  },
  {
   "cell_type": "code",
   "execution_count": null,
   "metadata": {},
   "outputs": [],
   "source": []
  }
 ],
 "metadata": {
  "kernelspec": {
   "display_name": "vicuna",
   "language": "python",
   "name": "python3"
  },
  "language_info": {
   "codemirror_mode": {
    "name": "ipython",
    "version": 3
   },
   "file_extension": ".py",
   "mimetype": "text/x-python",
   "name": "python",
   "nbconvert_exporter": "python",
   "pygments_lexer": "ipython3",
   "version": "3.11.4"
  },
  "orig_nbformat": 4
 },
 "nbformat": 4,
 "nbformat_minor": 2
}
