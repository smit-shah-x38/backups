{
 "cells": [
  {
   "cell_type": "code",
   "execution_count": 1,
   "metadata": {},
   "outputs": [
    {
     "name": "stderr",
     "output_type": "stream",
     "text": [
      "Using cache found in /root/.cache/torch/hub/facebookresearch_dino_main\n"
     ]
    }
   ],
   "source": [
    "import torch\n",
    "vits16 = torch.hub.load('facebookresearch/dino:main', 'dino_vits16')"
   ]
  },
  {
   "cell_type": "code",
   "execution_count": 2,
   "metadata": {},
   "outputs": [
    {
     "name": "stdout",
     "output_type": "stream",
     "text": [
      "Looking in indexes: https://pypi.org/simple, https://pypi.ngc.nvidia.com\n",
      "Requirement already satisfied: torchvision in /opt/conda/envs/venv/lib/python3.11/site-packages (0.15.2)\n",
      "Requirement already satisfied: numpy in /opt/conda/envs/venv/lib/python3.11/site-packages (from torchvision) (1.24.3)\n",
      "Requirement already satisfied: requests in /opt/conda/envs/venv/lib/python3.11/site-packages (from torchvision) (2.31.0)\n",
      "Requirement already satisfied: torch==2.0.1 in /opt/conda/envs/venv/lib/python3.11/site-packages (from torchvision) (2.0.1)\n",
      "Requirement already satisfied: pillow!=8.3.*,>=5.3.0 in /opt/conda/envs/venv/lib/python3.11/site-packages (from torchvision) (10.0.0)\n",
      "Requirement already satisfied: filelock in /opt/conda/envs/venv/lib/python3.11/site-packages (from torch==2.0.1->torchvision) (3.12.3)\n",
      "Requirement already satisfied: typing-extensions in /opt/conda/envs/venv/lib/python3.11/site-packages (from torch==2.0.1->torchvision) (4.5.0)\n",
      "Requirement already satisfied: sympy in /opt/conda/envs/venv/lib/python3.11/site-packages (from torch==2.0.1->torchvision) (1.12)\n",
      "Requirement already satisfied: networkx in /opt/conda/envs/venv/lib/python3.11/site-packages (from torch==2.0.1->torchvision) (3.1)\n",
      "Requirement already satisfied: jinja2 in /opt/conda/envs/venv/lib/python3.11/site-packages (from torch==2.0.1->torchvision) (3.1.2)\n",
      "Requirement already satisfied: nvidia-cuda-nvrtc-cu11==11.7.99 in /opt/conda/envs/venv/lib/python3.11/site-packages (from torch==2.0.1->torchvision) (11.7.99)\n",
      "Requirement already satisfied: nvidia-cuda-runtime-cu11==11.7.99 in /opt/conda/envs/venv/lib/python3.11/site-packages (from torch==2.0.1->torchvision) (11.7.99)\n",
      "Requirement already satisfied: nvidia-cuda-cupti-cu11==11.7.101 in /opt/conda/envs/venv/lib/python3.11/site-packages (from torch==2.0.1->torchvision) (11.7.101)\n",
      "Requirement already satisfied: nvidia-cudnn-cu11==8.5.0.96 in /opt/conda/envs/venv/lib/python3.11/site-packages (from torch==2.0.1->torchvision) (8.5.0.96)\n",
      "Requirement already satisfied: nvidia-cublas-cu11==11.10.3.66 in /opt/conda/envs/venv/lib/python3.11/site-packages (from torch==2.0.1->torchvision) (11.10.3.66)\n",
      "Requirement already satisfied: nvidia-cufft-cu11==10.9.0.58 in /opt/conda/envs/venv/lib/python3.11/site-packages (from torch==2.0.1->torchvision) (10.9.0.58)\n",
      "Requirement already satisfied: nvidia-curand-cu11==10.2.10.91 in /opt/conda/envs/venv/lib/python3.11/site-packages (from torch==2.0.1->torchvision) (10.2.10.91)\n",
      "Requirement already satisfied: nvidia-cusolver-cu11==11.4.0.1 in /opt/conda/envs/venv/lib/python3.11/site-packages (from torch==2.0.1->torchvision) (11.4.0.1)\n",
      "Requirement already satisfied: nvidia-cusparse-cu11==11.7.4.91 in /opt/conda/envs/venv/lib/python3.11/site-packages (from torch==2.0.1->torchvision) (11.7.4.91)\n",
      "Requirement already satisfied: nvidia-nccl-cu11==2.14.3 in /opt/conda/envs/venv/lib/python3.11/site-packages (from torch==2.0.1->torchvision) (2.14.3)\n",
      "Requirement already satisfied: nvidia-nvtx-cu11==11.7.91 in /opt/conda/envs/venv/lib/python3.11/site-packages (from torch==2.0.1->torchvision) (11.7.91)\n",
      "Requirement already satisfied: triton==2.0.0 in /opt/conda/envs/venv/lib/python3.11/site-packages (from torch==2.0.1->torchvision) (2.0.0)\n",
      "Requirement already satisfied: setuptools in /opt/conda/envs/venv/lib/python3.11/site-packages (from nvidia-cublas-cu11==11.10.3.66->torch==2.0.1->torchvision) (68.1.2)\n",
      "Requirement already satisfied: wheel in /opt/conda/envs/venv/lib/python3.11/site-packages (from nvidia-cublas-cu11==11.10.3.66->torch==2.0.1->torchvision) (0.41.2)\n",
      "Requirement already satisfied: cmake in /opt/conda/envs/venv/lib/python3.11/site-packages (from triton==2.0.0->torch==2.0.1->torchvision) (3.27.4.1)\n",
      "Requirement already satisfied: lit in /opt/conda/envs/venv/lib/python3.11/site-packages (from triton==2.0.0->torch==2.0.1->torchvision) (16.0.6)\n",
      "Requirement already satisfied: charset-normalizer<4,>=2 in /opt/conda/envs/venv/lib/python3.11/site-packages (from requests->torchvision) (3.2.0)\n",
      "Requirement already satisfied: idna<4,>=2.5 in /opt/conda/envs/venv/lib/python3.11/site-packages (from requests->torchvision) (3.4)\n",
      "Requirement already satisfied: urllib3<3,>=1.21.1 in /opt/conda/envs/venv/lib/python3.11/site-packages (from requests->torchvision) (1.26.16)\n",
      "Requirement already satisfied: certifi>=2017.4.17 in /opt/conda/envs/venv/lib/python3.11/site-packages (from requests->torchvision) (2023.7.22)\n",
      "Requirement already satisfied: MarkupSafe>=2.0 in /opt/conda/envs/venv/lib/python3.11/site-packages (from jinja2->torch==2.0.1->torchvision) (2.1.3)\n",
      "Requirement already satisfied: mpmath>=0.19 in /opt/conda/envs/venv/lib/python3.11/site-packages (from sympy->torch==2.0.1->torchvision) (1.3.0)\n",
      "\u001b[33mWARNING: Running pip as the 'root' user can result in broken permissions and conflicting behaviour with the system package manager. It is recommended to use a virtual environment instead: https://pip.pypa.io/warnings/venv\u001b[0m\u001b[33m\n",
      "\u001b[0mNote: you may need to restart the kernel to use updated packages.\n"
     ]
    }
   ],
   "source": [
    "%pip install torchvision"
   ]
  },
  {
   "cell_type": "code",
   "execution_count": 3,
   "metadata": {},
   "outputs": [
    {
     "name": "stdout",
     "output_type": "stream",
     "text": [
      "Please use the `--pretrained_weights` argument to indicate the path of the checkpoint to evaluate.\n",
      "Since no pretrained weights have been provided, we load the reference pretrained DINO weights.\n",
      "./attn-head0.png saved.\n",
      "./attn-head1.png saved.\n",
      "./attn-head2.png saved.\n",
      "./attn-head3.png saved.\n",
      "./attn-head4.png saved.\n",
      "./attn-head5.png saved.\n"
     ]
    }
   ],
   "source": [
    "!python \"/var/wd_smit/external_repos/dino/visualize_attention.py\" --image_path \"/var/wd_smit/save_image.jpg\""
   ]
  },
  {
   "cell_type": "code",
   "execution_count": 4,
   "metadata": {},
   "outputs": [
    {
     "name": "stdout",
     "output_type": "stream",
     "text": [
      "Looking in indexes: https://pypi.org/simple, https://pypi.ngc.nvidia.com\n",
      "Requirement already satisfied: scikit-image in /opt/conda/envs/venv/lib/python3.11/site-packages (0.21.0)\n",
      "Requirement already satisfied: numpy>=1.21.1 in /opt/conda/envs/venv/lib/python3.11/site-packages (from scikit-image) (1.24.3)\n",
      "Requirement already satisfied: scipy>=1.8 in /opt/conda/envs/venv/lib/python3.11/site-packages (from scikit-image) (1.11.2)\n",
      "Requirement already satisfied: networkx>=2.8 in /opt/conda/envs/venv/lib/python3.11/site-packages (from scikit-image) (3.1)\n",
      "Requirement already satisfied: pillow>=9.0.1 in /opt/conda/envs/venv/lib/python3.11/site-packages (from scikit-image) (10.0.0)\n",
      "Requirement already satisfied: imageio>=2.27 in /opt/conda/envs/venv/lib/python3.11/site-packages (from scikit-image) (2.31.5)\n",
      "Requirement already satisfied: tifffile>=2022.8.12 in /opt/conda/envs/venv/lib/python3.11/site-packages (from scikit-image) (2023.9.26)\n",
      "Requirement already satisfied: PyWavelets>=1.1.1 in /opt/conda/envs/venv/lib/python3.11/site-packages (from scikit-image) (1.4.1)\n",
      "Requirement already satisfied: packaging>=21 in /opt/conda/envs/venv/lib/python3.11/site-packages (from scikit-image) (23.1)\n",
      "Requirement already satisfied: lazy_loader>=0.2 in /opt/conda/envs/venv/lib/python3.11/site-packages (from scikit-image) (0.3)\n",
      "\u001b[33mWARNING: Running pip as the 'root' user can result in broken permissions and conflicting behaviour with the system package manager. It is recommended to use a virtual environment instead: https://pip.pypa.io/warnings/venv\u001b[0m\u001b[33m\n",
      "\u001b[0mNote: you may need to restart the kernel to use updated packages.\n"
     ]
    }
   ],
   "source": [
    "%pip install scikit-image"
   ]
  },
  {
   "cell_type": "code",
   "execution_count": null,
   "metadata": {},
   "outputs": [],
   "source": []
  }
 ],
 "metadata": {
  "kernelspec": {
   "display_name": "venv",
   "language": "python",
   "name": "python3"
  },
  "language_info": {
   "codemirror_mode": {
    "name": "ipython",
    "version": 3
   },
   "file_extension": ".py",
   "mimetype": "text/x-python",
   "name": "python",
   "nbconvert_exporter": "python",
   "pygments_lexer": "ipython3",
   "version": "3.11.5"
  },
  "orig_nbformat": 4
 },
 "nbformat": 4,
 "nbformat_minor": 2
}
