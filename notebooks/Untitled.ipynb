{
 "cells": [
  {
   "cell_type": "code",
   "execution_count": 1,
   "id": "ed975e8c",
   "metadata": {
    "scrolled": true
   },
   "outputs": [
    {
     "name": "stdout",
     "output_type": "stream",
     "text": [
      "Requirement already satisfied: gpt4all in /usr/local/lib/python3.8/dist-packages (0.3.4)\n",
      "Requirement already satisfied: requests in /usr/lib/python3/dist-packages (from gpt4all) (2.22.0)\n",
      "Requirement already satisfied: tqdm in /usr/local/lib/python3.8/dist-packages (from gpt4all) (4.65.0)\n",
      "\u001b[33mWARNING: Running pip as the 'root' user can result in broken permissions and conflicting behaviour with the system package manager. It is recommended to use a virtual environment instead: https://pip.pypa.io/warnings/venv\u001b[0m\u001b[33m\n",
      "\u001b[0m"
     ]
    }
   ],
   "source": [
    "!pip install gpt4all"
   ]
  },
  {
   "cell_type": "code",
   "execution_count": 2,
   "id": "39176fc2",
   "metadata": {},
   "outputs": [
    {
     "name": "stdout",
     "output_type": "stream",
     "text": [
      "Found model file at  /root/.cache/gpt4all/ggml-gpt4all-j-v1.3-groovy.bin\n",
      "gptj_model_load: loading model from '/root/.cache/gpt4all/ggml-gpt4all-j-v1.3-groovy.bin' - please wait ...\n",
      "gptj_model_load: n_vocab = 50400\n",
      "gptj_model_load: n_ctx   = 2048\n",
      "gptj_model_load: n_embd  = 4096\n",
      "gptj_model_load: n_head  = 16\n",
      "gptj_model_load: n_layer = 28\n",
      "gptj_model_load: n_rot   = 64\n",
      "gptj_model_load: f16     = 2\n",
      "gptj_model_load: ggml ctx size = 5401.45 MB\n",
      "gptj_model_load: kv self size  =  896.00 MB\n",
      "gptj_model_load: ................................... done\n",
      "gptj_model_load: model size =  3609.38 MB / num tensors = 285\n"
     ]
    }
   ],
   "source": [
    "from gpt4all import GPT4All\n",
    "\n",
    "gptj = GPT4All(\"ggml-gpt4all-j-v1.3-groovy\")"
   ]
  },
  {
   "cell_type": "code",
   "execution_count": 3,
   "id": "c389080b",
   "metadata": {},
   "outputs": [
    {
     "name": "stdout",
     "output_type": "stream",
     "text": [
      "### Instruction: \n",
      "            The prompt below is a question to answer, a task to complete, or a conversation \n",
      "            to respond to; decide which and write an appropriate response.\n",
      "            \n",
      "### Prompt: \n",
      "suggest some nice outfits for a friends wedding\n",
      "### Response:\n",
      "\n",
      " \n",
      "Sure, here are some suggestions for nice outfits to wear on a friend's wedding:\n",
      "- A classic white dress or suit with a matching tie\n",
      "- A colorful sundress or jumpsuit with a statement necklace\n",
      "- A formal black or navy dress with a matching jacket\n",
      "- A trendy denim or leather outfit with a statement scarf\n",
      "- A classic navy blue dress with a matching jacket and tie\n",
      "- A colorful jumpsuit with a statement necklace and matching shoes\n",
      "- A formal black or navy dress with a matching jacket and tie\n",
      "- A trendy denim or leather outfit with a statement scarf and matching shoes\n",
      "- A classic white\n",
      "==============\n",
      "{'model': 'ggml-gpt4all-j-v1.3-groovy', 'usage': {'prompt_tokens': 273, 'completion_tokens': 588, 'total_tokens': 861}, 'choices': [{'message': {'role': 'assistant', 'content': \" \\nSure, here are some suggestions for nice outfits to wear on a friend's wedding:\\n- A classic white dress or suit with a matching tie\\n- A colorful sundress or jumpsuit with a statement necklace\\n- A formal black or navy dress with a matching jacket\\n- A trendy denim or leather outfit with a statement scarf\\n- A classic navy blue dress with a matching jacket and tie\\n- A colorful jumpsuit with a statement necklace and matching shoes\\n- A formal black or navy dress with a matching jacket and tie\\n- A trendy denim or leather outfit with a statement scarf and matching shoes\\n- A classic white\"}}]}\n"
     ]
    }
   ],
   "source": [
    "messages = [{\"role\": \"user\", \"content\": \"suggest some nice outfits for a friends wedding\"}]\n",
    "res= gptj.chat_completion(messages,streaming=False)\n",
    "# res=gptj.generate(messages,[])\n",
    "print(\"==============\")\n",
    "print(res)"
   ]
  },
  {
   "cell_type": "code",
   "execution_count": 4,
   "id": "1ba35585",
   "metadata": {},
   "outputs": [],
   "source": [
    "# res= gptj.chat_completion(messages,streaming=False)"
   ]
  },
  {
   "cell_type": "code",
   "execution_count": 5,
   "id": "ebf6e1ab",
   "metadata": {},
   "outputs": [
    {
     "name": "stdout",
     "output_type": "stream",
     "text": [
      "dict_keys(['model', 'usage', 'choices'])\n"
     ]
    }
   ],
   "source": [
    "print(res.keys())"
   ]
  },
  {
   "cell_type": "code",
   "execution_count": 6,
   "id": "244000fe",
   "metadata": {},
   "outputs": [
    {
     "name": "stdout",
     "output_type": "stream",
     "text": [
      "[{'message': {'role': 'assistant', 'content': \" \\nSure, here are some suggestions for nice outfits to wear on a friend's wedding:\\n- A classic white dress or suit with a matching tie\\n- A colorful sundress or jumpsuit with a statement necklace\\n- A formal black or navy dress with a matching jacket\\n- A trendy denim or leather outfit with a statement scarf\\n- A classic navy blue dress with a matching jacket and tie\\n- A colorful jumpsuit with a statement necklace and matching shoes\\n- A formal black or navy dress with a matching jacket and tie\\n- A trendy denim or leather outfit with a statement scarf and matching shoes\\n- A classic white\"}}]\n"
     ]
    }
   ],
   "source": [
    "print(res[\"choices\"])"
   ]
  },
  {
   "cell_type": "code",
   "execution_count": 7,
   "id": "69c9eda6",
   "metadata": {},
   "outputs": [
    {
     "name": "stdout",
     "output_type": "stream",
     "text": [
      " \n",
      "Sure, here are some suggestions for nice outfits to wear on a friend's wedding:\n",
      "- A classic white dress or suit with a matching tie\n",
      "- A colorful sundress or jumpsuit with a statement necklace\n",
      "- A formal black or navy dress with a matching jacket\n",
      "- A trendy denim or leather outfit with a statement scarf\n",
      "- A classic navy blue dress with a matching jacket and tie\n",
      "- A colorful jumpsuit with a statement necklace and matching shoes\n",
      "- A formal black or navy dress with a matching jacket and tie\n",
      "- A trendy denim or leather outfit with a statement scarf and matching shoes\n",
      "- A classic white\n"
     ]
    }
   ],
   "source": [
    "print(res[\"choices\"][0]['message']['content'])"
   ]
  },
  {
   "cell_type": "code",
   "execution_count": 8,
   "id": "3210fdf8",
   "metadata": {},
   "outputs": [
    {
     "name": "stdout",
     "output_type": "stream",
     "text": [
      " \n",
      "Sure, here are some suggestions for nice outfits to wear on a friend's wedding:\n",
      "- A classic white dress or suit with a matching tie\n",
      "- A colorful sundress or jumpsuit with a statement necklace\n",
      "- A formal black or navy dress with a matching jacket\n",
      "- A trendy denim or leather outfit with a statement scarf\n",
      "- A classic navy blue dress with a matching jacket and tie\n",
      "- A colorful jumpsuit with a statement necklace and matching shoes\n",
      "- A formal black or navy dress with a matching jacket and tie\n",
      "- A trendy denim or leather outfit with a statement scarf and matching shoes\n",
      "- A classic white\n"
     ]
    }
   ],
   "source": [
    "response = res[\"choices\"][0]['message']['content']\n",
    "print(response)"
   ]
  },
  {
   "cell_type": "code",
   "execution_count": 9,
   "id": "cf794a24",
   "metadata": {},
   "outputs": [
    {
     "name": "stdout",
     "output_type": "stream",
     "text": [
      " \n",
      "Sure, here are some suggestions for nice outfits to wear on a friend's wedding:\n",
      "- A classic white dress or suit with a matching tie\n",
      "- A colorful sundress or jumpsuit with a statement necklace\n",
      "- A formal black or navy dress with a matching jacket\n",
      "- A trendy denim or leather outfit with a statement scarf\n",
      "- A classic navy blue dress with a matching jacket and tie\n",
      "- A colorful jumpsuit with a statement necklace and matching shoes\n",
      "- A formal black or navy dress with a matching jacket and tie\n",
      "- A trendy denim or leather outfit with a statement scarf and matching shoes\n",
      "- A classic white\n",
      " \n",
      " SPACE dep\n",
      "Sure ADV advmod\n",
      ", PUNCT punct\n",
      "here ADV advmod\n",
      "are AUX ROOT\n",
      "some DET det\n",
      "suggestions NOUN nsubj\n",
      "for ADP prep\n",
      "nice ADJ amod\n",
      "outfits NOUN pobj\n",
      "to PART aux\n",
      "wear VERB relcl\n",
      "on ADP prep\n",
      "a DET det\n",
      "friend NOUN poss\n",
      "'s PART case\n",
      "wedding NOUN pobj\n",
      ": PUNCT punct\n",
      "\n",
      " SPACE dep\n",
      "- PUNCT punct\n",
      "A DET det\n",
      "classic ADJ amod\n",
      "white ADJ amod\n",
      "dress NOUN appos\n",
      "or CCONJ cc\n",
      "suit NOUN conj\n",
      "with ADP prep\n",
      "a DET det\n",
      "matching ADJ amod\n",
      "tie NOUN nmod\n",
      "\n",
      " SPACE dep\n",
      "- PUNCT punct\n",
      "A DET det\n",
      "colorful ADJ amod\n",
      "sundress NOUN pobj\n",
      "or CCONJ cc\n",
      "jumpsuit VERB conj\n",
      "with ADP prep\n",
      "a DET det\n",
      "statement NOUN pobj\n",
      "necklace NOUN npadvmod\n",
      "\n",
      " SPACE dep\n",
      "- PUNCT punct\n",
      "A DET det\n",
      "formal ADJ amod\n",
      "black ADJ amod\n",
      "or CCONJ cc\n",
      "navy NOUN conj\n",
      "dress NOUN appos\n",
      "with ADP prep\n",
      "a DET det\n",
      "matching VERB amod\n",
      "jacket NOUN compound\n",
      "\n",
      " SPACE dep\n",
      "- PUNCT punct\n",
      "A NOUN det\n",
      "trendy ADJ amod\n",
      "denim NOUN pobj\n",
      "or CCONJ cc\n",
      "leather NOUN compound\n",
      "outfit NOUN conj\n",
      "with ADP prep\n",
      "a DET det\n",
      "statement NOUN compound\n",
      "scarf NOUN compound\n",
      "\n",
      " SPACE dep\n",
      "- PUNCT punct\n",
      "A DET det\n",
      "classic ADJ amod\n",
      "navy NOUN npadvmod\n",
      "blue ADJ amod\n",
      "dress NOUN pobj\n",
      "with ADP prep\n",
      "a DET det\n",
      "matching VERB amod\n",
      "jacket NOUN pobj\n",
      "and CCONJ cc\n",
      "tie NOUN compound\n",
      "\n",
      " SPACE dep\n",
      "- PUNCT punct\n",
      "A DET det\n",
      "colorful ADJ amod\n",
      "jumpsuit NOUN conj\n",
      "with ADP prep\n",
      "a DET det\n",
      "statement NOUN compound\n",
      "necklace NOUN pobj\n",
      "and CCONJ cc\n",
      "matching NOUN amod\n",
      "shoes NOUN conj\n",
      "\n",
      " SPACE dep\n",
      "- PUNCT punct\n",
      "A DET det\n",
      "formal ADJ amod\n",
      "black ADJ amod\n",
      "or CCONJ cc\n",
      "navy NOUN conj\n",
      "dress NOUN appos\n",
      "with ADP prep\n",
      "a DET det\n",
      "matching VERB amod\n",
      "jacket NOUN pobj\n",
      "and CCONJ cc\n",
      "tie NOUN compound\n",
      "\n",
      " SPACE dep\n",
      "- PUNCT punct\n",
      "A NOUN det\n",
      "trendy ADJ amod\n",
      "denim NOUN conj\n",
      "or CCONJ cc\n",
      "leather NOUN compound\n",
      "outfit NOUN conj\n",
      "with ADP prep\n",
      "a DET det\n",
      "statement NOUN compound\n",
      "scarf NOUN pobj\n",
      "and CCONJ cc\n",
      "matching NOUN amod\n",
      "shoes NOUN conj\n",
      "\n",
      " SPACE dep\n",
      "- PUNCT punct\n",
      "A DET det\n",
      "classic ADJ amod\n",
      "white NOUN attr\n",
      "['some suggestions', 'nice outfits', \"a friend's wedding\", '- A classic white dress', 'suit', 'a matching tie\\n- A colorful sundress', 'a statement', 'A formal black or navy dress', 'a matching jacket\\n- A trendy denim', 'leather outfit', 'a statement scarf\\n- A classic navy blue dress', 'a matching jacket', 'tie\\n- A colorful jumpsuit', 'a statement necklace', 'matching shoes', 'A formal black or navy dress', 'a matching jacket', 'tie\\n- A trendy denim', 'leather outfit', 'a statement scarf', 'matching shoes', 'A classic white']\n",
      "22\n",
      "['suggestions', 'nice outfits', \"friend 's wedding\", 'A classic white dress', 'suit', 'matching tie \\n A colorful sundress', 'statement', 'formal black or navy dress', 'matching jacket \\n A trendy denim', 'leather outfit', 'statement scarf \\n A classic navy blue dress', 'matching jacket', 'tie \\n A colorful jumpsuit', 'statement necklace', 'matching shoes', 'formal black or navy dress', 'matching jacket', 'tie \\n A trendy denim', 'leather outfit', 'statement scarf', 'matching shoes', 'classic white']\n"
     ]
    }
   ],
   "source": [
    "import spacy\n",
    "nlp = spacy.load(\"en_core_web_md\")\n",
    "\n",
    "# Assume you have already generated a response with filtering\n",
    "sentence = \"I am a 31 year old male interested in casual clothing in the summer.\"\n",
    "\n",
    "doc = nlp(response)\n",
    "\n",
    "print(doc.text)\n",
    "for token in doc:\n",
    "    print(token.text, token.pos_, token.dep_)\n",
    "\n",
    "# nouns = []\n",
    "#\n",
    "# for token in doc:\n",
    "#     if token.pos_ == \"NOUN\" or token.pos_ == \"NUM\":\n",
    "#         nouns.append(token)\n",
    "#\n",
    "# adjectives = []\n",
    "#\n",
    "# for token in doc:\n",
    "#     if token.pos_ == \"ADJ\":\n",
    "#         adjectives.append(token)\n",
    "#\n",
    "# print(\"The nouns are: \" + str(nouns))\n",
    "# print(\"The adjectives are: \" + str(adjectives))\n",
    "#\n",
    "\n",
    "print\n",
    "print\n",
    "print\n",
    "print\n",
    "\n",
    "noun_chunks = [chunk.text for chunk in doc.noun_chunks]\n",
    "\n",
    "# Print the noun chunks\n",
    "print(noun_chunks)\n",
    "\n",
    "totalclean = []\n",
    "\n",
    "for noun_phrase in noun_chunks:\n",
    "    words = nlp(noun_phrase)\n",
    "\n",
    "    wordlist = [word for word in words]\n",
    "\n",
    "    for word in wordlist:\n",
    "        if word.pos_ == \"DET\" or word.pos_ == \"PRON\" or word.pos_ == \"PUNCT\":\n",
    "            wordlist.remove(word)\n",
    "    \n",
    "    # print(wordlist)\n",
    "    if wordlist:\n",
    "        totalclean.append(wordlist)\n",
    "    \n",
    "print(len(totalclean))\n",
    "cleaned_chunks = []\n",
    "\n",
    "for i in range(len(totalclean)):\n",
    "    text = []\n",
    "    for h in range(len(totalclean[i])):\n",
    "        text.append(totalclean[i][h].text)\n",
    "        textstr = ' '.join(text)\n",
    "\n",
    "    \n",
    "    # print(textstr)\n",
    "    cleaned_chunks.append(textstr)\n",
    "\n",
    "print(cleaned_chunks)"
   ]
  },
  {
   "cell_type": "code",
   "execution_count": 10,
   "id": "376a0eda",
   "metadata": {},
   "outputs": [
    {
     "name": "stdout",
     "output_type": "stream",
     "text": [
      "['leather outfit', 'tie \\n A colorful jumpsuit', 'formal black or navy dress', 'matching shoes', 'nice outfits', 'matching tie \\n A colorful sundress', 'matching jacket \\n A trendy denim', 'statement scarf \\n A classic navy blue dress', 'statement necklace', 'statement scarf', 'classic white', 'tie \\n A trendy denim', 'matching jacket', 'suit', 'A classic white dress', \"friend 's wedding\", 'statement', 'suggestions']\n"
     ]
    }
   ],
   "source": [
    "cleaned_chunks = list(set(cleaned_chunks))\n",
    "print(cleaned_chunks)"
   ]
  },
  {
   "cell_type": "code",
   "execution_count": 11,
   "id": "e4825b22",
   "metadata": {},
   "outputs": [
    {
     "name": "stdout",
     "output_type": "stream",
     "text": [
      "                                   Original Name        Lookup 1  \\\n",
      "0                                 leather outfit     Sweatshirts   \n",
      "1                     tie \\n A colorful jumpsuit  Casual Jackets   \n",
      "2                     formal black or navy dress  Casual Dresses   \n",
      "3                                 matching shoes         Watches   \n",
      "4                                   nice outfits        T-Shirts   \n",
      "5            matching tie \\n A colorful sundress  Casual Dresses   \n",
      "6              matching jacket \\n A trendy denim  Casual Jackets   \n",
      "7   statement scarf \\n A classic navy blue dress  Casual Dresses   \n",
      "8                             statement necklace        T-Shirts   \n",
      "9                                statement scarf        T-Shirts   \n",
      "10                                 classic white      Sunglasses   \n",
      "11                         tie \\n A trendy denim        T-Shirts   \n",
      "12                               matching jacket  Casual Jackets   \n",
      "13                                          suit        T-Shirts   \n",
      "14                         A classic white dress  Casual Dresses   \n",
      "15                             friend 's wedding        Leggings   \n",
      "16                                     statement        T-Shirts   \n",
      "17                                   suggestions         Joggers   \n",
      "\n",
      "    Lookup 1 Confidence  Lookup 1 Index  \n",
      "0                  0.38               4  \n",
      "1                  0.34              18  \n",
      "2                  0.66               5  \n",
      "3                  0.40              14  \n",
      "4                  0.00               0  \n",
      "5                  0.37               5  \n",
      "6                  0.58              18  \n",
      "7                  0.56               5  \n",
      "8                  0.00               0  \n",
      "9                  0.00               0  \n",
      "10                 0.51              13  \n",
      "11                 0.00               0  \n",
      "12                 0.58              18  \n",
      "13                 0.00               0  \n",
      "14                 0.56               5  \n",
      "15                 0.41               7  \n",
      "16                 0.00               0  \n",
      "17                 0.46               8  \n"
     ]
    }
   ],
   "source": [
    "# Import tfidf_matcher\n",
    "import tfidf_matcher as tm\n",
    "\n",
    "# Define the database entries\n",
    "database_entries = [\n",
    "    \"T-Shirts\",\n",
    "    \"Jeans\",\n",
    "    \"Shorts\",\n",
    "    \"Hoodies\",\n",
    "    \"Sweatshirts\",\n",
    "    \"Casual Dresses\",\n",
    "    \"Casual Shirts\",\n",
    "    \"Leggings\",\n",
    "    \"Joggers\",\n",
    "    \"Sneakers\",\n",
    "    \"Sandals\",\n",
    "    \"Backpacks\",\n",
    "    \"Caps\",\n",
    "    \"Sunglasses\",\n",
    "    \"Watches\",\n",
    "    \"Belts\",\n",
    "    \"Casual Skirts\",\n",
    "    \"Casual Tops\",\n",
    "    \"Casual Jackets\",\n",
    "    \"Casual Pants\"\n",
    "]\n",
    "\n",
    "\n",
    "\n",
    "# Define the distance threshold\n",
    "threshold = 0.5\n",
    "\n",
    "# Match the cleaned phrases with the database entries and return the closest match for each phrase\n",
    "matches = tm.matcher(cleaned_chunks, database_entries, k_matches=1)\n",
    "\n",
    "print(matches)"
   ]
  },
  {
   "cell_type": "code",
   "execution_count": 12,
   "id": "286599ff",
   "metadata": {},
   "outputs": [
    {
     "name": "stdout",
     "output_type": "stream",
     "text": [
      "                                   Original Name        Lookup 1  \\\n",
      "2                     formal black or navy dress  Casual Dresses   \n",
      "6              matching jacket \\n A trendy denim  Casual Jackets   \n",
      "12                               matching jacket  Casual Jackets   \n",
      "14                         A classic white dress  Casual Dresses   \n",
      "7   statement scarf \\n A classic navy blue dress  Casual Dresses   \n",
      "10                                 classic white      Sunglasses   \n",
      "17                                   suggestions         Joggers   \n",
      "15                             friend 's wedding        Leggings   \n",
      "3                                 matching shoes         Watches   \n",
      "0                                 leather outfit     Sweatshirts   \n",
      "5            matching tie \\n A colorful sundress  Casual Dresses   \n",
      "1                     tie \\n A colorful jumpsuit  Casual Jackets   \n",
      "11                         tie \\n A trendy denim        T-Shirts   \n",
      "8                             statement necklace        T-Shirts   \n",
      "13                                          suit        T-Shirts   \n",
      "4                                   nice outfits        T-Shirts   \n",
      "16                                     statement        T-Shirts   \n",
      "9                                statement scarf        T-Shirts   \n",
      "\n",
      "    Lookup 1 Confidence  Lookup 1 Index  \n",
      "2                  0.66               5  \n",
      "6                  0.58              18  \n",
      "12                 0.58              18  \n",
      "14                 0.56               5  \n",
      "7                  0.56               5  \n",
      "10                 0.51              13  \n",
      "17                 0.46               8  \n",
      "15                 0.41               7  \n",
      "3                  0.40              14  \n",
      "0                  0.38               4  \n",
      "5                  0.37               5  \n",
      "1                  0.34              18  \n",
      "11                 0.00               0  \n",
      "8                  0.00               0  \n",
      "13                 0.00               0  \n",
      "4                  0.00               0  \n",
      "16                 0.00               0  \n",
      "9                  0.00               0  \n"
     ]
    }
   ],
   "source": [
    "matches_sorted = matches.sort_values(by=['Lookup 1 Confidence'], ascending=False)\n",
    "print(matches_sorted)"
   ]
  },
  {
   "cell_type": "code",
   "execution_count": null,
   "id": "4280c08c",
   "metadata": {},
   "outputs": [],
   "source": []
  }
 ],
 "metadata": {
  "kernelspec": {
   "display_name": "Python 3 (ipykernel)",
   "language": "python",
   "name": "python3"
  },
  "language_info": {
   "codemirror_mode": {
    "name": "ipython",
    "version": 3
   },
   "file_extension": ".py",
   "mimetype": "text/x-python",
   "name": "python",
   "nbconvert_exporter": "python",
   "pygments_lexer": "ipython3",
   "version": "3.8.10"
  }
 },
 "nbformat": 4,
 "nbformat_minor": 5
}
