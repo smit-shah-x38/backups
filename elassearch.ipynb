{
 "cells": [
  {
   "cell_type": "code",
   "execution_count": 1,
   "metadata": {},
   "outputs": [
    {
     "name": "stderr",
     "output_type": "stream",
     "text": [
      "2023-09-27 11:57:50.210727: I tensorflow/core/util/port.cc:110] oneDNN custom operations are on. You may see slightly different numerical results due to floating-point round-off errors from different computation orders. To turn them off, set the environment variable `TF_ENABLE_ONEDNN_OPTS=0`.\n",
      "2023-09-27 11:57:50.212935: I tensorflow/tsl/cuda/cudart_stub.cc:28] Could not find cuda drivers on your machine, GPU will not be used.\n",
      "2023-09-27 11:57:50.260150: I tensorflow/tsl/cuda/cudart_stub.cc:28] Could not find cuda drivers on your machine, GPU will not be used.\n",
      "2023-09-27 11:57:50.261113: I tensorflow/core/platform/cpu_feature_guard.cc:182] This TensorFlow binary is optimized to use available CPU instructions in performance-critical operations.\n",
      "To enable the following instructions: AVX2 AVX512F AVX512_VNNI FMA, in other operations, rebuild TensorFlow with the appropriate compiler flags.\n",
      "2023-09-27 11:57:51.002877: W tensorflow/compiler/tf2tensorrt/utils/py_utils.cc:38] TF-TRT Warning: Could not find TensorRT\n"
     ]
    }
   ],
   "source": [
    "from deepface import DeepFace\n",
    "import os\n",
    "import pandas as pd"
   ]
  },
  {
   "cell_type": "code",
   "execution_count": 5,
   "metadata": {},
   "outputs": [],
   "source": [
    "img_dir = \"/var/wd_smit/internal_repos/backups/images\"\n",
    "models = [\"VGG-Face\", \"Facenet\", \"OpenFace\", \"DeepFace\", \"Dlib\", \"ArcFace\"]\n",
    "embeddings = []\n",
    "face_coords = []\n",
    "names = []\n",
    "\n",
    "df_1 = pd.DataFrame({\"embedding\": [], \"facial_area\": []})\n",
    "\n",
    "for img_name in os.listdir(img_dir):\n",
    "    img_path = os.path.join(img_dir, img_name)\n",
    "    embedding = DeepFace.represent(img_path, model_name=models[1])\n",
    "    embeddings.append(embedding[0][\"embedding\"])\n",
    "    face_coords.append(embedding[0][\"facial_area\"])\n",
    "    names.append(img_name)\n",
    "\n",
    "    dftemp = pd.DataFrame(embedding)\n",
    "    df_1 = pd.concat([df_1, dftemp], ignore_index=True)\n",
    "\n",
    "df_1[\"name\"] = names\n",
    "df_1\n",
    "\n",
    "templist = []\n",
    "\n",
    "for i in range(len(df_1['facial_area'])):\n",
    "    temp = []\n",
    "    for key, value in df_1['facial_area'][i].items():\n",
    "        temp.append(value)\n",
    "    templist.append(temp)\n",
    "\n",
    "df_1['facial_area'] = templist"
   ]
  },
  {
   "cell_type": "code",
   "execution_count": 6,
   "metadata": {},
   "outputs": [
    {
     "data": {
      "text/html": [
       "<div>\n",
       "<style scoped>\n",
       "    .dataframe tbody tr th:only-of-type {\n",
       "        vertical-align: middle;\n",
       "    }\n",
       "\n",
       "    .dataframe tbody tr th {\n",
       "        vertical-align: top;\n",
       "    }\n",
       "\n",
       "    .dataframe thead th {\n",
       "        text-align: right;\n",
       "    }\n",
       "</style>\n",
       "<table border=\"1\" class=\"dataframe\">\n",
       "  <thead>\n",
       "    <tr style=\"text-align: right;\">\n",
       "      <th></th>\n",
       "      <th>embedding</th>\n",
       "      <th>facial_area</th>\n",
       "      <th>name</th>\n",
       "    </tr>\n",
       "  </thead>\n",
       "  <tbody>\n",
       "    <tr>\n",
       "      <th>0</th>\n",
       "      <td>[-0.40423446893692017, -0.031015239655971527, ...</td>\n",
       "      <td>[97, 26, 82, 82]</td>\n",
       "      <td>Untitled.jpg</td>\n",
       "    </tr>\n",
       "    <tr>\n",
       "      <th>1</th>\n",
       "      <td>[-1.147232174873352, 0.5872104167938232, 0.777...</td>\n",
       "      <td>[102, 30, 79, 79]</td>\n",
       "      <td>Untitled2.jpg</td>\n",
       "    </tr>\n",
       "    <tr>\n",
       "      <th>2</th>\n",
       "      <td>[-0.8615654706954956, -0.691304087638855, -0.0...</td>\n",
       "      <td>[150, 176, 519, 519]</td>\n",
       "      <td>Elon_Musk_Colorado_2022_(cropped2).jpg</td>\n",
       "    </tr>\n",
       "    <tr>\n",
       "      <th>3</th>\n",
       "      <td>[-1.1388880014419556, 0.7310553789138794, -1.6...</td>\n",
       "      <td>[38, 56, 96, 96]</td>\n",
       "      <td>Untitled1.jpg</td>\n",
       "    </tr>\n",
       "  </tbody>\n",
       "</table>\n",
       "</div>"
      ],
      "text/plain": [
       "                                           embedding           facial_area  \\\n",
       "0  [-0.40423446893692017, -0.031015239655971527, ...      [97, 26, 82, 82]   \n",
       "1  [-1.147232174873352, 0.5872104167938232, 0.777...     [102, 30, 79, 79]   \n",
       "2  [-0.8615654706954956, -0.691304087638855, -0.0...  [150, 176, 519, 519]   \n",
       "3  [-1.1388880014419556, 0.7310553789138794, -1.6...      [38, 56, 96, 96]   \n",
       "\n",
       "                                     name  \n",
       "0                            Untitled.jpg  \n",
       "1                           Untitled2.jpg  \n",
       "2  Elon_Musk_Colorado_2022_(cropped2).jpg  \n",
       "3                           Untitled1.jpg  "
      ]
     },
     "execution_count": 6,
     "metadata": {},
     "output_type": "execute_result"
    }
   ],
   "source": [
    "df_1"
   ]
  },
  {
   "cell_type": "code",
   "execution_count": 8,
   "metadata": {},
   "outputs": [
    {
     "data": {
      "text/html": [
       "<div>\n",
       "<style scoped>\n",
       "    .dataframe tbody tr th:only-of-type {\n",
       "        vertical-align: middle;\n",
       "    }\n",
       "\n",
       "    .dataframe tbody tr th {\n",
       "        vertical-align: top;\n",
       "    }\n",
       "\n",
       "    .dataframe thead th {\n",
       "        text-align: right;\n",
       "    }\n",
       "</style>\n",
       "<table border=\"1\" class=\"dataframe\">\n",
       "  <thead>\n",
       "    <tr style=\"text-align: right;\">\n",
       "      <th></th>\n",
       "      <th>embedding</th>\n",
       "      <th>facial_area</th>\n",
       "      <th>name</th>\n",
       "    </tr>\n",
       "  </thead>\n",
       "  <tbody>\n",
       "    <tr>\n",
       "      <th>0</th>\n",
       "      <td>[0.009040644392371178, -0.01007477194070816, 0...</td>\n",
       "      <td>[97, 26, 82, 82]</td>\n",
       "      <td>Untitled.jpg</td>\n",
       "    </tr>\n",
       "    <tr>\n",
       "      <th>1</th>\n",
       "      <td>[0.010348817333579063, 0.0034686659928411245, ...</td>\n",
       "      <td>[102, 30, 79, 79]</td>\n",
       "      <td>Untitled2.jpg</td>\n",
       "    </tr>\n",
       "    <tr>\n",
       "      <th>2</th>\n",
       "      <td>[0.009841795079410076, 0.020586512982845306, 0...</td>\n",
       "      <td>[150, 176, 519, 519]</td>\n",
       "      <td>Elon_Musk_Colorado_2022_(cropped2).jpg</td>\n",
       "    </tr>\n",
       "    <tr>\n",
       "      <th>3</th>\n",
       "      <td>[0.00940479151904583, -0.0032933431211858988, ...</td>\n",
       "      <td>[38, 56, 96, 96]</td>\n",
       "      <td>Untitled1.jpg</td>\n",
       "    </tr>\n",
       "  </tbody>\n",
       "</table>\n",
       "</div>"
      ],
      "text/plain": [
       "                                           embedding           facial_area  \\\n",
       "0  [0.009040644392371178, -0.01007477194070816, 0...      [97, 26, 82, 82]   \n",
       "1  [0.010348817333579063, 0.0034686659928411245, ...     [102, 30, 79, 79]   \n",
       "2  [0.009841795079410076, 0.020586512982845306, 0...  [150, 176, 519, 519]   \n",
       "3  [0.00940479151904583, -0.0032933431211858988, ...      [38, 56, 96, 96]   \n",
       "\n",
       "                                     name  \n",
       "0                            Untitled.jpg  \n",
       "1                           Untitled2.jpg  \n",
       "2  Elon_Musk_Colorado_2022_(cropped2).jpg  \n",
       "3                           Untitled1.jpg  "
      ]
     },
     "execution_count": 8,
     "metadata": {},
     "output_type": "execute_result"
    }
   ],
   "source": [
    "embeddings = []\n",
    "face_coords = []\n",
    "names = []\n",
    "\n",
    "df_0 = pd.DataFrame({\"embedding\": [], \"facial_area\": []})\n",
    "\n",
    "for img_name in os.listdir(img_dir):\n",
    "    img_path = os.path.join(img_dir, img_name)\n",
    "    embedding = DeepFace.represent(img_path, model_name=models[0])\n",
    "    embeddings.append(embedding[0][\"embedding\"])\n",
    "    face_coords.append(embedding[0][\"facial_area\"])\n",
    "    names.append(img_name)\n",
    "\n",
    "    dftemp = pd.DataFrame(embedding)\n",
    "    df_0 = pd.concat([df_0, dftemp], ignore_index=True)\n",
    "\n",
    "df_0[\"name\"] = names\n",
    "df_0\n",
    "\n",
    "templist = []\n",
    "\n",
    "for i in range(len(df_0['facial_area'])):\n",
    "    temp = []\n",
    "    for key, value in df_0['facial_area'][i].items():\n",
    "        temp.append(value)\n",
    "    templist.append(temp)\n",
    "\n",
    "df_0['facial_area'] = templist\n",
    "df_0"
   ]
  },
  {
   "cell_type": "code",
   "execution_count": 9,
   "metadata": {},
   "outputs": [
    {
     "name": "stdout",
     "output_type": "stream",
     "text": [
      "openface_weights.h5 will be downloaded...\n"
     ]
    },
    {
     "name": "stderr",
     "output_type": "stream",
     "text": [
      "Downloading...\n",
      "From: https://github.com/serengil/deepface_models/releases/download/v1.0/openface_weights.h5\n",
      "To: /root/.deepface/weights/openface_weights.h5\n",
      "100%|██████████| 15.3M/15.3M [00:01<00:00, 13.0MB/s]\n"
     ]
    },
    {
     "data": {
      "text/html": [
       "<div>\n",
       "<style scoped>\n",
       "    .dataframe tbody tr th:only-of-type {\n",
       "        vertical-align: middle;\n",
       "    }\n",
       "\n",
       "    .dataframe tbody tr th {\n",
       "        vertical-align: top;\n",
       "    }\n",
       "\n",
       "    .dataframe thead th {\n",
       "        text-align: right;\n",
       "    }\n",
       "</style>\n",
       "<table border=\"1\" class=\"dataframe\">\n",
       "  <thead>\n",
       "    <tr style=\"text-align: right;\">\n",
       "      <th></th>\n",
       "      <th>embedding</th>\n",
       "      <th>facial_area</th>\n",
       "      <th>name</th>\n",
       "    </tr>\n",
       "  </thead>\n",
       "  <tbody>\n",
       "    <tr>\n",
       "      <th>0</th>\n",
       "      <td>[0.011916913092136383, -0.011097206734120846, ...</td>\n",
       "      <td>[97, 26, 82, 82]</td>\n",
       "      <td>Untitled.jpg</td>\n",
       "    </tr>\n",
       "    <tr>\n",
       "      <th>1</th>\n",
       "      <td>[0.01661570928990841, -0.005303579848259687, 0...</td>\n",
       "      <td>[102, 30, 79, 79]</td>\n",
       "      <td>Untitled2.jpg</td>\n",
       "    </tr>\n",
       "    <tr>\n",
       "      <th>2</th>\n",
       "      <td>[0.1301092952489853, 0.010727978311479092, -0....</td>\n",
       "      <td>[150, 176, 519, 519]</td>\n",
       "      <td>Elon_Musk_Colorado_2022_(cropped2).jpg</td>\n",
       "    </tr>\n",
       "    <tr>\n",
       "      <th>3</th>\n",
       "      <td>[0.0872940942645073, -0.06920555233955383, 0.0...</td>\n",
       "      <td>[38, 56, 96, 96]</td>\n",
       "      <td>Untitled1.jpg</td>\n",
       "    </tr>\n",
       "  </tbody>\n",
       "</table>\n",
       "</div>"
      ],
      "text/plain": [
       "                                           embedding           facial_area  \\\n",
       "0  [0.011916913092136383, -0.011097206734120846, ...      [97, 26, 82, 82]   \n",
       "1  [0.01661570928990841, -0.005303579848259687, 0...     [102, 30, 79, 79]   \n",
       "2  [0.1301092952489853, 0.010727978311479092, -0....  [150, 176, 519, 519]   \n",
       "3  [0.0872940942645073, -0.06920555233955383, 0.0...      [38, 56, 96, 96]   \n",
       "\n",
       "                                     name  \n",
       "0                            Untitled.jpg  \n",
       "1                           Untitled2.jpg  \n",
       "2  Elon_Musk_Colorado_2022_(cropped2).jpg  \n",
       "3                           Untitled1.jpg  "
      ]
     },
     "execution_count": 9,
     "metadata": {},
     "output_type": "execute_result"
    }
   ],
   "source": [
    "embeddings = []\n",
    "face_coords = []\n",
    "names = []\n",
    "\n",
    "df_2 = pd.DataFrame({\"embedding\": [], \"facial_area\": []})\n",
    "\n",
    "for img_name in os.listdir(img_dir):\n",
    "    img_path = os.path.join(img_dir, img_name)\n",
    "    embedding = DeepFace.represent(img_path, model_name=models[2])\n",
    "    embeddings.append(embedding[0][\"embedding\"])\n",
    "    face_coords.append(embedding[0][\"facial_area\"])\n",
    "    names.append(img_name)\n",
    "\n",
    "    dftemp = pd.DataFrame(embedding)\n",
    "    df_2 = pd.concat([df_2, dftemp], ignore_index=True)\n",
    "\n",
    "df_2[\"name\"] = names\n",
    "df_2\n",
    "\n",
    "templist = []\n",
    "\n",
    "for i in range(len(df_2['facial_area'])):\n",
    "    temp = []\n",
    "    for key, value in df_2['facial_area'][i].items():\n",
    "        temp.append(value)\n",
    "    templist.append(temp)\n",
    "\n",
    "df_2['facial_area'] = templist\n",
    "df_2"
   ]
  },
  {
   "cell_type": "code",
   "execution_count": 10,
   "metadata": {},
   "outputs": [
    {
     "name": "stdout",
     "output_type": "stream",
     "text": [
      "VGGFace2_DeepFace_weights_val-0.9034.h5 will be downloaded...\n"
     ]
    },
    {
     "name": "stderr",
     "output_type": "stream",
     "text": [
      "Downloading...\n",
      "From: https://github.com/swghosh/DeepFace/releases/download/weights-vggface2-2d-aligned/VGGFace2_DeepFace_weights_val-0.9034.h5.zip\n",
      "To: /root/.deepface/weights/VGGFace2_DeepFace_weights_val-0.9034.h5.zip\n",
      "100%|██████████| 511M/511M [00:31<00:00, 16.2MB/s] \n"
     ]
    },
    {
     "data": {
      "text/html": [
       "<div>\n",
       "<style scoped>\n",
       "    .dataframe tbody tr th:only-of-type {\n",
       "        vertical-align: middle;\n",
       "    }\n",
       "\n",
       "    .dataframe tbody tr th {\n",
       "        vertical-align: top;\n",
       "    }\n",
       "\n",
       "    .dataframe thead th {\n",
       "        text-align: right;\n",
       "    }\n",
       "</style>\n",
       "<table border=\"1\" class=\"dataframe\">\n",
       "  <thead>\n",
       "    <tr style=\"text-align: right;\">\n",
       "      <th></th>\n",
       "      <th>embedding</th>\n",
       "      <th>facial_area</th>\n",
       "      <th>name</th>\n",
       "    </tr>\n",
       "  </thead>\n",
       "  <tbody>\n",
       "    <tr>\n",
       "      <th>0</th>\n",
       "      <td>[0.0, 0.0, 0.0, 0.706417441368103, 0.874958515...</td>\n",
       "      <td>[97, 26, 82, 82]</td>\n",
       "      <td>Untitled.jpg</td>\n",
       "    </tr>\n",
       "    <tr>\n",
       "      <th>1</th>\n",
       "      <td>[0.0, 0.0, 0.0, 0.0, 1.7701687812805176, 3.962...</td>\n",
       "      <td>[102, 30, 79, 79]</td>\n",
       "      <td>Untitled2.jpg</td>\n",
       "    </tr>\n",
       "    <tr>\n",
       "      <th>2</th>\n",
       "      <td>[0.0, 0.0, 1.9485583305358887, 0.0, 2.42336130...</td>\n",
       "      <td>[150, 176, 519, 519]</td>\n",
       "      <td>Elon_Musk_Colorado_2022_(cropped2).jpg</td>\n",
       "    </tr>\n",
       "    <tr>\n",
       "      <th>3</th>\n",
       "      <td>[0.0, 0.0, 0.0, 0.4648672640323639, 0.84022963...</td>\n",
       "      <td>[38, 56, 96, 96]</td>\n",
       "      <td>Untitled1.jpg</td>\n",
       "    </tr>\n",
       "  </tbody>\n",
       "</table>\n",
       "</div>"
      ],
      "text/plain": [
       "                                           embedding           facial_area  \\\n",
       "0  [0.0, 0.0, 0.0, 0.706417441368103, 0.874958515...      [97, 26, 82, 82]   \n",
       "1  [0.0, 0.0, 0.0, 0.0, 1.7701687812805176, 3.962...     [102, 30, 79, 79]   \n",
       "2  [0.0, 0.0, 1.9485583305358887, 0.0, 2.42336130...  [150, 176, 519, 519]   \n",
       "3  [0.0, 0.0, 0.0, 0.4648672640323639, 0.84022963...      [38, 56, 96, 96]   \n",
       "\n",
       "                                     name  \n",
       "0                            Untitled.jpg  \n",
       "1                           Untitled2.jpg  \n",
       "2  Elon_Musk_Colorado_2022_(cropped2).jpg  \n",
       "3                           Untitled1.jpg  "
      ]
     },
     "execution_count": 10,
     "metadata": {},
     "output_type": "execute_result"
    }
   ],
   "source": [
    "embeddings = []\n",
    "face_coords = []\n",
    "names = []\n",
    "\n",
    "df_3 = pd.DataFrame({\"embedding\": [], \"facial_area\": []})\n",
    "\n",
    "for img_name in os.listdir(img_dir):\n",
    "    img_path = os.path.join(img_dir, img_name)\n",
    "    embedding = DeepFace.represent(img_path, model_name=models[3])\n",
    "    embeddings.append(embedding[0][\"embedding\"])\n",
    "    face_coords.append(embedding[0][\"facial_area\"])\n",
    "    names.append(img_name)\n",
    "\n",
    "    dftemp = pd.DataFrame(embedding)\n",
    "    df_3 = pd.concat([df_3, dftemp], ignore_index=True)\n",
    "\n",
    "df_3[\"name\"] = names\n",
    "df_3\n",
    "\n",
    "templist = []\n",
    "\n",
    "for i in range(len(df_3['facial_area'])):\n",
    "    temp = []\n",
    "    for key, value in df_3['facial_area'][i].items():\n",
    "        temp.append(value)\n",
    "    templist.append(temp)\n",
    "\n",
    "df_3['facial_area'] = templist\n",
    "df_3"
   ]
  },
  {
   "cell_type": "code",
   "execution_count": 11,
   "metadata": {},
   "outputs": [
    {
     "data": {
      "text/plain": [
       "[                                           embedding           facial_area  \\\n",
       " 0  [0.009040644392371178, -0.01007477194070816, 0...      [97, 26, 82, 82]   \n",
       " 1  [0.010348817333579063, 0.0034686659928411245, ...     [102, 30, 79, 79]   \n",
       " 2  [0.009841795079410076, 0.020586512982845306, 0...  [150, 176, 519, 519]   \n",
       " 3  [0.00940479151904583, -0.0032933431211858988, ...      [38, 56, 96, 96]   \n",
       " \n",
       "                                      name  \n",
       " 0                            Untitled.jpg  \n",
       " 1                           Untitled2.jpg  \n",
       " 2  Elon_Musk_Colorado_2022_(cropped2).jpg  \n",
       " 3                           Untitled1.jpg  ,\n",
       "                                            embedding           facial_area  \\\n",
       " 0  [-0.40423446893692017, -0.031015239655971527, ...      [97, 26, 82, 82]   \n",
       " 1  [-1.147232174873352, 0.5872104167938232, 0.777...     [102, 30, 79, 79]   \n",
       " 2  [-0.8615654706954956, -0.691304087638855, -0.0...  [150, 176, 519, 519]   \n",
       " 3  [-1.1388880014419556, 0.7310553789138794, -1.6...      [38, 56, 96, 96]   \n",
       " \n",
       "                                      name  \n",
       " 0                            Untitled.jpg  \n",
       " 1                           Untitled2.jpg  \n",
       " 2  Elon_Musk_Colorado_2022_(cropped2).jpg  \n",
       " 3                           Untitled1.jpg  ,\n",
       "                                            embedding           facial_area  \\\n",
       " 0  [0.011916913092136383, -0.011097206734120846, ...      [97, 26, 82, 82]   \n",
       " 1  [0.01661570928990841, -0.005303579848259687, 0...     [102, 30, 79, 79]   \n",
       " 2  [0.1301092952489853, 0.010727978311479092, -0....  [150, 176, 519, 519]   \n",
       " 3  [0.0872940942645073, -0.06920555233955383, 0.0...      [38, 56, 96, 96]   \n",
       " \n",
       "                                      name  \n",
       " 0                            Untitled.jpg  \n",
       " 1                           Untitled2.jpg  \n",
       " 2  Elon_Musk_Colorado_2022_(cropped2).jpg  \n",
       " 3                           Untitled1.jpg  ,\n",
       "                                            embedding           facial_area  \\\n",
       " 0  [0.0, 0.0, 0.0, 0.706417441368103, 0.874958515...      [97, 26, 82, 82]   \n",
       " 1  [0.0, 0.0, 0.0, 0.0, 1.7701687812805176, 3.962...     [102, 30, 79, 79]   \n",
       " 2  [0.0, 0.0, 1.9485583305358887, 0.0, 2.42336130...  [150, 176, 519, 519]   \n",
       " 3  [0.0, 0.0, 0.0, 0.4648672640323639, 0.84022963...      [38, 56, 96, 96]   \n",
       " \n",
       "                                      name  \n",
       " 0                            Untitled.jpg  \n",
       " 1                           Untitled2.jpg  \n",
       " 2  Elon_Musk_Colorado_2022_(cropped2).jpg  \n",
       " 3                           Untitled1.jpg  ]"
      ]
     },
     "execution_count": 11,
     "metadata": {},
     "output_type": "execute_result"
    }
   ],
   "source": [
    "dflist = [df_0, df_1, df_2, df_3]\n",
    "\n",
    "dflist"
   ]
  },
  {
   "cell_type": "code",
   "execution_count": 12,
   "metadata": {},
   "outputs": [
    {
     "data": {
      "text/plain": [
       "[2622, 128, 128, 4096]"
      ]
     },
     "execution_count": 12,
     "metadata": {},
     "output_type": "execute_result"
    }
   ],
   "source": [
    "dimension_list = []\n",
    "\n",
    "for i in dflist:\n",
    "    dimension_list.append(len(i['embedding'][0]))\n",
    "\n",
    "dimension_list"
   ]
  },
  {
   "cell_type": "code",
   "execution_count": 17,
   "metadata": {},
   "outputs": [],
   "source": [
    "import base64\n",
    "def get_base64_encoded_image(image_path):\n",
    "    with open(image_path, \"rb\") as img_file:\n",
    "        return base64.b64encode(img_file.read()).decode('utf-8')\n"
   ]
  },
  {
   "cell_type": "code",
   "execution_count": 22,
   "metadata": {},
   "outputs": [],
   "source": [
    "img = get_base64_encoded_image(\"/var/wd_smit/internal_repos/backups/images/Untitled2.jpg\")\n"
   ]
  },
  {
   "cell_type": "code",
   "execution_count": 23,
   "metadata": {},
   "outputs": [
    {
     "data": {
      "text/plain": [
       "'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'"
      ]
     },
     "execution_count": 23,
     "metadata": {},
     "output_type": "execute_result"
    }
   ],
   "source": [
    "img"
   ]
  },
  {
   "cell_type": "code",
   "execution_count": null,
   "metadata": {},
   "outputs": [],
   "source": []
  }
 ],
 "metadata": {
  "kernelspec": {
   "display_name": "venv",
   "language": "python",
   "name": "python3"
  },
  "language_info": {
   "codemirror_mode": {
    "name": "ipython",
    "version": 3
   },
   "file_extension": ".py",
   "mimetype": "text/x-python",
   "name": "python",
   "nbconvert_exporter": "python",
   "pygments_lexer": "ipython3",
   "version": "3.11.5"
  },
  "orig_nbformat": 4
 },
 "nbformat": 4,
 "nbformat_minor": 2
}
