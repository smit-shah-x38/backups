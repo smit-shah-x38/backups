{
 "cells": [
  {
   "cell_type": "code",
   "execution_count": 1,
   "metadata": {},
   "outputs": [],
   "source": [
    "from elasticsearch import Elasticsearch\n",
    "\n",
    "es = Elasticsearch([{'host': 'localhost', 'port': 9200, 'scheme': 'http'}])"
   ]
  },
  {
   "cell_type": "code",
   "execution_count": 2,
   "metadata": {},
   "outputs": [
    {
     "name": "stderr",
     "output_type": "stream",
     "text": [
      "2023-09-27 11:44:20.182246: I tensorflow/core/util/port.cc:110] oneDNN custom operations are on. You may see slightly different numerical results due to floating-point round-off errors from different computation orders. To turn them off, set the environment variable `TF_ENABLE_ONEDNN_OPTS=0`.\n",
      "2023-09-27 11:44:20.184438: I tensorflow/tsl/cuda/cudart_stub.cc:28] Could not find cuda drivers on your machine, GPU will not be used.\n",
      "2023-09-27 11:44:20.231501: I tensorflow/tsl/cuda/cudart_stub.cc:28] Could not find cuda drivers on your machine, GPU will not be used.\n",
      "2023-09-27 11:44:20.232232: I tensorflow/core/platform/cpu_feature_guard.cc:182] This TensorFlow binary is optimized to use available CPU instructions in performance-critical operations.\n",
      "To enable the following instructions: AVX2 AVX512F AVX512_VNNI FMA, in other operations, rebuild TensorFlow with the appropriate compiler flags.\n",
      "2023-09-27 11:44:21.040994: W tensorflow/compiler/tf2tensorrt/utils/py_utils.cc:38] TF-TRT Warning: Could not find TensorRT\n"
     ]
    }
   ],
   "source": [
    "from deepface import DeepFace\n",
    "import os\n",
    "import pandas as pd"
   ]
  },
  {
   "cell_type": "code",
   "execution_count": 3,
   "metadata": {},
   "outputs": [
    {
     "name": "stderr",
     "output_type": "stream",
     "text": [
      "2023-09-27 11:44:21.920549: I tensorflow/compiler/xla/stream_executor/cuda/cuda_gpu_executor.cc:995] successful NUMA node read from SysFS had negative value (-1), but there must be at least one NUMA node, so returning NUMA node zero. See more at https://github.com/torvalds/linux/blob/v6.0/Documentation/ABI/testing/sysfs-bus-pci#L344-L355\n",
      "2023-09-27 11:44:21.920877: I tensorflow/compiler/xla/stream_executor/cuda/cuda_gpu_executor.cc:995] successful NUMA node read from SysFS had negative value (-1), but there must be at least one NUMA node, so returning NUMA node zero. See more at https://github.com/torvalds/linux/blob/v6.0/Documentation/ABI/testing/sysfs-bus-pci#L344-L355\n",
      "2023-09-27 11:44:21.921164: I tensorflow/compiler/xla/stream_executor/cuda/cuda_gpu_executor.cc:995] successful NUMA node read from SysFS had negative value (-1), but there must be at least one NUMA node, so returning NUMA node zero. See more at https://github.com/torvalds/linux/blob/v6.0/Documentation/ABI/testing/sysfs-bus-pci#L344-L355\n",
      "2023-09-27 11:44:21.921427: I tensorflow/compiler/xla/stream_executor/cuda/cuda_gpu_executor.cc:995] successful NUMA node read from SysFS had negative value (-1), but there must be at least one NUMA node, so returning NUMA node zero. See more at https://github.com/torvalds/linux/blob/v6.0/Documentation/ABI/testing/sysfs-bus-pci#L344-L355\n",
      "2023-09-27 11:44:21.959502: W tensorflow/core/common_runtime/gpu/gpu_device.cc:1960] Cannot dlopen some GPU libraries. Please make sure the missing libraries mentioned above are installed properly if you would like to use GPU. Follow the guide at https://www.tensorflow.org/install/gpu for how to download and setup the required libraries for your platform.\n",
      "Skipping registering GPU devices...\n"
     ]
    }
   ],
   "source": [
    "img_dir = \"/var/wd_smit/internal_repos/backups/images\"\n",
    "models = [\"VGG-Face\", \"Facenet\", \"OpenFace\", \"DeepFace\", \"Dlib\", \"ArcFace\"]\n",
    "embeddings = []\n",
    "face_coords = []\n",
    "names = []\n",
    "\n",
    "df = pd.DataFrame({\"embedding\": [], \"facial_area\": []})\n",
    "\n",
    "for img_name in os.listdir(img_dir):\n",
    "    img_path = os.path.join(img_dir, img_name)\n",
    "    embedding = DeepFace.represent(img_path, model_name=models[1])\n",
    "    embeddings.append(embedding[0][\"embedding\"])\n",
    "    face_coords.append(embedding[0][\"facial_area\"])\n",
    "    names.append(img_name)\n",
    "\n",
    "    dftemp = pd.DataFrame(embedding)\n",
    "    df = pd.concat([df, dftemp], ignore_index=True)\n",
    "\n",
    "df[\"name\"] = names\n",
    "\n",
    "# df['embedding'] = df['embedding'].apply(lambda x: ','.join(map(str, x)))\n",
    "# df['facial_area'] = df['facial_area'].apply(lambda x: ','.join(map(str, x)))"
   ]
  },
  {
   "cell_type": "code",
   "execution_count": 4,
   "metadata": {},
   "outputs": [
    {
     "data": {
      "text/plain": [
       "128"
      ]
     },
     "execution_count": 4,
     "metadata": {},
     "output_type": "execute_result"
    }
   ],
   "source": [
    "len(df['embedding'][2])"
   ]
  },
  {
   "cell_type": "code",
   "execution_count": 5,
   "metadata": {},
   "outputs": [
    {
     "data": {
      "text/plain": [
       "list"
      ]
     },
     "execution_count": 5,
     "metadata": {},
     "output_type": "execute_result"
    }
   ],
   "source": [
    "type(df['embedding'][2])"
   ]
  },
  {
   "cell_type": "code",
   "execution_count": 6,
   "metadata": {},
   "outputs": [
    {
     "data": {
      "text/plain": [
       "[-0.8615654706954956,\n",
       " -0.691304087638855,\n",
       " -0.02600961923599243,\n",
       " -0.33501437306404114,\n",
       " 0.04195718467235565,\n",
       " 0.11102785915136337,\n",
       " 0.016428720206022263,\n",
       " 0.15121285617351532,\n",
       " -0.09640228748321533,\n",
       " 0.010267660021781921,\n",
       " 0.1332949995994568,\n",
       " 0.49596381187438965,\n",
       " 0.4241420030593872,\n",
       " -0.42292293906211853,\n",
       " 0.007298417389392853,\n",
       " -0.5913308262825012,\n",
       " 0.3133944272994995,\n",
       " 0.15267929434776306,\n",
       " 0.2282409816980362,\n",
       " -0.5085062980651855,\n",
       " 0.029473260045051575,\n",
       " -0.5036550164222717,\n",
       " 0.040847212076187134,\n",
       " -0.004681050777435303,\n",
       " 0.21379540860652924,\n",
       " -0.31052738428115845,\n",
       " 0.6320617198944092,\n",
       " -0.13005109131336212,\n",
       " -0.4827842116355896,\n",
       " -0.4682225286960602,\n",
       " -0.7054212093353271,\n",
       " 0.16479316353797913,\n",
       " -0.2541625201702118,\n",
       " 0.4381856918334961,\n",
       " 0.5066251754760742,\n",
       " 0.06255875527858734,\n",
       " 0.6990558505058289,\n",
       " -0.40486565232276917,\n",
       " -0.025259539484977722,\n",
       " -0.5732600688934326,\n",
       " 0.48674696683883667,\n",
       " 0.9974526762962341,\n",
       " 0.28450530767440796,\n",
       " 0.5473789572715759,\n",
       " -0.1301756352186203,\n",
       " -0.714277446269989,\n",
       " 0.1149199903011322,\n",
       " -0.872098445892334,\n",
       " 0.627103865146637,\n",
       " 0.007866697385907173,\n",
       " -1.197614312171936,\n",
       " 0.08876897394657135,\n",
       " 0.4614208936691284,\n",
       " -0.7589962482452393,\n",
       " -0.1186719536781311,\n",
       " 0.2339676171541214,\n",
       " 0.9366992712020874,\n",
       " 0.1201508641242981,\n",
       " -0.24107316136360168,\n",
       " -1.002813458442688,\n",
       " -0.16348913311958313,\n",
       " 0.7452178001403809,\n",
       " -0.39351317286491394,\n",
       " 0.6681665778160095,\n",
       " -0.24067986011505127,\n",
       " 1.1352986097335815,\n",
       " 0.23587676882743835,\n",
       " 0.1717844009399414,\n",
       " -0.026971599087119102,\n",
       " -0.24619649350643158,\n",
       " 0.4869120121002197,\n",
       " 0.02764555811882019,\n",
       " -0.09051115810871124,\n",
       " -0.685340166091919,\n",
       " 0.9534651041030884,\n",
       " -0.46950027346611023,\n",
       " -0.6152584552764893,\n",
       " 0.04167547821998596,\n",
       " -0.25912365317344666,\n",
       " -0.17152735590934753,\n",
       " 0.05893173813819885,\n",
       " 0.004020184278488159,\n",
       " -0.657716691493988,\n",
       " -0.502686619758606,\n",
       " 0.35981523990631104,\n",
       " 0.9499126672744751,\n",
       " -0.0016410164535045624,\n",
       " 0.8288381695747375,\n",
       " -0.876529335975647,\n",
       " 1.1252062320709229,\n",
       " -0.019772969186306,\n",
       " 0.3826802670955658,\n",
       " -0.7184450030326843,\n",
       " 0.10819710791110992,\n",
       " 0.45066821575164795,\n",
       " 0.7992993593215942,\n",
       " -0.20777194201946259,\n",
       " -0.7045779824256897,\n",
       " -0.24476978182792664,\n",
       " 0.6936929225921631,\n",
       " 0.015244361013174057,\n",
       " 0.06325239688158035,\n",
       " 0.10854852199554443,\n",
       " -0.9517132043838501,\n",
       " 0.4515007734298706,\n",
       " 0.13801783323287964,\n",
       " -0.0449553057551384,\n",
       " -0.7270561456680298,\n",
       " -0.0764392763376236,\n",
       " -0.47457271814346313,\n",
       " -0.003952467814087868,\n",
       " 0.22269169986248016,\n",
       " 0.37858790159225464,\n",
       " 0.5152897238731384,\n",
       " -0.35238927602767944,\n",
       " 0.2801709771156311,\n",
       " -0.6972801685333252,\n",
       " 0.16952359676361084,\n",
       " 0.9921323657035828,\n",
       " 0.7023344039916992,\n",
       " -0.38338160514831543,\n",
       " -0.9372094869613647,\n",
       " 0.3673556447029114,\n",
       " -0.20311644673347473,\n",
       " 0.5255828499794006,\n",
       " -0.4785633981227875,\n",
       " 1.4815136194229126,\n",
       " 0.17721809446811676]"
      ]
     },
     "execution_count": 6,
     "metadata": {},
     "output_type": "execute_result"
    }
   ],
   "source": [
    "df['embedding'][2]"
   ]
  },
  {
   "cell_type": "code",
   "execution_count": 7,
   "metadata": {},
   "outputs": [
    {
     "data": {
      "text/plain": [
       "0        {'x': 97, 'y': 26, 'w': 82, 'h': 82}\n",
       "1       {'x': 102, 'y': 30, 'w': 79, 'h': 79}\n",
       "2    {'x': 150, 'y': 176, 'w': 519, 'h': 519}\n",
       "3        {'x': 38, 'y': 56, 'w': 96, 'h': 96}\n",
       "Name: facial_area, dtype: object"
      ]
     },
     "execution_count": 7,
     "metadata": {},
     "output_type": "execute_result"
    }
   ],
   "source": [
    "df['facial_area']"
   ]
  },
  {
   "cell_type": "code",
   "execution_count": 8,
   "metadata": {},
   "outputs": [],
   "source": [
    "templist = []\n",
    "\n",
    "for i in range(len(df['facial_area'])):\n",
    "    temp = []\n",
    "    for key, value in df['facial_area'][i].items():\n",
    "        temp.append(value)\n",
    "    templist.append(temp)"
   ]
  },
  {
   "cell_type": "code",
   "execution_count": 9,
   "metadata": {},
   "outputs": [
    {
     "data": {
      "text/plain": [
       "[[97, 26, 82, 82], [102, 30, 79, 79], [150, 176, 519, 519], [38, 56, 96, 96]]"
      ]
     },
     "execution_count": 9,
     "metadata": {},
     "output_type": "execute_result"
    }
   ],
   "source": [
    "templist"
   ]
  },
  {
   "cell_type": "code",
   "execution_count": 10,
   "metadata": {},
   "outputs": [],
   "source": [
    "df['facial_area'] = templist"
   ]
  },
  {
   "cell_type": "code",
   "execution_count": 11,
   "metadata": {},
   "outputs": [
    {
     "data": {
      "text/plain": [
       "0        [97, 26, 82, 82]\n",
       "1       [102, 30, 79, 79]\n",
       "2    [150, 176, 519, 519]\n",
       "3        [38, 56, 96, 96]\n",
       "Name: facial_area, dtype: object"
      ]
     },
     "execution_count": 11,
     "metadata": {},
     "output_type": "execute_result"
    }
   ],
   "source": [
    "df['facial_area']"
   ]
  },
  {
   "cell_type": "code",
   "execution_count": 12,
   "metadata": {},
   "outputs": [
    {
     "data": {
      "text/html": [
       "<div>\n",
       "<style scoped>\n",
       "    .dataframe tbody tr th:only-of-type {\n",
       "        vertical-align: middle;\n",
       "    }\n",
       "\n",
       "    .dataframe tbody tr th {\n",
       "        vertical-align: top;\n",
       "    }\n",
       "\n",
       "    .dataframe thead th {\n",
       "        text-align: right;\n",
       "    }\n",
       "</style>\n",
       "<table border=\"1\" class=\"dataframe\">\n",
       "  <thead>\n",
       "    <tr style=\"text-align: right;\">\n",
       "      <th></th>\n",
       "      <th>embedding</th>\n",
       "      <th>facial_area</th>\n",
       "      <th>name</th>\n",
       "    </tr>\n",
       "  </thead>\n",
       "  <tbody>\n",
       "    <tr>\n",
       "      <th>0</th>\n",
       "      <td>[-0.40423446893692017, -0.031015239655971527, ...</td>\n",
       "      <td>[97, 26, 82, 82]</td>\n",
       "      <td>Untitled.jpg</td>\n",
       "    </tr>\n",
       "    <tr>\n",
       "      <th>1</th>\n",
       "      <td>[-1.147232174873352, 0.5872104167938232, 0.777...</td>\n",
       "      <td>[102, 30, 79, 79]</td>\n",
       "      <td>Untitled2.jpg</td>\n",
       "    </tr>\n",
       "    <tr>\n",
       "      <th>2</th>\n",
       "      <td>[-0.8615654706954956, -0.691304087638855, -0.0...</td>\n",
       "      <td>[150, 176, 519, 519]</td>\n",
       "      <td>Elon_Musk_Colorado_2022_(cropped2).jpg</td>\n",
       "    </tr>\n",
       "    <tr>\n",
       "      <th>3</th>\n",
       "      <td>[-1.1388880014419556, 0.7310553789138794, -1.6...</td>\n",
       "      <td>[38, 56, 96, 96]</td>\n",
       "      <td>Untitled1.jpg</td>\n",
       "    </tr>\n",
       "  </tbody>\n",
       "</table>\n",
       "</div>"
      ],
      "text/plain": [
       "                                           embedding           facial_area  \\\n",
       "0  [-0.40423446893692017, -0.031015239655971527, ...      [97, 26, 82, 82]   \n",
       "1  [-1.147232174873352, 0.5872104167938232, 0.777...     [102, 30, 79, 79]   \n",
       "2  [-0.8615654706954956, -0.691304087638855, -0.0...  [150, 176, 519, 519]   \n",
       "3  [-1.1388880014419556, 0.7310553789138794, -1.6...      [38, 56, 96, 96]   \n",
       "\n",
       "                                     name  \n",
       "0                            Untitled.jpg  \n",
       "1                           Untitled2.jpg  \n",
       "2  Elon_Musk_Colorado_2022_(cropped2).jpg  \n",
       "3                           Untitled1.jpg  "
      ]
     },
     "execution_count": 12,
     "metadata": {},
     "output_type": "execute_result"
    }
   ],
   "source": [
    "df"
   ]
  },
  {
   "cell_type": "code",
   "execution_count": 13,
   "metadata": {},
   "outputs": [],
   "source": [
    "# # Create an index\n",
    "# es.indices.create(index='base_index', body={\n",
    "#   \"mappings\": {\n",
    "#     \"properties\": {\n",
    "#       \"embedding\": {\n",
    "#         \"type\": \"dense_vector\",\n",
    "#         \"dims\": 128\n",
    "#       },\n",
    "#       \"facial_area\": {\n",
    "#         \"type\": \"dense_vector\",\n",
    "#         \"dims\": 4\n",
    "#       },\n",
    "#       \"name\":{\n",
    "#         \"type\": \"keyword\"\n",
    "#       }\n",
    "#     }\n",
    "#   }\n",
    "# })"
   ]
  },
  {
   "cell_type": "code",
   "execution_count": 14,
   "metadata": {},
   "outputs": [],
   "source": [
    "# for i, row in df.iterrows():\n",
    "#     # Convert the row to a dictionary\n",
    "#     doc = row.to_dict()\n",
    "\n",
    "#     # Index the document\n",
    "#     es.index(index='base_index', body=doc)"
   ]
  },
  {
   "cell_type": "code",
   "execution_count": 15,
   "metadata": {},
   "outputs": [],
   "source": [
    "# queryvec = df['embedding'][2]"
   ]
  },
  {
   "cell_type": "code",
   "execution_count": 16,
   "metadata": {},
   "outputs": [],
   "source": [
    "# res = es.search(index='my-index', body={\n",
    "#     'query': {\n",
    "#         'match': {\n",
    "#             'embedding': queryvec\n",
    "#         }\n",
    "#     }\n",
    "# })"
   ]
  },
  {
   "cell_type": "code",
   "execution_count": 17,
   "metadata": {},
   "outputs": [],
   "source": [
    "# res"
   ]
  },
  {
   "cell_type": "code",
   "execution_count": 18,
   "metadata": {},
   "outputs": [],
   "source": [
    "# res['hits']"
   ]
  },
  {
   "cell_type": "code",
   "execution_count": 19,
   "metadata": {},
   "outputs": [],
   "source": [
    "# resp = es.search(index=\"base_index\", query={\"match_all\": {}})"
   ]
  },
  {
   "cell_type": "code",
   "execution_count": 20,
   "metadata": {},
   "outputs": [],
   "source": [
    "# resp"
   ]
  },
  {
   "cell_type": "code",
   "execution_count": 21,
   "metadata": {},
   "outputs": [],
   "source": [
    "# es.indices.delete(index='*')"
   ]
  },
  {
   "cell_type": "code",
   "execution_count": 22,
   "metadata": {},
   "outputs": [
    {
     "name": "stdout",
     "output_type": "stream",
     "text": [
      "Looking in indexes: https://pypi.org/simple, https://pypi.ngc.nvidia.com\n",
      "Requirement already satisfied: scipy in /opt/conda/envs/venv/lib/python3.11/site-packages (1.11.2)\n",
      "Requirement already satisfied: numpy<1.28.0,>=1.21.6 in /opt/conda/envs/venv/lib/python3.11/site-packages (from scipy) (1.24.3)\n",
      "\u001b[33mWARNING: Running pip as the 'root' user can result in broken permissions and conflicting behaviour with the system package manager. It is recommended to use a virtual environment instead: https://pip.pypa.io/warnings/venv\u001b[0m\u001b[33m\n",
      "\u001b[0mNote: you may need to restart the kernel to use updated packages.\n"
     ]
    }
   ],
   "source": [
    "%pip install scipy"
   ]
  },
  {
   "cell_type": "code",
   "execution_count": 23,
   "metadata": {},
   "outputs": [],
   "source": [
    "import numpy as np\n",
    "from scipy import spatial"
   ]
  },
  {
   "cell_type": "code",
   "execution_count": 24,
   "metadata": {},
   "outputs": [],
   "source": [
    "list_of_distances = []\n",
    "\n",
    "for i in df['embedding']:\n",
    "    temp = []\n",
    "    for j in df['embedding']:\n",
    "        result = 1 - spatial.distance.cosine(i, j)\n",
    "        temp.append(result)\n",
    "    list_of_distances.append(temp)    "
   ]
  },
  {
   "cell_type": "code",
   "execution_count": 25,
   "metadata": {},
   "outputs": [
    {
     "data": {
      "text/plain": [
       "[[1, 0.03148167553714143, 0.07794618569688394, 0.19068504593729085],\n",
       " [0.03148167553714143, 1, -0.11457911017833777, 0.23277863016311273],\n",
       " [0.07794618569688394, -0.11457911017833777, 1, 0.0733383233230952],\n",
       " [0.19068504593729085, 0.23277863016311273, 0.0733383233230952, 1]]"
      ]
     },
     "execution_count": 25,
     "metadata": {},
     "output_type": "execute_result"
    }
   ],
   "source": [
    "list_of_distances"
   ]
  },
  {
   "cell_type": "code",
   "execution_count": 27,
   "metadata": {},
   "outputs": [],
   "source": [
    "stats = []"
   ]
  },
  {
   "cell_type": "code",
   "execution_count": 26,
   "metadata": {},
   "outputs": [
    {
     "name": "stdout",
     "output_type": "stream",
     "text": [
      "[1, 0.03148167553714143, 0.07794618569688394, 0.19068504593729085]\n",
      "[0.03148167553714143, 1, -0.11457911017833777, 0.23277863016311273]\n",
      "[0.07794618569688394, -0.11457911017833777, 1, 0.0733383233230952]\n",
      "[0.19068504593729085, 0.23277863016311273, 0.0733383233230952, 1]\n"
     ]
    }
   ],
   "source": [
    "for i in list_of_distances:\n",
    "    print(i)"
   ]
  },
  {
   "cell_type": "code",
   "execution_count": 28,
   "metadata": {},
   "outputs": [
    {
     "name": "stdout",
     "output_type": "stream",
     "text": [
      "0.19068504593729085 3\n",
      "0.23277863016311273 3\n",
      "0.07794618569688394 0\n",
      "0.23277863016311273 1\n"
     ]
    }
   ],
   "source": [
    "for i in list_of_distances:\n",
    "    temp = []\n",
    "    maximum = 0\n",
    "    for j in i:\n",
    "        if j != 1:\n",
    "            if j > maximum:\n",
    "                maximum = j\n",
    "\n",
    "    print(maximum, i.index(maximum))\n",
    "    temp.append(maximum)\n",
    "    temp.append(i.index(maximum))    \n",
    "    stats.append(temp)"
   ]
  },
  {
   "cell_type": "code",
   "execution_count": 29,
   "metadata": {},
   "outputs": [
    {
     "data": {
      "text/plain": [
       "[[0.19068504593729085, 3],\n",
       " [0.23277863016311273, 3],\n",
       " [0.07794618569688394, 0],\n",
       " [0.23277863016311273, 1]]"
      ]
     },
     "execution_count": 29,
     "metadata": {},
     "output_type": "execute_result"
    }
   ],
   "source": [
    "stats"
   ]
  },
  {
   "cell_type": "code",
   "execution_count": null,
   "metadata": {},
   "outputs": [],
   "source": []
  }
 ],
 "metadata": {
  "kernelspec": {
   "display_name": "venv",
   "language": "python",
   "name": "python3"
  },
  "language_info": {
   "codemirror_mode": {
    "name": "ipython",
    "version": 3
   },
   "file_extension": ".py",
   "mimetype": "text/x-python",
   "name": "python",
   "nbconvert_exporter": "python",
   "pygments_lexer": "ipython3",
   "version": "3.11.5"
  },
  "orig_nbformat": 4
 },
 "nbformat": 4,
 "nbformat_minor": 2
}
